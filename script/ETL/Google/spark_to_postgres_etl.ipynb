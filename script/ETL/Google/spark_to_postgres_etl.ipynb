{
 "cells": [
  {
   "cell_type": "code",
   "execution_count": 111,
   "metadata": {},
   "outputs": [],
   "source": [
    "\n",
    "import os\n",
    "os.environ[\"JAVA_HOME\"] = \"/usr/lib/jvm/java-8-openjdk-amd64\"\n",
    "os.environ[\"SPARK_HOME\"] = \"/project/spark-3.2.1-bin-hadoop3.2\""
   ]
  },
  {
   "cell_type": "code",
   "execution_count": 112,
   "metadata": {},
   "outputs": [],
   "source": [
    "import glob\n",
    "import json"
   ]
  },
  {
   "cell_type": "code",
   "execution_count": 113,
   "metadata": {},
   "outputs": [],
   "source": [
    "from pyspark.sql import SparkSession\n",
    "\n",
    "spark = SparkSession \\\n",
    "    .builder \\\n",
    "    .appName(\"PySpark App\") \\\n",
    "    .config(\"spark.jars\", \"/project/postgresql-42.3.2.jar\") \\\n",
    "    .getOrCreate()"
   ]
  },
  {
   "cell_type": "code",
   "execution_count": 127,
   "metadata": {},
   "outputs": [],
   "source": [
    "postgres_uri = \"jdbc:postgresql://demsin0166.czfwea5noxbs.eu-west-2.rds.amazonaws.com:5432/initialdatabase\"\n",
    "dbtable = \"public.google\"\n",
    "user = \"luan\"\n",
    "password = \"qwerty1234\""
   ]
  },
  {
   "cell_type": "code",
   "execution_count": 115,
   "metadata": {
    "scrolled": true
   },
   "outputs": [
    {
     "name": "stdout",
     "output_type": "stream",
     "text": [
      "root\n",
      " |-- google_id: string (nullable = true)\n",
      " |-- restaurant_id: string (nullable = true)\n",
      " |-- restaurant_name: string (nullable = true)\n",
      " |-- address: string (nullable = true)\n",
      " |-- postcode: string (nullable = true)\n",
      " |-- website: string (nullable = true)\n",
      " |-- phone_number: string (nullable = true)\n",
      " |-- rating: string (nullable = true)\n",
      " |-- total_ratings: string (nullable = true)\n",
      " |-- price_level: string (nullable = true)\n",
      "\n"
     ]
    }
   ],
   "source": [
    "df = spark.read \\\n",
    "    .format(\"jdbc\") \\\n",
    "    .option(\"url\", postgres_uri) \\\n",
    "    .option(\"dbtable\", dbtable) \\\n",
    "    .option(\"user\", user) \\\n",
    "    .option(\"password\", password) \\\n",
    "    .option(\"driver\", \"org.postgresql.Driver\") \\\n",
    "    .load()\n",
    "\n",
    "df.printSchema()"
   ]
  },
  {
   "cell_type": "code",
   "execution_count": 94,
   "metadata": {},
   "outputs": [],
   "source": [
    "def get_variables(data):\n",
    "    google_id = data['google_id']\n",
    "    identifier = data['result']['name'].replace(\" \", \"\").replace(\"'\", \"\").replace(\"’\", \"\").lower()\n",
    "    restaurant_name = data['result']['name'].replace(\"'\", \"\").replace(\"’\", \"\")\n",
    "    try:\n",
    "        address = data['result']['formatted_address'].replace(\"'\", \"\")\n",
    "    except:\n",
    "        address = 'no address'\n",
    "    try:\n",
    "        postcode = data['result']['address_components'][6]['long_name']\n",
    "    except:\n",
    "        postcode = 'no postcode'\n",
    "    try:\n",
    "        website = data['result']['website']\n",
    "    except:\n",
    "        website = 'no website'\n",
    "    try:\n",
    "        phone_number = data['result']['formatted_phone_number']\n",
    "    except:\n",
    "        phone_number = 'no phone number'\n",
    "    try:\n",
    "        opening_hours = str(data['result']['opening_hours']['weekday_text'])\n",
    "    except:\n",
    "        opening_hours = 'no opening hours'\n",
    "    try:\n",
    "        rating = str(data['result']['rating'])\n",
    "    except:\n",
    "        rating = 'no rating'\n",
    "    try:\n",
    "        total_ratings = str(data['result']['user_ratings_total'])\n",
    "    except:\n",
    "        total_ratings = 'no total ratings'\n",
    "    try:\n",
    "        price_level = str(data['result']['price_level'])\n",
    "    except:\n",
    "        price_level = 'no price level'\n",
    "    \n",
    "    \n",
    "    return google_id, identifier,restaurant_name, address, postcode, website, phone_number, rating, total_ratings, price_level"
   ]
  },
  {
   "cell_type": "code",
   "execution_count": 126,
   "metadata": {
    "scrolled": false
   },
   "outputs": [],
   "source": [
    "parquet_filepath = []\n",
    "\n",
    "for filepath in glob.iglob('/project/parquet/*.parquet'):\n",
    "    parquet_filepath.append(filepath)"
   ]
  },
  {
   "cell_type": "code",
   "execution_count": 68,
   "metadata": {
    "scrolled": true
   },
   "outputs": [],
   "source": [
    "def convert_json(restaurant):\n",
    "    df1 = spark.read.parquet(restaurant)\n",
    "    json_data = json.loads(df1.toJSON().first())\n",
    "    return get_variables(json_data)"
   ]
  },
  {
   "cell_type": "code",
   "execution_count": 96,
   "metadata": {
    "scrolled": true
   },
   "outputs": [
    {
     "data": {
      "text/plain": [
       "('ChIJiSGXNhYGdkgRnpnw1YxNrqo',\n",
       " 'amruthalounge',\n",
       " 'Amrutha Lounge',\n",
       " '326 Garratt Ln, London SW18 4EJ, UK',\n",
       " 'SW18 4EJ',\n",
       " 'http://www.amrutha.co.uk/',\n",
       " '020 8001 4628',\n",
       " '4.9',\n",
       " '884',\n",
       " '1')"
      ]
     },
     "execution_count": 96,
     "metadata": {},
     "output_type": "execute_result"
    }
   ],
   "source": [
    "convert_json('/project/parquet/Amrutha Lounge.parquet')"
   ]
  },
  {
   "cell_type": "code",
   "execution_count": 95,
   "metadata": {},
   "outputs": [],
   "source": [
    "df2 = [convert_json(i) for i in parquet_filepath]"
   ]
  },
  {
   "cell_type": "code",
   "execution_count": 124,
   "metadata": {},
   "outputs": [],
   "source": [
    "google_df = spark.createDataFrame(\n",
    "        df2,\n",
    "    ['google_id', 'restaurant_id', 'restaurant_name', 'address', 'postcode', 'website', 'phone_number', 'rating','total_ratings', 'price_level']\n",
    ")"
   ]
  },
  {
   "cell_type": "code",
   "execution_count": 123,
   "metadata": {
    "scrolled": false
   },
   "outputs": [],
   "source": [
    "google_df.write.mode(\"append\") \\\n",
    "    .format(\"jdbc\") \\\n",
    "    .option(\"url\", postgres_uri) \\\n",
    "    .option(\"dbtable\", \"public.google\") \\\n",
    "    .option(\"user\", user) \\\n",
    "    .option(\"password\", password) \\\n",
    "    .option(\"driver\", \"org.postgresql.Driver\") \\\n",
    "    .save()"
   ]
  },
  {
   "cell_type": "code",
   "execution_count": null,
   "metadata": {},
   "outputs": [],
   "source": []
  }
 ],
 "metadata": {
  "kernelspec": {
   "display_name": "Python [conda env:Python3] *",
   "language": "python",
   "name": "conda-env-Python3-py"
  },
  "language_info": {
   "codemirror_mode": {
    "name": "ipython",
    "version": 3
   },
   "file_extension": ".py",
   "mimetype": "text/x-python",
   "name": "python",
   "nbconvert_exporter": "python",
   "pygments_lexer": "ipython3",
   "version": "3.8.2"
  }
 },
 "nbformat": 4,
 "nbformat_minor": 2
}
