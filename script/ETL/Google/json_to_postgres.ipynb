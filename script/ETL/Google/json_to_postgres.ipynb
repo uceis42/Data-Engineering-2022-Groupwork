{
 "cells": [
  {
   "cell_type": "code",
   "execution_count": 54,
   "metadata": {},
   "outputs": [],
   "source": [
    "import requests\n",
    "import json\n",
    "from psycopg2 import connect"
   ]
  },
  {
   "cell_type": "code",
   "execution_count": 74,
   "metadata": {},
   "outputs": [],
   "source": [
    "def get_variables(data):\n",
    "    google_id = data['google_id']\n",
    "    #identifier = data['result']['name'].replace(\" \", \"\").lower()\n",
    "    restaurant_name = data['result']['name']\n",
    "    try:\n",
    "        address = data['result']['formatted_address'].replace(\"'\", \"\")\n",
    "    except:\n",
    "        address = 'no address'\n",
    "    try:\n",
    "        postcode = data['result']['address_components'][6]['long_name']\n",
    "    except:\n",
    "        postcode = 'no postcode'\n",
    "    try:\n",
    "        website = data['result']['website']\n",
    "    except:\n",
    "        website = 'no website'\n",
    "    try:\n",
    "        phone_number = data['result']['formatted_phone_number']\n",
    "    except:\n",
    "        phone_number = 'no phone number'\n",
    "    try:\n",
    "        opening_hours = str(data['result']['opening_hours']['weekday_text'])\n",
    "    except:\n",
    "        opening_hours = 'no opening hours'\n",
    "    try:\n",
    "        rating = data['result']['rating']\n",
    "    except:\n",
    "        rating = 'no rating'\n",
    "    try:\n",
    "        total_ratings = data['result']['user_ratings_total']\n",
    "    except:\n",
    "        total_ratings = 'no total ratings'\n",
    "    try:\n",
    "        price_level = data['result']['price_level']\n",
    "    except:\n",
    "        price_level = 'no price level'\n",
    "    \n",
    "    \n",
    "    return google_id, restaurant_name, address, postcode, website, phone_number, rating, total_ratings, price_level"
   ]
  },
  {
   "cell_type": "code",
   "execution_count": 76,
   "metadata": {},
   "outputs": [],
   "source": [
    "def etl(restaurant):\n",
    "    url = f\"https://maps.googleapis.com/maps/api/place/findplacefromtext/json?input={restaurant}%20London&inputtype=textquery&fields=place_id&key=apikey\"\n",
    "    \n",
    "    payload={}\n",
    "    headers = {}\n",
    "    response = requests.get(url, headers=headers, data=payload)\n",
    "\n",
    "    restaurant_id = json.loads(response.text)\n",
    "    rest = restaurant_id['candidates'][0]['place_id']\n",
    "    \n",
    "    url = f\"https://maps.googleapis.com/maps/api/place/details/json?place_id={rest}&key=apikey\"\n",
    "    \n",
    "    payload={}\n",
    "    headers = {}\n",
    "\n",
    "    response = requests.request(\"GET\", url, headers=headers, data=payload)\n",
    "    \n",
    "    json_data = response.json()\n",
    "    \n",
    "    google_id = {'google_id' : rest}\n",
    "    \n",
    "    json_data.update(google_id)\n",
    "    \n",
    "    table_name = 'public.google'\n",
    "    sql_string = f'INSERT INTO {table_name}\\nVALUES {get_variables(json_data)};'\n",
    "\n",
    "    conn = connect(\n",
    "        dbname = \"initialdatabase\",\n",
    "        user = \"username\",\n",
    "        host = \"demsin0166.czfwea5noxbs.eu-west-2.rds.amazonaws.com\",\n",
    "        password = \"password\")\n",
    "    \n",
    "    cur = conn.cursor()\n",
    "    \n",
    "    try:\n",
    "        cur.execute( sql_string )\n",
    "        conn.commit()\n",
    "        print(f'{restaurant} added to database')\n",
    "    except:\n",
    "        print(f'{restaurant} already in database')\n",
    "    \n",
    "    cur.close()\n",
    "    conn.close()\n",
    "    "
   ]
  },
  {
   "cell_type": "code",
   "execution_count": 72,
   "metadata": {
    "scrolled": false
   },
   "outputs": [],
   "source": [
    "res_list = ['Bonoo Indian Tapas', 'Hibox', 'Scarlett Green', 'Devine Restaurant Coffee Bar', 'Indian Room', 'Nora Cafe', 'Amrutha Lounge', 'Bayleaf Restaurant', 'Andy’s Greek Taverna', 'Alexander the Great', 'Chamisse', 'Taste Of Nawab', 'Muhib Indian Cuisine', 'Spasso', 'Awesome Thai Finchley', 'Indian Moment', 'Bruce Burgers', 'Tania’s of Hampstead', 'Cafe Parisienne', 'The Rajdoot']"
   ]
  },
  {
   "cell_type": "code",
   "execution_count": 73,
   "metadata": {},
   "outputs": [
    {
     "name": "stdout",
     "output_type": "stream",
     "text": [
      "Bonoo Indian Tapas already in database\n",
      "Hibox already in database\n",
      "Scarlett Green already in database\n",
      "Devine Restaurant Coffee Bar already in database\n",
      "Indian Room already in database\n",
      "Nora Cafe already in database\n",
      "Amrutha Lounge already in database\n",
      "Bayleaf Restaurant already in database\n",
      "Andy’s Greek Taverna already in database\n",
      "Alexander the Great already in database\n",
      "Chamisse already in database\n",
      "Taste Of Nawab already in database\n",
      "Muhib Indian Cuisine already in database\n",
      "Spasso already in database\n",
      "Awesome Thai Finchley already in database\n",
      "Indian Moment already in database\n",
      "Bruce Burgers already in database\n",
      "Tania’s of Hampstead already in database\n",
      "Cafe Parisienne already in database\n",
      "The Rajdoot already in database\n"
     ]
    }
   ],
   "source": [
    "for i in res_list:\n",
    "    etl(i)"
   ]
  },
  {
   "cell_type": "code",
   "execution_count": 79,
   "metadata": {
    "scrolled": true
   },
   "outputs": [
    {
     "name": "stdout",
     "output_type": "stream",
     "text": [
      "Goldmine added to database\n"
     ]
    }
   ],
   "source": [
    "etl(\"Goldmine\")"
   ]
  },
  {
   "cell_type": "code",
   "execution_count": null,
   "metadata": {},
   "outputs": [],
   "source": []
  }
 ],
 "metadata": {
  "kernelspec": {
   "display_name": "Python [conda env:Python3] *",
   "language": "python",
   "name": "conda-env-Python3-py"
  },
  "language_info": {
   "codemirror_mode": {
    "name": "ipython",
    "version": 3
   },
   "file_extension": ".py",
   "mimetype": "text/x-python",
   "name": "python",
   "nbconvert_exporter": "python",
   "pygments_lexer": "ipython3",
   "version": "3.8.2"
  }
 },
 "nbformat": 4,
 "nbformat_minor": 2
}
