{
 "cells": [
  {
   "cell_type": "code",
   "execution_count": 1,
   "metadata": {},
   "outputs": [],
   "source": [
    "import requests\n",
    "import json\n",
    "from psycopg2 import connect"
   ]
  },
  {
   "cell_type": "code",
   "execution_count": 24,
   "metadata": {},
   "outputs": [],
   "source": [
    "# function to get review details from json file\n",
    "def get_reviews(data, x):\n",
    "    google_id = data['google_id']\n",
    "    try:\n",
    "        author_name = data['result']['reviews'][x]['author_name'].replace(\"'\", \"\")\n",
    "    except:\n",
    "        author_name = 'no review'\n",
    "    try:\n",
    "        author_url = data['result']['reviews'][x]['author_url']\n",
    "    except:\n",
    "        author_url = 'no review'\n",
    "    try:\n",
    "        rating = data['result']['reviews'][x]['rating']\n",
    "    except:\n",
    "        rating = 'no review'\n",
    "    try:\n",
    "        text = data['result']['reviews'][x]['text'].replace(\"'\", \"\")\n",
    "    except:\n",
    "        text =  'no review'\n",
    "    return google_id, author_name, author_url, rating, text"
   ]
  },
  {
   "cell_type": "code",
   "execution_count": null,
   "metadata": {},
   "outputs": [],
   "source": []
  },
  {
   "cell_type": "code",
   "execution_count": 26,
   "metadata": {},
   "outputs": [],
   "source": [
    "def etl_review(restaurant):\n",
    "    # search the restaurant using google api limited to London\n",
    "    url = f\"https://maps.googleapis.com/maps/api/place/findplacefromtext/json?input={restaurant}%20London&inputtype=textquery&fields=place_id&key=apikey\"\n",
    "    \n",
    "    payload={}\n",
    "    headers = {}\n",
    "    response = requests.get(url, headers=headers, data=payload)\n",
    "    # load response into a json format\n",
    "    restaurant_id = json.loads(response.text)\n",
    "    # extract google_id from json file\n",
    "    rest = restaurant_id['candidates'][0]['place_id']\n",
    "    # use the google_id to extract information from place details api\n",
    "    url = f\"https://maps.googleapis.com/maps/api/place/details/json?place_id={rest}&key=apikey\"\n",
    "    \n",
    "    payload={}\n",
    "    headers = {}\n",
    "\n",
    "    response = requests.request(\"GET\", url, headers=headers, data=payload)\n",
    "    # load response into a json format\n",
    "    json_data = response.json()\n",
    "    # add google_id into the json file\n",
    "    google_id = {'google_id' : rest}\n",
    "    json_data.update(google_id)\n",
    "    # define the postgres table to insert the data\n",
    "    table_name = 'public.google_reviews'\n",
    "    # define a SQL query with variables into a string\n",
    "    sql_string = f'INSERT INTO {table_name} (google_id, author_name, author_url, rating, text)\\nVALUES {str([get_reviews(json_data,i) for i in range(3)]).strip(\"[]\")};'\n",
    "    # connect to the posgres database\n",
    "    conn = connect(\n",
    "        dbname = \"initialdatabase\",\n",
    "        user = \"luan\",\n",
    "        host = \"demsin0166.czfwea5noxbs.eu-west-2.rds.amazonaws.com\",\n",
    "        password = \"qwerty1234\")\n",
    "    # initiate a cursor\n",
    "    cur = conn.cursor()\n",
    "    \n",
    "    try:\n",
    "        # execute the query string in the database\n",
    "        cur.execute( sql_string )\n",
    "        conn.commit()\n",
    "        print(f'{restaurant} added to database')\n",
    "    except:\n",
    "        print(f'{restaurant} already in database')\n",
    "    # close the connection\n",
    "    cur.close()\n",
    "    conn.close()\n",
    "    "
   ]
  },
  {
   "cell_type": "code",
   "execution_count": 22,
   "metadata": {},
   "outputs": [],
   "source": [
    "list_rest = [\"Bonoo Indian Tapas\",\n",
    "\"Hibox\",\"Scarlett Green\",\n",
    "\"Devine Restaurant Coffee Bar\",\n",
    "\"Indian Room\",\n",
    "\"Nora Cafe\",\n",
    "\"Bayleaf Restaurant\",\n",
    "\"Amrutha Lounge\",\n",
    "'Andy''s Greek Taverna',\n",
    "\"Alexander The Great\",\n",
    "\"Chamisse\",\n",
    "\"Muhib Indian Cuisine\",\n",
    "\"Spasso\",\n",
    "\"Taste Of Nawab\",\n",
    "\"Awesome Thai Finchley\",\n",
    "\"Indian Moment\",\n",
    "\"Bruce Burgers\",\n",
    "'Tania''s of Hampstead',\n",
    "\"The Rajdoot\",\n",
    "\"Cafe Parisienne\",\n",
    "\"The Rajdoot Hampstead\",\n",
    "\"The Wine Place Covent Garden\",\n",
    "\"The Park Room\",\n",
    "'Manuel''s Restaurant and Bar',\n",
    "'Lizzie''s Cucina - Italian Restaurant',\n",
    "\"Dobar\",\n",
    "\"Room 43 Bar & Kitchen\",\n",
    "\"Paladar\",\n",
    "\"Launceston Place\",\n",
    "\"Eastern Eye Balti House\"]"
   ]
  },
  {
   "cell_type": "code",
   "execution_count": 23,
   "metadata": {
    "scrolled": true
   },
   "outputs": [
    {
     "name": "stdout",
     "output_type": "stream",
     "text": [
      "Bonoo Indian Tapas added to database\n",
      "Hibox already in database\n",
      "Scarlett Green added to database\n",
      "Devine Restaurant Coffee Bar already in database\n",
      "Indian Room added to database\n",
      "Nora Cafe already in database\n",
      "Bayleaf Restaurant added to database\n",
      "Amrutha Lounge added to database\n",
      "Andys Greek Taverna already in database\n",
      "Alexander The Great already in database\n",
      "Chamisse added to database\n",
      "Muhib Indian Cuisine added to database\n",
      "Spasso already in database\n",
      "Taste Of Nawab added to database\n",
      "Awesome Thai Finchley already in database\n",
      "Indian Moment added to database\n",
      "Bruce Burgers already in database\n",
      "Tanias of Hampstead already in database\n",
      "The Rajdoot added to database\n",
      "Cafe Parisienne added to database\n",
      "The Rajdoot Hampstead added to database\n",
      "The Wine Place Covent Garden added to database\n",
      "The Park Room already in database\n",
      "Manuels Restaurant and Bar already in database\n",
      "Lizzies Cucina - Italian Restaurant already in database\n",
      "Dobar already in database\n",
      "Room 43 Bar & Kitchen already in database\n",
      "Paladar added to database\n",
      "Launceston Place already in database\n",
      "Eastern Eye Balti House added to database\n"
     ]
    }
   ],
   "source": [
    "for i in list_rest:\n",
    "    etl_review(i)"
   ]
  },
  {
   "cell_type": "code",
   "execution_count": null,
   "metadata": {},
   "outputs": [],
   "source": []
  }
 ],
 "metadata": {
  "kernelspec": {
   "display_name": "Python [conda env:Python3] *",
   "language": "python",
   "name": "conda-env-Python3-py"
  },
  "language_info": {
   "codemirror_mode": {
    "name": "ipython",
    "version": 3
   },
   "file_extension": ".py",
   "mimetype": "text/x-python",
   "name": "python",
   "nbconvert_exporter": "python",
   "pygments_lexer": "ipython3",
   "version": "3.8.2"
  }
 },
 "nbformat": 4,
 "nbformat_minor": 2
}
