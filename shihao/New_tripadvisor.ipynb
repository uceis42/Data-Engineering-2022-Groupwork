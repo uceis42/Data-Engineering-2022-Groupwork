{
 "cells": [
  {
   "cell_type": "code",
   "execution_count": 2,
   "id": "bb1d8f03",
   "metadata": {},
   "outputs": [],
   "source": [
    "import requests\n",
    "from bs4 import BeautifulSoup\n",
    "import re\n",
    "import pandas as pd\n",
    "import numpy as np\n",
    "import urllib.request\n",
    "import sys"
   ]
  },
  {
   "cell_type": "code",
   "execution_count": 25,
   "id": "0f2f8500",
   "metadata": {},
   "outputs": [],
   "source": [
    "# #first we want to get the link\n",
    "# headers = {\"User-Agent\": \"Mozilla/5.0 (X11; Linux x86_64) AppleWebKit/537.36 (KHTML, like Gecko) Chrome/70.0.3538.102 Safari/537.36\"}\n",
    "# #headers = {\"User-Agent\": \"Mozilla/5.0 (X11; CrOS x86_64 12871.102.0) AppleWebKit/537.36 (KHTML, like Gecko) Chrome/81.0.4044.141 Safari/537.36\"}\n",
    "# html =requests.get('https://www.tripadvisor.com/Restaurants-g186338-London_England.html',timeout =10, headers=headers)\n",
    "# soup = BeautifulSoup(html.text, 'lxml')"
   ]
  },
  {
   "cell_type": "code",
   "execution_count": 4,
   "id": "f740f96e",
   "metadata": {},
   "outputs": [
    {
     "name": "stderr",
     "output_type": "stream",
     "text": [
      "C:\\Users\\SHIHAO~1\\AppData\\Local\\Temp/ipykernel_58772/3171145614.py:31: FutureWarning: The frame.append method is deprecated and will be removed from pandas in a future version. Use pandas.concat instead.\n",
      "  df_soup = df_soup.append({'soup': str(soup)}, ignore_index=True)\n"
     ]
    },
    {
     "name": "stdout",
     "output_type": "stream",
     "text": [
      "successfully get soup\n"
     ]
    },
    {
     "name": "stderr",
     "output_type": "stream",
     "text": [
      "C:\\Users\\SHIHAO~1\\AppData\\Local\\Temp/ipykernel_58772/3171145614.py:31: FutureWarning: The frame.append method is deprecated and will be removed from pandas in a future version. Use pandas.concat instead.\n",
      "  df_soup = df_soup.append({'soup': str(soup)}, ignore_index=True)\n"
     ]
    },
    {
     "name": "stdout",
     "output_type": "stream",
     "text": [
      "successfully get soup\n"
     ]
    },
    {
     "name": "stderr",
     "output_type": "stream",
     "text": [
      "C:\\Users\\SHIHAO~1\\AppData\\Local\\Temp/ipykernel_58772/3171145614.py:31: FutureWarning: The frame.append method is deprecated and will be removed from pandas in a future version. Use pandas.concat instead.\n",
      "  df_soup = df_soup.append({'soup': str(soup)}, ignore_index=True)\n"
     ]
    },
    {
     "name": "stdout",
     "output_type": "stream",
     "text": [
      "successfully get soup\n"
     ]
    },
    {
     "name": "stderr",
     "output_type": "stream",
     "text": [
      "C:\\Users\\SHIHAO~1\\AppData\\Local\\Temp/ipykernel_58772/3171145614.py:31: FutureWarning: The frame.append method is deprecated and will be removed from pandas in a future version. Use pandas.concat instead.\n",
      "  df_soup = df_soup.append({'soup': str(soup)}, ignore_index=True)\n"
     ]
    },
    {
     "name": "stdout",
     "output_type": "stream",
     "text": [
      "successfully get soup\n"
     ]
    },
    {
     "name": "stderr",
     "output_type": "stream",
     "text": [
      "C:\\Users\\SHIHAO~1\\AppData\\Local\\Temp/ipykernel_58772/3171145614.py:31: FutureWarning: The frame.append method is deprecated and will be removed from pandas in a future version. Use pandas.concat instead.\n",
      "  df_soup = df_soup.append({'soup': str(soup)}, ignore_index=True)\n"
     ]
    },
    {
     "name": "stdout",
     "output_type": "stream",
     "text": [
      "successfully get soup\n"
     ]
    },
    {
     "name": "stderr",
     "output_type": "stream",
     "text": [
      "C:\\Users\\SHIHAO~1\\AppData\\Local\\Temp/ipykernel_58772/3171145614.py:31: FutureWarning: The frame.append method is deprecated and will be removed from pandas in a future version. Use pandas.concat instead.\n",
      "  df_soup = df_soup.append({'soup': str(soup)}, ignore_index=True)\n"
     ]
    },
    {
     "name": "stdout",
     "output_type": "stream",
     "text": [
      "successfully get soup\n"
     ]
    },
    {
     "name": "stderr",
     "output_type": "stream",
     "text": [
      "C:\\Users\\SHIHAO~1\\AppData\\Local\\Temp/ipykernel_58772/3171145614.py:31: FutureWarning: The frame.append method is deprecated and will be removed from pandas in a future version. Use pandas.concat instead.\n",
      "  df_soup = df_soup.append({'soup': str(soup)}, ignore_index=True)\n"
     ]
    },
    {
     "name": "stdout",
     "output_type": "stream",
     "text": [
      "successfully get soup\n"
     ]
    },
    {
     "name": "stderr",
     "output_type": "stream",
     "text": [
      "C:\\Users\\SHIHAO~1\\AppData\\Local\\Temp/ipykernel_58772/3171145614.py:31: FutureWarning: The frame.append method is deprecated and will be removed from pandas in a future version. Use pandas.concat instead.\n",
      "  df_soup = df_soup.append({'soup': str(soup)}, ignore_index=True)\n"
     ]
    },
    {
     "name": "stdout",
     "output_type": "stream",
     "text": [
      "successfully get soup\n",
      "fail1\n",
      "fail2\n"
     ]
    },
    {
     "name": "stderr",
     "output_type": "stream",
     "text": [
      "C:\\Users\\SHIHAO~1\\AppData\\Local\\Temp/ipykernel_58772/3171145614.py:31: FutureWarning: The frame.append method is deprecated and will be removed from pandas in a future version. Use pandas.concat instead.\n",
      "  df_soup = df_soup.append({'soup': str(soup)}, ignore_index=True)\n"
     ]
    },
    {
     "name": "stdout",
     "output_type": "stream",
     "text": [
      "successfully get soup\n",
      "successfully get soup\n"
     ]
    },
    {
     "name": "stderr",
     "output_type": "stream",
     "text": [
      "C:\\Users\\SHIHAO~1\\AppData\\Local\\Temp/ipykernel_58772/3171145614.py:31: FutureWarning: The frame.append method is deprecated and will be removed from pandas in a future version. Use pandas.concat instead.\n",
      "  df_soup = df_soup.append({'soup': str(soup)}, ignore_index=True)\n"
     ]
    }
   ],
   "source": [
    "df_soup = pd.DataFrame()\n",
    "headers = {\"User-Agent\": \"Mozilla/5.0 (X11; Linux x86_64) AppleWebKit/537.36 (KHTML, like Gecko) Chrome/70.0.3538.102 Safari/537.36\"}\n",
    "\n",
    "for i in range(10):\n",
    "    soup = ''\n",
    "    if i ==0 :\n",
    "        newurl = 'https://www.tripadvisor.com/Restaurants-g186338-London_England.html'\n",
    "\n",
    "    else:\n",
    "        pagenum = i*30\n",
    "        newurl = 'https://www.tripadvisor.com/Restaurants-g186338-'+'oa'+str(pagenum)+'-London_England.html'\n",
    "      \n",
    "    \n",
    "    try:\n",
    "        html = requests.get(newurl, headers=headers,timeout=10)\n",
    "    except:    \n",
    "        print('fail1')\n",
    "        try:\n",
    "            html = requests.get(newurl, headers=headers,timeout=10)\n",
    "        except:\n",
    "            print('fail2')\n",
    "            try:\n",
    "                html = requests.get(newurl, headers=headers,timeout=10)\n",
    "            except:\n",
    "                print('fail3')\n",
    "                #sys.exit(\"fail to connect\") #Right here\n",
    " \n",
    "        \n",
    "    try:     \n",
    "        soup = BeautifulSoup(html.text, 'lxml')\n",
    "        df_soup = df_soup.append({'soup': str(soup)}, ignore_index=True)\n",
    "        print(\"successfully get soup\")\n",
    "    except NameError:\n",
    "        df_soup= df_soup.append(pd.Series(),ignore_index=True)\n",
    "        print(\"fail get soup final\")\n",
    " "
   ]
  },
  {
   "cell_type": "code",
   "execution_count": 56,
   "id": "f832de48",
   "metadata": {},
   "outputs": [
    {
     "name": "stderr",
     "output_type": "stream",
     "text": [
      "C:\\Users\\SHIHAO~1\\AppData\\Local\\Temp/ipykernel_34072/2032941219.py:1: FutureWarning: The frame.append method is deprecated and will be removed from pandas in a future version. Use pandas.concat instead.\n",
      "  df_soup = df_soup.append({'soup': str(soup)}, ignore_index=True)\n"
     ]
    }
   ],
   "source": [
    "#df_soup = df_soup.append({'soup': str(soup)}, ignore_index=True)"
   ]
  },
  {
   "cell_type": "code",
   "execution_count": 13,
   "id": "a17a4d63",
   "metadata": {},
   "outputs": [
    {
     "data": {
      "text/plain": [
       "0    <!DOCTYPE html>\\n<html lang=\"en-US\" xmlns:fb=\"...\n",
       "1    <!DOCTYPE html>\\n<html lang=\"en-US\" xmlns:fb=\"...\n",
       "2    <!DOCTYPE html>\\n<html lang=\"en-US\" xmlns:fb=\"...\n",
       "3    <!DOCTYPE html>\\n<html lang=\"en-US\" xmlns:fb=\"...\n",
       "4    <!DOCTYPE html>\\n<html lang=\"en-US\" xmlns:fb=\"...\n",
       "5    <!DOCTYPE html>\\n<html lang=\"en-US\" xmlns:fb=\"...\n",
       "6    <!DOCTYPE html>\\n<html lang=\"en-US\" xmlns:fb=\"...\n",
       "7    <!DOCTYPE html>\\n<html lang=\"en-US\" xmlns:fb=\"...\n",
       "8    <!DOCTYPE html>\\n<html lang=\"en-US\" xmlns:fb=\"...\n",
       "9    <!DOCTYPE html>\\n<html lang=\"en-US\" xmlns:fb=\"...\n",
       "Name: soup, dtype: object"
      ]
     },
     "execution_count": 13,
     "metadata": {},
     "output_type": "execute_result"
    }
   ],
   "source": [
    "df_soup['soup']"
   ]
  },
  {
   "cell_type": "code",
   "execution_count": null,
   "id": "69c24147",
   "metadata": {},
   "outputs": [],
   "source": []
  },
  {
   "cell_type": "code",
   "execution_count": null,
   "id": "ad937cc7",
   "metadata": {},
   "outputs": [],
   "source": []
  },
  {
   "cell_type": "code",
   "execution_count": 16,
   "id": "b4a2f2f5",
   "metadata": {},
   "outputs": [
    {
     "name": "stderr",
     "output_type": "stream",
     "text": [
      "C:\\Users\\SHIHAO~1\\AppData\\Local\\Temp/ipykernel_58772/3827880133.py:6: FutureWarning: The frame.append method is deprecated and will be removed from pandas in a future version. Use pandas.concat instead.\n",
      "  df =   df.append(pd.DataFrame(dict_list.items(), columns=['Name', 'URL']))\n",
      "C:\\Users\\SHIHAO~1\\AppData\\Local\\Temp/ipykernel_58772/3827880133.py:6: FutureWarning: The frame.append method is deprecated and will be removed from pandas in a future version. Use pandas.concat instead.\n",
      "  df =   df.append(pd.DataFrame(dict_list.items(), columns=['Name', 'URL']))\n",
      "C:\\Users\\SHIHAO~1\\AppData\\Local\\Temp/ipykernel_58772/3827880133.py:6: FutureWarning: The frame.append method is deprecated and will be removed from pandas in a future version. Use pandas.concat instead.\n",
      "  df =   df.append(pd.DataFrame(dict_list.items(), columns=['Name', 'URL']))\n",
      "C:\\Users\\SHIHAO~1\\AppData\\Local\\Temp/ipykernel_58772/3827880133.py:6: FutureWarning: The frame.append method is deprecated and will be removed from pandas in a future version. Use pandas.concat instead.\n",
      "  df =   df.append(pd.DataFrame(dict_list.items(), columns=['Name', 'URL']))\n",
      "C:\\Users\\SHIHAO~1\\AppData\\Local\\Temp/ipykernel_58772/3827880133.py:6: FutureWarning: The frame.append method is deprecated and will be removed from pandas in a future version. Use pandas.concat instead.\n",
      "  df =   df.append(pd.DataFrame(dict_list.items(), columns=['Name', 'URL']))\n",
      "C:\\Users\\SHIHAO~1\\AppData\\Local\\Temp/ipykernel_58772/3827880133.py:6: FutureWarning: The frame.append method is deprecated and will be removed from pandas in a future version. Use pandas.concat instead.\n",
      "  df =   df.append(pd.DataFrame(dict_list.items(), columns=['Name', 'URL']))\n",
      "C:\\Users\\SHIHAO~1\\AppData\\Local\\Temp/ipykernel_58772/3827880133.py:6: FutureWarning: The frame.append method is deprecated and will be removed from pandas in a future version. Use pandas.concat instead.\n",
      "  df =   df.append(pd.DataFrame(dict_list.items(), columns=['Name', 'URL']))\n",
      "C:\\Users\\SHIHAO~1\\AppData\\Local\\Temp/ipykernel_58772/3827880133.py:6: FutureWarning: The frame.append method is deprecated and will be removed from pandas in a future version. Use pandas.concat instead.\n",
      "  df =   df.append(pd.DataFrame(dict_list.items(), columns=['Name', 'URL']))\n",
      "C:\\Users\\SHIHAO~1\\AppData\\Local\\Temp/ipykernel_58772/3827880133.py:6: FutureWarning: The frame.append method is deprecated and will be removed from pandas in a future version. Use pandas.concat instead.\n",
      "  df =   df.append(pd.DataFrame(dict_list.items(), columns=['Name', 'URL']))\n",
      "C:\\Users\\SHIHAO~1\\AppData\\Local\\Temp/ipykernel_58772/3827880133.py:6: FutureWarning: The frame.append method is deprecated and will be removed from pandas in a future version. Use pandas.concat instead.\n",
      "  df =   df.append(pd.DataFrame(dict_list.items(), columns=['Name', 'URL']))\n"
     ]
    }
   ],
   "source": [
    "# run get name and get 300  name and  url\n",
    "df = pd.DataFrame()\n",
    "for i in range(10):\n",
    "    newsoup  = BeautifulSoup(df_soup['soup'][i], \"html.parser\")\n",
    "    dict_list = get_name(newsoup,i)\n",
    "    df =   df.append(pd.DataFrame(dict_list.items(), columns=['Name', 'URL']))          \n",
    "    "
   ]
  },
  {
   "cell_type": "code",
   "execution_count": 18,
   "id": "66ed136b",
   "metadata": {},
   "outputs": [],
   "source": [
    "df.to_csv('300.csv')"
   ]
  },
  {
   "cell_type": "code",
   "execution_count": null,
   "id": "4d3b949e",
   "metadata": {},
   "outputs": [],
   "source": []
  },
  {
   "cell_type": "code",
   "execution_count": null,
   "id": "599b4938",
   "metadata": {},
   "outputs": [],
   "source": []
  },
  {
   "cell_type": "markdown",
   "id": "ea843927",
   "metadata": {},
   "source": [
    "# Don't change below"
   ]
  },
  {
   "cell_type": "code",
   "execution_count": 8,
   "id": "c23db627",
   "metadata": {},
   "outputs": [],
   "source": [
    "#Function to get the name \n",
    "def get_name(soup,page = 0):  \n",
    "    #a = soup.find(class_=\"bHGqj Cj b\")\n",
    "    dict_list =dict()\n",
    "    level1 = soup.find_all(\"div\", {\"class\": \"list\",'id':'EATERY_OVERVIEW_BOX'})\n",
    "      \n",
    "    for page_num in range(1+page*30,31+page*30):\n",
    "        num_str = str(page_num)+ '_list_item'\n",
    "        for item  in level1:   \n",
    "            item=soup.find('div', attrs={'data-test': num_str})\n",
    "            text = item.find('a',{'class':'bHGqj Cj b'})\n",
    "            realtext = text.find_all(text=True)[4]\n",
    "            urltext = text.get('href')\n",
    "            urltext = 'https://www.tripadvisor.com'+str(urltext)\n",
    "            dict_list[realtext] = urltext\n",
    "\n",
    " \n",
    "    #k = str(a.string).replace('\t', '').replace('\\n', '').replace('\\r', '')\n",
    "    return dict_list\n"
   ]
  },
  {
   "cell_type": "code",
   "execution_count": 44,
   "id": "1b13c396",
   "metadata": {},
   "outputs": [],
   "source": [
    "# turn name into dataframe\n",
    "df = pd.DataFrame()\n",
    "for i in range(10):\n",
    "    newsoup  = BeautifulSoup(df_soup['soup'][i], \"html.parser\")\n",
    "    dict_list = get_name(newsoup,i)\n",
    "    df =   df.append(pd.DataFrame(dict_list.items(), columns=['Name', 'URL']))          \n",
    "    "
   ]
  },
  {
   "cell_type": "code",
   "execution_count": 19,
   "id": "d9d452a0",
   "metadata": {},
   "outputs": [
    {
     "data": {
      "text/html": [
       "<div>\n",
       "<style scoped>\n",
       "    .dataframe tbody tr th:only-of-type {\n",
       "        vertical-align: middle;\n",
       "    }\n",
       "\n",
       "    .dataframe tbody tr th {\n",
       "        vertical-align: top;\n",
       "    }\n",
       "\n",
       "    .dataframe thead th {\n",
       "        text-align: right;\n",
       "    }\n",
       "</style>\n",
       "<table border=\"1\" class=\"dataframe\">\n",
       "  <thead>\n",
       "    <tr style=\"text-align: right;\">\n",
       "      <th></th>\n",
       "      <th>Name</th>\n",
       "      <th>URL</th>\n",
       "    </tr>\n",
       "  </thead>\n",
       "  <tbody>\n",
       "    <tr>\n",
       "      <th>0</th>\n",
       "      <td>Bonoo Indian Tapas</td>\n",
       "      <td>https://www.tripadvisor.com/Restaurant_Review-...</td>\n",
       "    </tr>\n",
       "    <tr>\n",
       "      <th>1</th>\n",
       "      <td>Hibox</td>\n",
       "      <td>https://www.tripadvisor.com/Restaurant_Review-...</td>\n",
       "    </tr>\n",
       "    <tr>\n",
       "      <th>2</th>\n",
       "      <td>Devine Restaurant Coffee Bar</td>\n",
       "      <td>https://www.tripadvisor.com/Restaurant_Review-...</td>\n",
       "    </tr>\n",
       "    <tr>\n",
       "      <th>3</th>\n",
       "      <td>Scarlett Green</td>\n",
       "      <td>https://www.tripadvisor.com/Restaurant_Review-...</td>\n",
       "    </tr>\n",
       "    <tr>\n",
       "      <th>4</th>\n",
       "      <td>Indian Room</td>\n",
       "      <td>https://www.tripadvisor.com/Restaurant_Review-...</td>\n",
       "    </tr>\n",
       "    <tr>\n",
       "      <th>...</th>\n",
       "      <td>...</td>\n",
       "      <td>...</td>\n",
       "    </tr>\n",
       "    <tr>\n",
       "      <th>25</th>\n",
       "      <td>The Foyer At Claridge's</td>\n",
       "      <td>https://www.tripadvisor.com/Restaurant_Review-...</td>\n",
       "    </tr>\n",
       "    <tr>\n",
       "      <th>26</th>\n",
       "      <td>Il Girasole</td>\n",
       "      <td>https://www.tripadvisor.com/Restaurant_Review-...</td>\n",
       "    </tr>\n",
       "    <tr>\n",
       "      <th>27</th>\n",
       "      <td>Specialist Cellars</td>\n",
       "      <td>https://www.tripadvisor.com/Restaurant_Review-...</td>\n",
       "    </tr>\n",
       "    <tr>\n",
       "      <th>28</th>\n",
       "      <td>The Bull Steak Expert</td>\n",
       "      <td>https://www.tripadvisor.com/Restaurant_Review-...</td>\n",
       "    </tr>\n",
       "    <tr>\n",
       "      <th>29</th>\n",
       "      <td>Beck's cafe</td>\n",
       "      <td>https://www.tripadvisor.com/Restaurant_Review-...</td>\n",
       "    </tr>\n",
       "  </tbody>\n",
       "</table>\n",
       "<p>300 rows × 2 columns</p>\n",
       "</div>"
      ],
      "text/plain": [
       "                            Name  \\\n",
       "0             Bonoo Indian Tapas   \n",
       "1                          Hibox   \n",
       "2   Devine Restaurant Coffee Bar   \n",
       "3                 Scarlett Green   \n",
       "4                    Indian Room   \n",
       "..                           ...   \n",
       "25       The Foyer At Claridge's   \n",
       "26                   Il Girasole   \n",
       "27            Specialist Cellars   \n",
       "28         The Bull Steak Expert   \n",
       "29                   Beck's cafe   \n",
       "\n",
       "                                                  URL  \n",
       "0   https://www.tripadvisor.com/Restaurant_Review-...  \n",
       "1   https://www.tripadvisor.com/Restaurant_Review-...  \n",
       "2   https://www.tripadvisor.com/Restaurant_Review-...  \n",
       "3   https://www.tripadvisor.com/Restaurant_Review-...  \n",
       "4   https://www.tripadvisor.com/Restaurant_Review-...  \n",
       "..                                                ...  \n",
       "25  https://www.tripadvisor.com/Restaurant_Review-...  \n",
       "26  https://www.tripadvisor.com/Restaurant_Review-...  \n",
       "27  https://www.tripadvisor.com/Restaurant_Review-...  \n",
       "28  https://www.tripadvisor.com/Restaurant_Review-...  \n",
       "29  https://www.tripadvisor.com/Restaurant_Review-...  \n",
       "\n",
       "[300 rows x 2 columns]"
      ]
     },
     "execution_count": 19,
     "metadata": {},
     "output_type": "execute_result"
    }
   ],
   "source": [
    "df"
   ]
  },
  {
   "cell_type": "code",
   "execution_count": 35,
   "id": "519e8d48",
   "metadata": {},
   "outputs": [],
   "source": [
    "#Function to get the content \n",
    "def get_rating(url):  \n",
    "    #headers = {\"User-Agent\": \"Mozilla/5.0 (X11; Linux x86_64) AppleWebKit/537.36 (KHTML, like Gecko) Chrome/70.0.3538.102 Safari/537.36\"}\n",
    "    headers = {\"User-Agent\": \"Mozilla/5.0 (X11; CrOS x86_64 12871.102.0) AppleWebKit/537.36 (KHTML, like Gecko) Chrome/81.0.4044.141 Safari/537.36\"}\n",
    "    try:\n",
    "        r = requests.get(url, headers=headers,timeout=10)\n",
    "    except:    \n",
    "        print('fail1')\n",
    "        try:\n",
    "            r = requests.get(url, headers=headers,timeout=10)\n",
    "        except:\n",
    "            print('fail2')\n",
    "            try:\n",
    "                r = requests.get(url, headers=headers,timeout=10)\n",
    "            except:\n",
    "                print('fail3')\n",
    "                sys.exit(\"fail to connect\") #Right here\n",
    "                \n",
    "    soup2 = BeautifulSoup(r.text, 'lxml')\n",
    "    print(\"successfully get content\")\n",
    "    \n",
    "\n",
    "    #Ratings and reviews\n",
    "    rating = ''\n",
    "    n_reviews=''\n",
    "    f_rating=''\n",
    "    s_rating = ''\n",
    "    v_rating = ''\n",
    "    #Details\n",
    "    about = ''\n",
    "    price_range = ''\n",
    "    s_diets = ''\n",
    "    cuisines=''\n",
    "    features = ''\n",
    "    \n",
    "    \n",
    "    \n",
    "    level0 = soup2.find_all(\"div\", {\"class\": \"dbgRU B1 Z R2 G5 F1 e k\"})\n",
    "    for item in level0:\n",
    "        item = soup2.find('span', {'class': 'fdsdx'})\n",
    "        rating= item.find(text=True)\n",
    "        item2 = soup2.find('a', {'class': 'dUfZJ'})\n",
    "        n_reviews= item2.find(text=True)\n",
    "        item3 = soup2.find_all('span', {'class': 'cwxUN'})\n",
    "        f_rating = int(str(item3[0])[-18:-16])/10 \n",
    "        s_rating =int(str(item3[1])[-18:-16])/10\n",
    "        v_rating=int(str(item3[2])[-18:-16])/10\n",
    " \n",
    "\n",
    "\n",
    "\n",
    "\n",
    "    try:\n",
    "        level1 = soup2.find(\"div\", {\"class\": \"epsEZ\"})\n",
    "        about =  level1.find(text=True)\n",
    "        level2 = soup2.find_all(\"div\", {\"class\": \"bYIkW\"})[0]\n",
    "        price_range = level2.find_all(text=True)\n",
    "        level3 = soup2.find_all(\"div\", {\"class\": \"bYIkW\"})[1]\n",
    "        s_diets=level3.find_all(text=True)\n",
    "        level4 = soup2.find_all(\"div\", {\"class\": \"bYIkW\"})[3]\n",
    "        cuisines=level4.find_all(text=True)\n",
    "        try:\n",
    "            \n",
    "            level5 = soup2.find_all(\"div\", {\"class\": \"bYIkW\"})[4]\n",
    "            features=level5.find_all(text=True)\n",
    "        except IndexError:\n",
    "            features = ''\n",
    "            \n",
    "            \n",
    "        \n",
    "    except AttributeError:\n",
    "        level2 = soup2.find_all(\"div\", {\"class\": \"cfvAV\"})[0]\n",
    "        price_range = level2.find_all(text=True)\n",
    "        level3 = soup2.find_all(\"div\", {\"class\": \"cfvAV\"})[1]\n",
    "        cuisines=level3.find_all(text=True)\n",
    "        level4 = soup2.find_all(\"div\", {\"class\": \"cfvAV\"})[2]\n",
    "        s_diets=level4.find_all(text=True)\n",
    "\n",
    "    keys = ['rating','n_reviews','f_rating','s_rating','v_rating','about','price_range','s_diets','cuisines','features']\n",
    "    values = [rating,n_reviews,f_rating,s_rating,v_rating,about,price_range,s_diets,cuisines,features]\n",
    "    dictionary = dict(zip(keys, values))\n",
    "    sub_df=pd.DataFrame(dictionary)\n",
    "\n",
    "\n",
    "  \n",
    "    return  sub_df\n",
    "\n"
   ]
  },
  {
   "cell_type": "code",
   "execution_count": 36,
   "id": "2b14544e",
   "metadata": {
    "scrolled": true
   },
   "outputs": [
    {
     "name": "stdout",
     "output_type": "stream",
     "text": [
      "fail1\n",
      "fail2\n",
      "fail3\n"
     ]
    },
    {
     "name": "stderr",
     "output_type": "stream",
     "text": [
      "C:\\Users\\SHIHAO~1\\AppData\\Local\\Temp/ipykernel_58772/2202860112.py:7: FutureWarning: The default dtype for empty Series will be 'object' instead of 'float64' in a future version. Specify a dtype explicitly to silence this warning.\n",
      "  df_detail = df_detail.append(pd.Series(),ignore_index=True)\n",
      "C:\\Users\\SHIHAO~1\\AppData\\Local\\Temp/ipykernel_58772/2202860112.py:7: FutureWarning: The frame.append method is deprecated and will be removed from pandas in a future version. Use pandas.concat instead.\n",
      "  df_detail = df_detail.append(pd.Series(),ignore_index=True)\n"
     ]
    },
    {
     "name": "stdout",
     "output_type": "stream",
     "text": [
      "fail1\n",
      "fail2\n",
      "fail3\n"
     ]
    },
    {
     "name": "stderr",
     "output_type": "stream",
     "text": [
      "C:\\Users\\SHIHAO~1\\AppData\\Local\\Temp/ipykernel_58772/2202860112.py:7: FutureWarning: The default dtype for empty Series will be 'object' instead of 'float64' in a future version. Specify a dtype explicitly to silence this warning.\n",
      "  df_detail = df_detail.append(pd.Series(),ignore_index=True)\n",
      "C:\\Users\\SHIHAO~1\\AppData\\Local\\Temp/ipykernel_58772/2202860112.py:7: FutureWarning: The frame.append method is deprecated and will be removed from pandas in a future version. Use pandas.concat instead.\n",
      "  df_detail = df_detail.append(pd.Series(),ignore_index=True)\n"
     ]
    },
    {
     "name": "stdout",
     "output_type": "stream",
     "text": [
      "fail1\n",
      "fail2\n",
      "fail3\n"
     ]
    },
    {
     "name": "stderr",
     "output_type": "stream",
     "text": [
      "C:\\Users\\SHIHAO~1\\AppData\\Local\\Temp/ipykernel_58772/2202860112.py:7: FutureWarning: The default dtype for empty Series will be 'object' instead of 'float64' in a future version. Specify a dtype explicitly to silence this warning.\n",
      "  df_detail = df_detail.append(pd.Series(),ignore_index=True)\n",
      "C:\\Users\\SHIHAO~1\\AppData\\Local\\Temp/ipykernel_58772/2202860112.py:7: FutureWarning: The frame.append method is deprecated and will be removed from pandas in a future version. Use pandas.concat instead.\n",
      "  df_detail = df_detail.append(pd.Series(),ignore_index=True)\n"
     ]
    },
    {
     "name": "stdout",
     "output_type": "stream",
     "text": [
      "fail1\n",
      "fail2\n",
      "fail3\n"
     ]
    },
    {
     "name": "stderr",
     "output_type": "stream",
     "text": [
      "C:\\Users\\SHIHAO~1\\AppData\\Local\\Temp/ipykernel_58772/2202860112.py:7: FutureWarning: The default dtype for empty Series will be 'object' instead of 'float64' in a future version. Specify a dtype explicitly to silence this warning.\n",
      "  df_detail = df_detail.append(pd.Series(),ignore_index=True)\n",
      "C:\\Users\\SHIHAO~1\\AppData\\Local\\Temp/ipykernel_58772/2202860112.py:7: FutureWarning: The frame.append method is deprecated and will be removed from pandas in a future version. Use pandas.concat instead.\n",
      "  df_detail = df_detail.append(pd.Series(),ignore_index=True)\n"
     ]
    },
    {
     "name": "stdout",
     "output_type": "stream",
     "text": [
      "fail1\n",
      "fail2\n",
      "fail3\n"
     ]
    },
    {
     "name": "stderr",
     "output_type": "stream",
     "text": [
      "C:\\Users\\SHIHAO~1\\AppData\\Local\\Temp/ipykernel_58772/2202860112.py:7: FutureWarning: The default dtype for empty Series will be 'object' instead of 'float64' in a future version. Specify a dtype explicitly to silence this warning.\n",
      "  df_detail = df_detail.append(pd.Series(),ignore_index=True)\n",
      "C:\\Users\\SHIHAO~1\\AppData\\Local\\Temp/ipykernel_58772/2202860112.py:7: FutureWarning: The frame.append method is deprecated and will be removed from pandas in a future version. Use pandas.concat instead.\n",
      "  df_detail = df_detail.append(pd.Series(),ignore_index=True)\n"
     ]
    },
    {
     "name": "stdout",
     "output_type": "stream",
     "text": [
      "fail1\n",
      "fail2\n",
      "fail3\n"
     ]
    },
    {
     "name": "stderr",
     "output_type": "stream",
     "text": [
      "C:\\Users\\SHIHAO~1\\AppData\\Local\\Temp/ipykernel_58772/2202860112.py:7: FutureWarning: The default dtype for empty Series will be 'object' instead of 'float64' in a future version. Specify a dtype explicitly to silence this warning.\n",
      "  df_detail = df_detail.append(pd.Series(),ignore_index=True)\n",
      "C:\\Users\\SHIHAO~1\\AppData\\Local\\Temp/ipykernel_58772/2202860112.py:7: FutureWarning: The frame.append method is deprecated and will be removed from pandas in a future version. Use pandas.concat instead.\n",
      "  df_detail = df_detail.append(pd.Series(),ignore_index=True)\n"
     ]
    },
    {
     "name": "stdout",
     "output_type": "stream",
     "text": [
      "fail1\n",
      "fail2\n",
      "fail3\n"
     ]
    },
    {
     "name": "stderr",
     "output_type": "stream",
     "text": [
      "C:\\Users\\SHIHAO~1\\AppData\\Local\\Temp/ipykernel_58772/2202860112.py:7: FutureWarning: The default dtype for empty Series will be 'object' instead of 'float64' in a future version. Specify a dtype explicitly to silence this warning.\n",
      "  df_detail = df_detail.append(pd.Series(),ignore_index=True)\n",
      "C:\\Users\\SHIHAO~1\\AppData\\Local\\Temp/ipykernel_58772/2202860112.py:7: FutureWarning: The frame.append method is deprecated and will be removed from pandas in a future version. Use pandas.concat instead.\n",
      "  df_detail = df_detail.append(pd.Series(),ignore_index=True)\n"
     ]
    },
    {
     "name": "stdout",
     "output_type": "stream",
     "text": [
      "fail1\n",
      "fail2\n",
      "fail3\n"
     ]
    },
    {
     "name": "stderr",
     "output_type": "stream",
     "text": [
      "C:\\Users\\SHIHAO~1\\AppData\\Local\\Temp/ipykernel_58772/2202860112.py:7: FutureWarning: The default dtype for empty Series will be 'object' instead of 'float64' in a future version. Specify a dtype explicitly to silence this warning.\n",
      "  df_detail = df_detail.append(pd.Series(),ignore_index=True)\n",
      "C:\\Users\\SHIHAO~1\\AppData\\Local\\Temp/ipykernel_58772/2202860112.py:7: FutureWarning: The frame.append method is deprecated and will be removed from pandas in a future version. Use pandas.concat instead.\n",
      "  df_detail = df_detail.append(pd.Series(),ignore_index=True)\n"
     ]
    },
    {
     "name": "stdout",
     "output_type": "stream",
     "text": [
      "fail1\n",
      "fail2\n",
      "fail3\n"
     ]
    },
    {
     "name": "stderr",
     "output_type": "stream",
     "text": [
      "C:\\Users\\SHIHAO~1\\AppData\\Local\\Temp/ipykernel_58772/2202860112.py:7: FutureWarning: The default dtype for empty Series will be 'object' instead of 'float64' in a future version. Specify a dtype explicitly to silence this warning.\n",
      "  df_detail = df_detail.append(pd.Series(),ignore_index=True)\n",
      "C:\\Users\\SHIHAO~1\\AppData\\Local\\Temp/ipykernel_58772/2202860112.py:7: FutureWarning: The frame.append method is deprecated and will be removed from pandas in a future version. Use pandas.concat instead.\n",
      "  df_detail = df_detail.append(pd.Series(),ignore_index=True)\n"
     ]
    },
    {
     "name": "stdout",
     "output_type": "stream",
     "text": [
      "fail1\n",
      "fail2\n",
      "fail3\n"
     ]
    },
    {
     "name": "stderr",
     "output_type": "stream",
     "text": [
      "C:\\Users\\SHIHAO~1\\AppData\\Local\\Temp/ipykernel_58772/2202860112.py:7: FutureWarning: The default dtype for empty Series will be 'object' instead of 'float64' in a future version. Specify a dtype explicitly to silence this warning.\n",
      "  df_detail = df_detail.append(pd.Series(),ignore_index=True)\n",
      "C:\\Users\\SHIHAO~1\\AppData\\Local\\Temp/ipykernel_58772/2202860112.py:7: FutureWarning: The frame.append method is deprecated and will be removed from pandas in a future version. Use pandas.concat instead.\n",
      "  df_detail = df_detail.append(pd.Series(),ignore_index=True)\n"
     ]
    },
    {
     "name": "stdout",
     "output_type": "stream",
     "text": [
      "fail1\n",
      "fail2\n",
      "fail3\n"
     ]
    },
    {
     "name": "stderr",
     "output_type": "stream",
     "text": [
      "C:\\Users\\SHIHAO~1\\AppData\\Local\\Temp/ipykernel_58772/2202860112.py:7: FutureWarning: The default dtype for empty Series will be 'object' instead of 'float64' in a future version. Specify a dtype explicitly to silence this warning.\n",
      "  df_detail = df_detail.append(pd.Series(),ignore_index=True)\n",
      "C:\\Users\\SHIHAO~1\\AppData\\Local\\Temp/ipykernel_58772/2202860112.py:7: FutureWarning: The frame.append method is deprecated and will be removed from pandas in a future version. Use pandas.concat instead.\n",
      "  df_detail = df_detail.append(pd.Series(),ignore_index=True)\n"
     ]
    },
    {
     "name": "stdout",
     "output_type": "stream",
     "text": [
      "fail1\n",
      "fail2\n",
      "fail3\n"
     ]
    },
    {
     "name": "stderr",
     "output_type": "stream",
     "text": [
      "C:\\Users\\SHIHAO~1\\AppData\\Local\\Temp/ipykernel_58772/2202860112.py:7: FutureWarning: The default dtype for empty Series will be 'object' instead of 'float64' in a future version. Specify a dtype explicitly to silence this warning.\n",
      "  df_detail = df_detail.append(pd.Series(),ignore_index=True)\n",
      "C:\\Users\\SHIHAO~1\\AppData\\Local\\Temp/ipykernel_58772/2202860112.py:7: FutureWarning: The frame.append method is deprecated and will be removed from pandas in a future version. Use pandas.concat instead.\n",
      "  df_detail = df_detail.append(pd.Series(),ignore_index=True)\n"
     ]
    },
    {
     "name": "stdout",
     "output_type": "stream",
     "text": [
      "fail1\n",
      "fail2\n",
      "fail3\n"
     ]
    },
    {
     "name": "stderr",
     "output_type": "stream",
     "text": [
      "C:\\Users\\SHIHAO~1\\AppData\\Local\\Temp/ipykernel_58772/2202860112.py:7: FutureWarning: The default dtype for empty Series will be 'object' instead of 'float64' in a future version. Specify a dtype explicitly to silence this warning.\n",
      "  df_detail = df_detail.append(pd.Series(),ignore_index=True)\n",
      "C:\\Users\\SHIHAO~1\\AppData\\Local\\Temp/ipykernel_58772/2202860112.py:7: FutureWarning: The frame.append method is deprecated and will be removed from pandas in a future version. Use pandas.concat instead.\n",
      "  df_detail = df_detail.append(pd.Series(),ignore_index=True)\n"
     ]
    },
    {
     "name": "stdout",
     "output_type": "stream",
     "text": [
      "fail1\n",
      "fail2\n",
      "fail3\n"
     ]
    },
    {
     "name": "stderr",
     "output_type": "stream",
     "text": [
      "C:\\Users\\SHIHAO~1\\AppData\\Local\\Temp/ipykernel_58772/2202860112.py:7: FutureWarning: The default dtype for empty Series will be 'object' instead of 'float64' in a future version. Specify a dtype explicitly to silence this warning.\n",
      "  df_detail = df_detail.append(pd.Series(),ignore_index=True)\n",
      "C:\\Users\\SHIHAO~1\\AppData\\Local\\Temp/ipykernel_58772/2202860112.py:7: FutureWarning: The frame.append method is deprecated and will be removed from pandas in a future version. Use pandas.concat instead.\n",
      "  df_detail = df_detail.append(pd.Series(),ignore_index=True)\n"
     ]
    },
    {
     "name": "stdout",
     "output_type": "stream",
     "text": [
      "successfully get content\n"
     ]
    },
    {
     "name": "stderr",
     "output_type": "stream",
     "text": [
      "C:\\Users\\SHIHAO~1\\AppData\\Local\\Temp/ipykernel_58772/2202860112.py:5: FutureWarning: The frame.append method is deprecated and will be removed from pandas in a future version. Use pandas.concat instead.\n",
      "  df_detail = df_detail.append(get_rating(df['URL'].iloc[i]))\n"
     ]
    },
    {
     "name": "stdout",
     "output_type": "stream",
     "text": [
      "successfully get content\n",
      "successfully get content\n"
     ]
    },
    {
     "name": "stderr",
     "output_type": "stream",
     "text": [
      "C:\\Users\\SHIHAO~1\\AppData\\Local\\Temp/ipykernel_58772/2202860112.py:5: FutureWarning: The frame.append method is deprecated and will be removed from pandas in a future version. Use pandas.concat instead.\n",
      "  df_detail = df_detail.append(get_rating(df['URL'].iloc[i]))\n"
     ]
    },
    {
     "name": "stdout",
     "output_type": "stream",
     "text": [
      "successfully get content\n"
     ]
    },
    {
     "name": "stderr",
     "output_type": "stream",
     "text": [
      "C:\\Users\\SHIHAO~1\\AppData\\Local\\Temp/ipykernel_58772/2202860112.py:5: FutureWarning: The frame.append method is deprecated and will be removed from pandas in a future version. Use pandas.concat instead.\n",
      "  df_detail = df_detail.append(get_rating(df['URL'].iloc[i]))\n"
     ]
    },
    {
     "name": "stdout",
     "output_type": "stream",
     "text": [
      "successfully get content\n"
     ]
    },
    {
     "name": "stderr",
     "output_type": "stream",
     "text": [
      "C:\\Users\\SHIHAO~1\\AppData\\Local\\Temp/ipykernel_58772/2202860112.py:5: FutureWarning: The frame.append method is deprecated and will be removed from pandas in a future version. Use pandas.concat instead.\n",
      "  df_detail = df_detail.append(get_rating(df['URL'].iloc[i]))\n"
     ]
    },
    {
     "name": "stdout",
     "output_type": "stream",
     "text": [
      "successfully get content\n"
     ]
    },
    {
     "name": "stderr",
     "output_type": "stream",
     "text": [
      "C:\\Users\\SHIHAO~1\\AppData\\Local\\Temp/ipykernel_58772/2202860112.py:5: FutureWarning: The frame.append method is deprecated and will be removed from pandas in a future version. Use pandas.concat instead.\n",
      "  df_detail = df_detail.append(get_rating(df['URL'].iloc[i]))\n"
     ]
    },
    {
     "name": "stdout",
     "output_type": "stream",
     "text": [
      "successfully get content\n"
     ]
    },
    {
     "name": "stderr",
     "output_type": "stream",
     "text": [
      "C:\\Users\\SHIHAO~1\\AppData\\Local\\Temp/ipykernel_58772/2202860112.py:5: FutureWarning: The frame.append method is deprecated and will be removed from pandas in a future version. Use pandas.concat instead.\n",
      "  df_detail = df_detail.append(get_rating(df['URL'].iloc[i]))\n"
     ]
    },
    {
     "name": "stdout",
     "output_type": "stream",
     "text": [
      "successfully get content\n"
     ]
    },
    {
     "name": "stderr",
     "output_type": "stream",
     "text": [
      "C:\\Users\\SHIHAO~1\\AppData\\Local\\Temp/ipykernel_58772/2202860112.py:5: FutureWarning: The frame.append method is deprecated and will be removed from pandas in a future version. Use pandas.concat instead.\n",
      "  df_detail = df_detail.append(get_rating(df['URL'].iloc[i]))\n"
     ]
    },
    {
     "name": "stdout",
     "output_type": "stream",
     "text": [
      "successfully get content\n"
     ]
    },
    {
     "name": "stderr",
     "output_type": "stream",
     "text": [
      "C:\\Users\\SHIHAO~1\\AppData\\Local\\Temp/ipykernel_58772/2202860112.py:5: FutureWarning: The frame.append method is deprecated and will be removed from pandas in a future version. Use pandas.concat instead.\n",
      "  df_detail = df_detail.append(get_rating(df['URL'].iloc[i]))\n"
     ]
    },
    {
     "name": "stdout",
     "output_type": "stream",
     "text": [
      "successfully get content\n"
     ]
    },
    {
     "name": "stderr",
     "output_type": "stream",
     "text": [
      "C:\\Users\\SHIHAO~1\\AppData\\Local\\Temp/ipykernel_58772/2202860112.py:5: FutureWarning: The frame.append method is deprecated and will be removed from pandas in a future version. Use pandas.concat instead.\n",
      "  df_detail = df_detail.append(get_rating(df['URL'].iloc[i]))\n"
     ]
    },
    {
     "name": "stdout",
     "output_type": "stream",
     "text": [
      "successfully get content\n"
     ]
    },
    {
     "name": "stderr",
     "output_type": "stream",
     "text": [
      "C:\\Users\\SHIHAO~1\\AppData\\Local\\Temp/ipykernel_58772/2202860112.py:5: FutureWarning: The frame.append method is deprecated and will be removed from pandas in a future version. Use pandas.concat instead.\n",
      "  df_detail = df_detail.append(get_rating(df['URL'].iloc[i]))\n"
     ]
    },
    {
     "name": "stdout",
     "output_type": "stream",
     "text": [
      "successfully get content\n"
     ]
    },
    {
     "name": "stderr",
     "output_type": "stream",
     "text": [
      "C:\\Users\\SHIHAO~1\\AppData\\Local\\Temp/ipykernel_58772/2202860112.py:5: FutureWarning: The frame.append method is deprecated and will be removed from pandas in a future version. Use pandas.concat instead.\n",
      "  df_detail = df_detail.append(get_rating(df['URL'].iloc[i]))\n"
     ]
    },
    {
     "name": "stdout",
     "output_type": "stream",
     "text": [
      "successfully get content\n"
     ]
    },
    {
     "name": "stderr",
     "output_type": "stream",
     "text": [
      "C:\\Users\\SHIHAO~1\\AppData\\Local\\Temp/ipykernel_58772/2202860112.py:5: FutureWarning: The frame.append method is deprecated and will be removed from pandas in a future version. Use pandas.concat instead.\n",
      "  df_detail = df_detail.append(get_rating(df['URL'].iloc[i]))\n"
     ]
    },
    {
     "name": "stdout",
     "output_type": "stream",
     "text": [
      "successfully get content\n"
     ]
    },
    {
     "name": "stderr",
     "output_type": "stream",
     "text": [
      "C:\\Users\\SHIHAO~1\\AppData\\Local\\Temp/ipykernel_58772/2202860112.py:5: FutureWarning: The frame.append method is deprecated and will be removed from pandas in a future version. Use pandas.concat instead.\n",
      "  df_detail = df_detail.append(get_rating(df['URL'].iloc[i]))\n"
     ]
    },
    {
     "name": "stdout",
     "output_type": "stream",
     "text": [
      "fail1\n",
      "fail2\n",
      "fail3\n"
     ]
    },
    {
     "name": "stderr",
     "output_type": "stream",
     "text": [
      "C:\\Users\\SHIHAO~1\\AppData\\Local\\Temp/ipykernel_58772/2202860112.py:7: FutureWarning: The default dtype for empty Series will be 'object' instead of 'float64' in a future version. Specify a dtype explicitly to silence this warning.\n",
      "  df_detail = df_detail.append(pd.Series(),ignore_index=True)\n",
      "C:\\Users\\SHIHAO~1\\AppData\\Local\\Temp/ipykernel_58772/2202860112.py:7: FutureWarning: The frame.append method is deprecated and will be removed from pandas in a future version. Use pandas.concat instead.\n",
      "  df_detail = df_detail.append(pd.Series(),ignore_index=True)\n"
     ]
    },
    {
     "name": "stdout",
     "output_type": "stream",
     "text": [
      "fail1\n",
      "fail2\n",
      "fail3\n"
     ]
    },
    {
     "name": "stderr",
     "output_type": "stream",
     "text": [
      "C:\\Users\\SHIHAO~1\\AppData\\Local\\Temp/ipykernel_58772/2202860112.py:7: FutureWarning: The default dtype for empty Series will be 'object' instead of 'float64' in a future version. Specify a dtype explicitly to silence this warning.\n",
      "  df_detail = df_detail.append(pd.Series(),ignore_index=True)\n",
      "C:\\Users\\SHIHAO~1\\AppData\\Local\\Temp/ipykernel_58772/2202860112.py:7: FutureWarning: The frame.append method is deprecated and will be removed from pandas in a future version. Use pandas.concat instead.\n",
      "  df_detail = df_detail.append(pd.Series(),ignore_index=True)\n"
     ]
    },
    {
     "name": "stdout",
     "output_type": "stream",
     "text": [
      "fail1\n",
      "fail2\n",
      "fail3\n"
     ]
    },
    {
     "name": "stderr",
     "output_type": "stream",
     "text": [
      "C:\\Users\\SHIHAO~1\\AppData\\Local\\Temp/ipykernel_58772/2202860112.py:7: FutureWarning: The default dtype for empty Series will be 'object' instead of 'float64' in a future version. Specify a dtype explicitly to silence this warning.\n",
      "  df_detail = df_detail.append(pd.Series(),ignore_index=True)\n",
      "C:\\Users\\SHIHAO~1\\AppData\\Local\\Temp/ipykernel_58772/2202860112.py:7: FutureWarning: The frame.append method is deprecated and will be removed from pandas in a future version. Use pandas.concat instead.\n",
      "  df_detail = df_detail.append(pd.Series(),ignore_index=True)\n"
     ]
    },
    {
     "name": "stdout",
     "output_type": "stream",
     "text": [
      "fail1\n",
      "successfully get content\n"
     ]
    },
    {
     "name": "stderr",
     "output_type": "stream",
     "text": [
      "C:\\Users\\SHIHAO~1\\AppData\\Local\\Temp/ipykernel_58772/2202860112.py:7: FutureWarning: The default dtype for empty Series will be 'object' instead of 'float64' in a future version. Specify a dtype explicitly to silence this warning.\n",
      "  df_detail = df_detail.append(pd.Series(),ignore_index=True)\n",
      "C:\\Users\\SHIHAO~1\\AppData\\Local\\Temp/ipykernel_58772/2202860112.py:7: FutureWarning: The frame.append method is deprecated and will be removed from pandas in a future version. Use pandas.concat instead.\n",
      "  df_detail = df_detail.append(pd.Series(),ignore_index=True)\n"
     ]
    },
    {
     "name": "stdout",
     "output_type": "stream",
     "text": [
      "successfully get content\n"
     ]
    },
    {
     "name": "stderr",
     "output_type": "stream",
     "text": [
      "C:\\Users\\SHIHAO~1\\AppData\\Local\\Temp/ipykernel_58772/2202860112.py:7: FutureWarning: The default dtype for empty Series will be 'object' instead of 'float64' in a future version. Specify a dtype explicitly to silence this warning.\n",
      "  df_detail = df_detail.append(pd.Series(),ignore_index=True)\n",
      "C:\\Users\\SHIHAO~1\\AppData\\Local\\Temp/ipykernel_58772/2202860112.py:7: FutureWarning: The frame.append method is deprecated and will be removed from pandas in a future version. Use pandas.concat instead.\n",
      "  df_detail = df_detail.append(pd.Series(),ignore_index=True)\n"
     ]
    },
    {
     "name": "stdout",
     "output_type": "stream",
     "text": [
      "successfully get content\n"
     ]
    },
    {
     "name": "stderr",
     "output_type": "stream",
     "text": [
      "C:\\Users\\SHIHAO~1\\AppData\\Local\\Temp/ipykernel_58772/2202860112.py:5: FutureWarning: The frame.append method is deprecated and will be removed from pandas in a future version. Use pandas.concat instead.\n",
      "  df_detail = df_detail.append(get_rating(df['URL'].iloc[i]))\n"
     ]
    },
    {
     "name": "stdout",
     "output_type": "stream",
     "text": [
      "fail1\n",
      "fail2\n",
      "fail3\n"
     ]
    },
    {
     "name": "stderr",
     "output_type": "stream",
     "text": [
      "C:\\Users\\SHIHAO~1\\AppData\\Local\\Temp/ipykernel_58772/2202860112.py:7: FutureWarning: The default dtype for empty Series will be 'object' instead of 'float64' in a future version. Specify a dtype explicitly to silence this warning.\n",
      "  df_detail = df_detail.append(pd.Series(),ignore_index=True)\n",
      "C:\\Users\\SHIHAO~1\\AppData\\Local\\Temp/ipykernel_58772/2202860112.py:7: FutureWarning: The frame.append method is deprecated and will be removed from pandas in a future version. Use pandas.concat instead.\n",
      "  df_detail = df_detail.append(pd.Series(),ignore_index=True)\n"
     ]
    },
    {
     "name": "stdout",
     "output_type": "stream",
     "text": [
      "fail1\n",
      "fail2\n",
      "fail3\n"
     ]
    },
    {
     "name": "stderr",
     "output_type": "stream",
     "text": [
      "C:\\Users\\SHIHAO~1\\AppData\\Local\\Temp/ipykernel_58772/2202860112.py:7: FutureWarning: The default dtype for empty Series will be 'object' instead of 'float64' in a future version. Specify a dtype explicitly to silence this warning.\n",
      "  df_detail = df_detail.append(pd.Series(),ignore_index=True)\n",
      "C:\\Users\\SHIHAO~1\\AppData\\Local\\Temp/ipykernel_58772/2202860112.py:7: FutureWarning: The frame.append method is deprecated and will be removed from pandas in a future version. Use pandas.concat instead.\n",
      "  df_detail = df_detail.append(pd.Series(),ignore_index=True)\n"
     ]
    },
    {
     "name": "stdout",
     "output_type": "stream",
     "text": [
      "successfully get content\n"
     ]
    },
    {
     "name": "stderr",
     "output_type": "stream",
     "text": [
      "C:\\Users\\SHIHAO~1\\AppData\\Local\\Temp/ipykernel_58772/2202860112.py:5: FutureWarning: The frame.append method is deprecated and will be removed from pandas in a future version. Use pandas.concat instead.\n",
      "  df_detail = df_detail.append(get_rating(df['URL'].iloc[i]))\n"
     ]
    },
    {
     "name": "stdout",
     "output_type": "stream",
     "text": [
      "successfully get content\n",
      "successfully get content\n"
     ]
    },
    {
     "name": "stderr",
     "output_type": "stream",
     "text": [
      "C:\\Users\\SHIHAO~1\\AppData\\Local\\Temp/ipykernel_58772/2202860112.py:5: FutureWarning: The frame.append method is deprecated and will be removed from pandas in a future version. Use pandas.concat instead.\n",
      "  df_detail = df_detail.append(get_rating(df['URL'].iloc[i]))\n"
     ]
    },
    {
     "name": "stdout",
     "output_type": "stream",
     "text": [
      "successfully get content\n"
     ]
    },
    {
     "name": "stderr",
     "output_type": "stream",
     "text": [
      "C:\\Users\\SHIHAO~1\\AppData\\Local\\Temp/ipykernel_58772/2202860112.py:5: FutureWarning: The frame.append method is deprecated and will be removed from pandas in a future version. Use pandas.concat instead.\n",
      "  df_detail = df_detail.append(get_rating(df['URL'].iloc[i]))\n"
     ]
    },
    {
     "name": "stdout",
     "output_type": "stream",
     "text": [
      "successfully get content\n"
     ]
    },
    {
     "name": "stderr",
     "output_type": "stream",
     "text": [
      "C:\\Users\\SHIHAO~1\\AppData\\Local\\Temp/ipykernel_58772/2202860112.py:5: FutureWarning: The frame.append method is deprecated and will be removed from pandas in a future version. Use pandas.concat instead.\n",
      "  df_detail = df_detail.append(get_rating(df['URL'].iloc[i]))\n"
     ]
    },
    {
     "name": "stdout",
     "output_type": "stream",
     "text": [
      "successfully get content\n"
     ]
    },
    {
     "name": "stderr",
     "output_type": "stream",
     "text": [
      "C:\\Users\\SHIHAO~1\\AppData\\Local\\Temp/ipykernel_58772/2202860112.py:5: FutureWarning: The frame.append method is deprecated and will be removed from pandas in a future version. Use pandas.concat instead.\n",
      "  df_detail = df_detail.append(get_rating(df['URL'].iloc[i]))\n"
     ]
    },
    {
     "name": "stdout",
     "output_type": "stream",
     "text": [
      "successfully get content\n"
     ]
    },
    {
     "name": "stderr",
     "output_type": "stream",
     "text": [
      "C:\\Users\\SHIHAO~1\\AppData\\Local\\Temp/ipykernel_58772/2202860112.py:5: FutureWarning: The frame.append method is deprecated and will be removed from pandas in a future version. Use pandas.concat instead.\n",
      "  df_detail = df_detail.append(get_rating(df['URL'].iloc[i]))\n"
     ]
    },
    {
     "name": "stdout",
     "output_type": "stream",
     "text": [
      "successfully get content\n"
     ]
    },
    {
     "name": "stderr",
     "output_type": "stream",
     "text": [
      "C:\\Users\\SHIHAO~1\\AppData\\Local\\Temp/ipykernel_58772/2202860112.py:5: FutureWarning: The frame.append method is deprecated and will be removed from pandas in a future version. Use pandas.concat instead.\n",
      "  df_detail = df_detail.append(get_rating(df['URL'].iloc[i]))\n"
     ]
    },
    {
     "name": "stdout",
     "output_type": "stream",
     "text": [
      "successfully get content\n"
     ]
    },
    {
     "name": "stderr",
     "output_type": "stream",
     "text": [
      "C:\\Users\\SHIHAO~1\\AppData\\Local\\Temp/ipykernel_58772/2202860112.py:5: FutureWarning: The frame.append method is deprecated and will be removed from pandas in a future version. Use pandas.concat instead.\n",
      "  df_detail = df_detail.append(get_rating(df['URL'].iloc[i]))\n"
     ]
    },
    {
     "name": "stdout",
     "output_type": "stream",
     "text": [
      "fail1\n",
      "fail2\n",
      "successfully get content\n"
     ]
    },
    {
     "name": "stderr",
     "output_type": "stream",
     "text": [
      "C:\\Users\\SHIHAO~1\\AppData\\Local\\Temp/ipykernel_58772/2202860112.py:5: FutureWarning: The frame.append method is deprecated and will be removed from pandas in a future version. Use pandas.concat instead.\n",
      "  df_detail = df_detail.append(get_rating(df['URL'].iloc[i]))\n"
     ]
    },
    {
     "name": "stdout",
     "output_type": "stream",
     "text": [
      "successfully get content\n"
     ]
    },
    {
     "name": "stderr",
     "output_type": "stream",
     "text": [
      "C:\\Users\\SHIHAO~1\\AppData\\Local\\Temp/ipykernel_58772/2202860112.py:7: FutureWarning: The default dtype for empty Series will be 'object' instead of 'float64' in a future version. Specify a dtype explicitly to silence this warning.\n",
      "  df_detail = df_detail.append(pd.Series(),ignore_index=True)\n",
      "C:\\Users\\SHIHAO~1\\AppData\\Local\\Temp/ipykernel_58772/2202860112.py:7: FutureWarning: The frame.append method is deprecated and will be removed from pandas in a future version. Use pandas.concat instead.\n",
      "  df_detail = df_detail.append(pd.Series(),ignore_index=True)\n"
     ]
    },
    {
     "name": "stdout",
     "output_type": "stream",
     "text": [
      "fail1\n",
      "fail2\n",
      "fail3\n"
     ]
    },
    {
     "name": "stderr",
     "output_type": "stream",
     "text": [
      "C:\\Users\\SHIHAO~1\\AppData\\Local\\Temp/ipykernel_58772/2202860112.py:7: FutureWarning: The default dtype for empty Series will be 'object' instead of 'float64' in a future version. Specify a dtype explicitly to silence this warning.\n",
      "  df_detail = df_detail.append(pd.Series(),ignore_index=True)\n",
      "C:\\Users\\SHIHAO~1\\AppData\\Local\\Temp/ipykernel_58772/2202860112.py:7: FutureWarning: The frame.append method is deprecated and will be removed from pandas in a future version. Use pandas.concat instead.\n",
      "  df_detail = df_detail.append(pd.Series(),ignore_index=True)\n"
     ]
    },
    {
     "name": "stdout",
     "output_type": "stream",
     "text": [
      "fail1\n",
      "fail2\n",
      "fail3\n"
     ]
    },
    {
     "name": "stderr",
     "output_type": "stream",
     "text": [
      "C:\\Users\\SHIHAO~1\\AppData\\Local\\Temp/ipykernel_58772/2202860112.py:7: FutureWarning: The default dtype for empty Series will be 'object' instead of 'float64' in a future version. Specify a dtype explicitly to silence this warning.\n",
      "  df_detail = df_detail.append(pd.Series(),ignore_index=True)\n",
      "C:\\Users\\SHIHAO~1\\AppData\\Local\\Temp/ipykernel_58772/2202860112.py:7: FutureWarning: The frame.append method is deprecated and will be removed from pandas in a future version. Use pandas.concat instead.\n",
      "  df_detail = df_detail.append(pd.Series(),ignore_index=True)\n"
     ]
    },
    {
     "name": "stdout",
     "output_type": "stream",
     "text": [
      "fail1\n",
      "fail2\n",
      "successfully get content\n"
     ]
    },
    {
     "name": "stderr",
     "output_type": "stream",
     "text": [
      "C:\\Users\\SHIHAO~1\\AppData\\Local\\Temp/ipykernel_58772/2202860112.py:5: FutureWarning: The frame.append method is deprecated and will be removed from pandas in a future version. Use pandas.concat instead.\n",
      "  df_detail = df_detail.append(get_rating(df['URL'].iloc[i]))\n"
     ]
    },
    {
     "name": "stdout",
     "output_type": "stream",
     "text": [
      "successfully get content\n",
      "successfully get content\n"
     ]
    },
    {
     "name": "stderr",
     "output_type": "stream",
     "text": [
      "C:\\Users\\SHIHAO~1\\AppData\\Local\\Temp/ipykernel_58772/2202860112.py:5: FutureWarning: The frame.append method is deprecated and will be removed from pandas in a future version. Use pandas.concat instead.\n",
      "  df_detail = df_detail.append(get_rating(df['URL'].iloc[i]))\n"
     ]
    },
    {
     "name": "stdout",
     "output_type": "stream",
     "text": [
      "successfully get content\n"
     ]
    },
    {
     "name": "stderr",
     "output_type": "stream",
     "text": [
      "C:\\Users\\SHIHAO~1\\AppData\\Local\\Temp/ipykernel_58772/2202860112.py:5: FutureWarning: The frame.append method is deprecated and will be removed from pandas in a future version. Use pandas.concat instead.\n",
      "  df_detail = df_detail.append(get_rating(df['URL'].iloc[i]))\n"
     ]
    },
    {
     "name": "stdout",
     "output_type": "stream",
     "text": [
      "successfully get content\n"
     ]
    },
    {
     "name": "stderr",
     "output_type": "stream",
     "text": [
      "C:\\Users\\SHIHAO~1\\AppData\\Local\\Temp/ipykernel_58772/2202860112.py:5: FutureWarning: The frame.append method is deprecated and will be removed from pandas in a future version. Use pandas.concat instead.\n",
      "  df_detail = df_detail.append(get_rating(df['URL'].iloc[i]))\n"
     ]
    },
    {
     "name": "stdout",
     "output_type": "stream",
     "text": [
      "successfully get content\n"
     ]
    },
    {
     "name": "stderr",
     "output_type": "stream",
     "text": [
      "C:\\Users\\SHIHAO~1\\AppData\\Local\\Temp/ipykernel_58772/2202860112.py:5: FutureWarning: The frame.append method is deprecated and will be removed from pandas in a future version. Use pandas.concat instead.\n",
      "  df_detail = df_detail.append(get_rating(df['URL'].iloc[i]))\n"
     ]
    },
    {
     "name": "stdout",
     "output_type": "stream",
     "text": [
      "successfully get content\n"
     ]
    },
    {
     "name": "stderr",
     "output_type": "stream",
     "text": [
      "C:\\Users\\SHIHAO~1\\AppData\\Local\\Temp/ipykernel_58772/2202860112.py:5: FutureWarning: The frame.append method is deprecated and will be removed from pandas in a future version. Use pandas.concat instead.\n",
      "  df_detail = df_detail.append(get_rating(df['URL'].iloc[i]))\n"
     ]
    },
    {
     "name": "stdout",
     "output_type": "stream",
     "text": [
      "fail1\n",
      "fail2\n",
      "successfully get content\n"
     ]
    },
    {
     "name": "stderr",
     "output_type": "stream",
     "text": [
      "C:\\Users\\SHIHAO~1\\AppData\\Local\\Temp/ipykernel_58772/2202860112.py:5: FutureWarning: The frame.append method is deprecated and will be removed from pandas in a future version. Use pandas.concat instead.\n",
      "  df_detail = df_detail.append(get_rating(df['URL'].iloc[i]))\n"
     ]
    },
    {
     "name": "stdout",
     "output_type": "stream",
     "text": [
      "successfully get content\n"
     ]
    },
    {
     "name": "stderr",
     "output_type": "stream",
     "text": [
      "C:\\Users\\SHIHAO~1\\AppData\\Local\\Temp/ipykernel_58772/2202860112.py:5: FutureWarning: The frame.append method is deprecated and will be removed from pandas in a future version. Use pandas.concat instead.\n",
      "  df_detail = df_detail.append(get_rating(df['URL'].iloc[i]))\n"
     ]
    },
    {
     "name": "stdout",
     "output_type": "stream",
     "text": [
      "successfully get content\n"
     ]
    },
    {
     "name": "stderr",
     "output_type": "stream",
     "text": [
      "C:\\Users\\SHIHAO~1\\AppData\\Local\\Temp/ipykernel_58772/2202860112.py:7: FutureWarning: The default dtype for empty Series will be 'object' instead of 'float64' in a future version. Specify a dtype explicitly to silence this warning.\n",
      "  df_detail = df_detail.append(pd.Series(),ignore_index=True)\n",
      "C:\\Users\\SHIHAO~1\\AppData\\Local\\Temp/ipykernel_58772/2202860112.py:7: FutureWarning: The frame.append method is deprecated and will be removed from pandas in a future version. Use pandas.concat instead.\n",
      "  df_detail = df_detail.append(pd.Series(),ignore_index=True)\n"
     ]
    },
    {
     "name": "stdout",
     "output_type": "stream",
     "text": [
      "fail1\n",
      "fail2\n",
      "fail3\n"
     ]
    },
    {
     "name": "stderr",
     "output_type": "stream",
     "text": [
      "C:\\Users\\SHIHAO~1\\AppData\\Local\\Temp/ipykernel_58772/2202860112.py:7: FutureWarning: The default dtype for empty Series will be 'object' instead of 'float64' in a future version. Specify a dtype explicitly to silence this warning.\n",
      "  df_detail = df_detail.append(pd.Series(),ignore_index=True)\n",
      "C:\\Users\\SHIHAO~1\\AppData\\Local\\Temp/ipykernel_58772/2202860112.py:7: FutureWarning: The frame.append method is deprecated and will be removed from pandas in a future version. Use pandas.concat instead.\n",
      "  df_detail = df_detail.append(pd.Series(),ignore_index=True)\n"
     ]
    },
    {
     "name": "stdout",
     "output_type": "stream",
     "text": [
      "fail1\n",
      "fail2\n",
      "fail3\n"
     ]
    },
    {
     "name": "stderr",
     "output_type": "stream",
     "text": [
      "C:\\Users\\SHIHAO~1\\AppData\\Local\\Temp/ipykernel_58772/2202860112.py:7: FutureWarning: The default dtype for empty Series will be 'object' instead of 'float64' in a future version. Specify a dtype explicitly to silence this warning.\n",
      "  df_detail = df_detail.append(pd.Series(),ignore_index=True)\n",
      "C:\\Users\\SHIHAO~1\\AppData\\Local\\Temp/ipykernel_58772/2202860112.py:7: FutureWarning: The frame.append method is deprecated and will be removed from pandas in a future version. Use pandas.concat instead.\n",
      "  df_detail = df_detail.append(pd.Series(),ignore_index=True)\n"
     ]
    },
    {
     "name": "stdout",
     "output_type": "stream",
     "text": [
      "fail1\n",
      "fail2\n",
      "fail3\n"
     ]
    },
    {
     "name": "stderr",
     "output_type": "stream",
     "text": [
      "C:\\Users\\SHIHAO~1\\AppData\\Local\\Temp/ipykernel_58772/2202860112.py:7: FutureWarning: The default dtype for empty Series will be 'object' instead of 'float64' in a future version. Specify a dtype explicitly to silence this warning.\n",
      "  df_detail = df_detail.append(pd.Series(),ignore_index=True)\n",
      "C:\\Users\\SHIHAO~1\\AppData\\Local\\Temp/ipykernel_58772/2202860112.py:7: FutureWarning: The frame.append method is deprecated and will be removed from pandas in a future version. Use pandas.concat instead.\n",
      "  df_detail = df_detail.append(pd.Series(),ignore_index=True)\n"
     ]
    },
    {
     "name": "stdout",
     "output_type": "stream",
     "text": [
      "fail1\n",
      "fail2\n",
      "fail3\n"
     ]
    },
    {
     "name": "stderr",
     "output_type": "stream",
     "text": [
      "C:\\Users\\SHIHAO~1\\AppData\\Local\\Temp/ipykernel_58772/2202860112.py:7: FutureWarning: The default dtype for empty Series will be 'object' instead of 'float64' in a future version. Specify a dtype explicitly to silence this warning.\n",
      "  df_detail = df_detail.append(pd.Series(),ignore_index=True)\n",
      "C:\\Users\\SHIHAO~1\\AppData\\Local\\Temp/ipykernel_58772/2202860112.py:7: FutureWarning: The frame.append method is deprecated and will be removed from pandas in a future version. Use pandas.concat instead.\n",
      "  df_detail = df_detail.append(pd.Series(),ignore_index=True)\n"
     ]
    },
    {
     "name": "stdout",
     "output_type": "stream",
     "text": [
      "fail1\n",
      "fail2\n",
      "fail3\n"
     ]
    },
    {
     "name": "stderr",
     "output_type": "stream",
     "text": [
      "C:\\Users\\SHIHAO~1\\AppData\\Local\\Temp/ipykernel_58772/2202860112.py:7: FutureWarning: The default dtype for empty Series will be 'object' instead of 'float64' in a future version. Specify a dtype explicitly to silence this warning.\n",
      "  df_detail = df_detail.append(pd.Series(),ignore_index=True)\n",
      "C:\\Users\\SHIHAO~1\\AppData\\Local\\Temp/ipykernel_58772/2202860112.py:7: FutureWarning: The frame.append method is deprecated and will be removed from pandas in a future version. Use pandas.concat instead.\n",
      "  df_detail = df_detail.append(pd.Series(),ignore_index=True)\n"
     ]
    },
    {
     "name": "stdout",
     "output_type": "stream",
     "text": [
      "fail1\n",
      "fail2\n",
      "successfully get content\n"
     ]
    },
    {
     "name": "stderr",
     "output_type": "stream",
     "text": [
      "C:\\Users\\SHIHAO~1\\AppData\\Local\\Temp/ipykernel_58772/2202860112.py:5: FutureWarning: The frame.append method is deprecated and will be removed from pandas in a future version. Use pandas.concat instead.\n",
      "  df_detail = df_detail.append(get_rating(df['URL'].iloc[i]))\n"
     ]
    },
    {
     "name": "stdout",
     "output_type": "stream",
     "text": [
      "successfully get content\n",
      "successfully get content\n"
     ]
    },
    {
     "name": "stderr",
     "output_type": "stream",
     "text": [
      "C:\\Users\\SHIHAO~1\\AppData\\Local\\Temp/ipykernel_58772/2202860112.py:5: FutureWarning: The frame.append method is deprecated and will be removed from pandas in a future version. Use pandas.concat instead.\n",
      "  df_detail = df_detail.append(get_rating(df['URL'].iloc[i]))\n"
     ]
    },
    {
     "name": "stdout",
     "output_type": "stream",
     "text": [
      "successfully get content\n"
     ]
    },
    {
     "name": "stderr",
     "output_type": "stream",
     "text": [
      "C:\\Users\\SHIHAO~1\\AppData\\Local\\Temp/ipykernel_58772/2202860112.py:5: FutureWarning: The frame.append method is deprecated and will be removed from pandas in a future version. Use pandas.concat instead.\n",
      "  df_detail = df_detail.append(get_rating(df['URL'].iloc[i]))\n"
     ]
    },
    {
     "name": "stdout",
     "output_type": "stream",
     "text": [
      "successfully get content\n"
     ]
    },
    {
     "name": "stderr",
     "output_type": "stream",
     "text": [
      "C:\\Users\\SHIHAO~1\\AppData\\Local\\Temp/ipykernel_58772/2202860112.py:5: FutureWarning: The frame.append method is deprecated and will be removed from pandas in a future version. Use pandas.concat instead.\n",
      "  df_detail = df_detail.append(get_rating(df['URL'].iloc[i]))\n"
     ]
    },
    {
     "name": "stdout",
     "output_type": "stream",
     "text": [
      "successfully get content\n"
     ]
    },
    {
     "name": "stderr",
     "output_type": "stream",
     "text": [
      "C:\\Users\\SHIHAO~1\\AppData\\Local\\Temp/ipykernel_58772/2202860112.py:5: FutureWarning: The frame.append method is deprecated and will be removed from pandas in a future version. Use pandas.concat instead.\n",
      "  df_detail = df_detail.append(get_rating(df['URL'].iloc[i]))\n"
     ]
    },
    {
     "name": "stdout",
     "output_type": "stream",
     "text": [
      "successfully get content\n"
     ]
    },
    {
     "name": "stderr",
     "output_type": "stream",
     "text": [
      "C:\\Users\\SHIHAO~1\\AppData\\Local\\Temp/ipykernel_58772/2202860112.py:5: FutureWarning: The frame.append method is deprecated and will be removed from pandas in a future version. Use pandas.concat instead.\n",
      "  df_detail = df_detail.append(get_rating(df['URL'].iloc[i]))\n"
     ]
    },
    {
     "name": "stdout",
     "output_type": "stream",
     "text": [
      "successfully get content\n"
     ]
    },
    {
     "name": "stderr",
     "output_type": "stream",
     "text": [
      "C:\\Users\\SHIHAO~1\\AppData\\Local\\Temp/ipykernel_58772/2202860112.py:7: FutureWarning: The default dtype for empty Series will be 'object' instead of 'float64' in a future version. Specify a dtype explicitly to silence this warning.\n",
      "  df_detail = df_detail.append(pd.Series(),ignore_index=True)\n",
      "C:\\Users\\SHIHAO~1\\AppData\\Local\\Temp/ipykernel_58772/2202860112.py:7: FutureWarning: The frame.append method is deprecated and will be removed from pandas in a future version. Use pandas.concat instead.\n",
      "  df_detail = df_detail.append(pd.Series(),ignore_index=True)\n"
     ]
    },
    {
     "name": "stdout",
     "output_type": "stream",
     "text": [
      "fail1\n",
      "fail2\n",
      "fail3\n"
     ]
    },
    {
     "name": "stderr",
     "output_type": "stream",
     "text": [
      "C:\\Users\\SHIHAO~1\\AppData\\Local\\Temp/ipykernel_58772/2202860112.py:7: FutureWarning: The default dtype for empty Series will be 'object' instead of 'float64' in a future version. Specify a dtype explicitly to silence this warning.\n",
      "  df_detail = df_detail.append(pd.Series(),ignore_index=True)\n",
      "C:\\Users\\SHIHAO~1\\AppData\\Local\\Temp/ipykernel_58772/2202860112.py:7: FutureWarning: The frame.append method is deprecated and will be removed from pandas in a future version. Use pandas.concat instead.\n",
      "  df_detail = df_detail.append(pd.Series(),ignore_index=True)\n"
     ]
    },
    {
     "name": "stdout",
     "output_type": "stream",
     "text": [
      "fail1\n",
      "fail2\n",
      "fail3\n"
     ]
    },
    {
     "name": "stderr",
     "output_type": "stream",
     "text": [
      "C:\\Users\\SHIHAO~1\\AppData\\Local\\Temp/ipykernel_58772/2202860112.py:7: FutureWarning: The default dtype for empty Series will be 'object' instead of 'float64' in a future version. Specify a dtype explicitly to silence this warning.\n",
      "  df_detail = df_detail.append(pd.Series(),ignore_index=True)\n",
      "C:\\Users\\SHIHAO~1\\AppData\\Local\\Temp/ipykernel_58772/2202860112.py:7: FutureWarning: The frame.append method is deprecated and will be removed from pandas in a future version. Use pandas.concat instead.\n",
      "  df_detail = df_detail.append(pd.Series(),ignore_index=True)\n"
     ]
    },
    {
     "name": "stdout",
     "output_type": "stream",
     "text": [
      "fail1\n",
      "fail2\n",
      "fail3\n"
     ]
    },
    {
     "name": "stderr",
     "output_type": "stream",
     "text": [
      "C:\\Users\\SHIHAO~1\\AppData\\Local\\Temp/ipykernel_58772/2202860112.py:7: FutureWarning: The default dtype for empty Series will be 'object' instead of 'float64' in a future version. Specify a dtype explicitly to silence this warning.\n",
      "  df_detail = df_detail.append(pd.Series(),ignore_index=True)\n",
      "C:\\Users\\SHIHAO~1\\AppData\\Local\\Temp/ipykernel_58772/2202860112.py:7: FutureWarning: The frame.append method is deprecated and will be removed from pandas in a future version. Use pandas.concat instead.\n",
      "  df_detail = df_detail.append(pd.Series(),ignore_index=True)\n"
     ]
    },
    {
     "name": "stdout",
     "output_type": "stream",
     "text": [
      "successfully get content\n"
     ]
    },
    {
     "name": "stderr",
     "output_type": "stream",
     "text": [
      "C:\\Users\\SHIHAO~1\\AppData\\Local\\Temp/ipykernel_58772/2202860112.py:5: FutureWarning: The frame.append method is deprecated and will be removed from pandas in a future version. Use pandas.concat instead.\n",
      "  df_detail = df_detail.append(get_rating(df['URL'].iloc[i]))\n"
     ]
    },
    {
     "name": "stdout",
     "output_type": "stream",
     "text": [
      "successfully get content\n",
      "successfully get content\n"
     ]
    },
    {
     "name": "stderr",
     "output_type": "stream",
     "text": [
      "C:\\Users\\SHIHAO~1\\AppData\\Local\\Temp/ipykernel_58772/2202860112.py:7: FutureWarning: The default dtype for empty Series will be 'object' instead of 'float64' in a future version. Specify a dtype explicitly to silence this warning.\n",
      "  df_detail = df_detail.append(pd.Series(),ignore_index=True)\n",
      "C:\\Users\\SHIHAO~1\\AppData\\Local\\Temp/ipykernel_58772/2202860112.py:7: FutureWarning: The frame.append method is deprecated and will be removed from pandas in a future version. Use pandas.concat instead.\n",
      "  df_detail = df_detail.append(pd.Series(),ignore_index=True)\n"
     ]
    },
    {
     "name": "stdout",
     "output_type": "stream",
     "text": [
      "successfully get content\n"
     ]
    },
    {
     "name": "stderr",
     "output_type": "stream",
     "text": [
      "C:\\Users\\SHIHAO~1\\AppData\\Local\\Temp/ipykernel_58772/2202860112.py:5: FutureWarning: The frame.append method is deprecated and will be removed from pandas in a future version. Use pandas.concat instead.\n",
      "  df_detail = df_detail.append(get_rating(df['URL'].iloc[i]))\n"
     ]
    },
    {
     "name": "stdout",
     "output_type": "stream",
     "text": [
      "fail1\n",
      "fail2\n",
      "fail3\n"
     ]
    },
    {
     "name": "stderr",
     "output_type": "stream",
     "text": [
      "C:\\Users\\SHIHAO~1\\AppData\\Local\\Temp/ipykernel_58772/2202860112.py:7: FutureWarning: The default dtype for empty Series will be 'object' instead of 'float64' in a future version. Specify a dtype explicitly to silence this warning.\n",
      "  df_detail = df_detail.append(pd.Series(),ignore_index=True)\n",
      "C:\\Users\\SHIHAO~1\\AppData\\Local\\Temp/ipykernel_58772/2202860112.py:7: FutureWarning: The frame.append method is deprecated and will be removed from pandas in a future version. Use pandas.concat instead.\n",
      "  df_detail = df_detail.append(pd.Series(),ignore_index=True)\n"
     ]
    },
    {
     "name": "stdout",
     "output_type": "stream",
     "text": [
      "fail1\n",
      "fail2\n",
      "fail3\n"
     ]
    },
    {
     "name": "stderr",
     "output_type": "stream",
     "text": [
      "C:\\Users\\SHIHAO~1\\AppData\\Local\\Temp/ipykernel_58772/2202860112.py:7: FutureWarning: The default dtype for empty Series will be 'object' instead of 'float64' in a future version. Specify a dtype explicitly to silence this warning.\n",
      "  df_detail = df_detail.append(pd.Series(),ignore_index=True)\n",
      "C:\\Users\\SHIHAO~1\\AppData\\Local\\Temp/ipykernel_58772/2202860112.py:7: FutureWarning: The frame.append method is deprecated and will be removed from pandas in a future version. Use pandas.concat instead.\n",
      "  df_detail = df_detail.append(pd.Series(),ignore_index=True)\n"
     ]
    },
    {
     "name": "stdout",
     "output_type": "stream",
     "text": [
      "fail1\n",
      "fail2\n",
      "fail3\n"
     ]
    },
    {
     "name": "stderr",
     "output_type": "stream",
     "text": [
      "C:\\Users\\SHIHAO~1\\AppData\\Local\\Temp/ipykernel_58772/2202860112.py:7: FutureWarning: The default dtype for empty Series will be 'object' instead of 'float64' in a future version. Specify a dtype explicitly to silence this warning.\n",
      "  df_detail = df_detail.append(pd.Series(),ignore_index=True)\n",
      "C:\\Users\\SHIHAO~1\\AppData\\Local\\Temp/ipykernel_58772/2202860112.py:7: FutureWarning: The frame.append method is deprecated and will be removed from pandas in a future version. Use pandas.concat instead.\n",
      "  df_detail = df_detail.append(pd.Series(),ignore_index=True)\n"
     ]
    },
    {
     "name": "stdout",
     "output_type": "stream",
     "text": [
      "fail1\n",
      "fail2\n",
      "fail3\n"
     ]
    },
    {
     "name": "stderr",
     "output_type": "stream",
     "text": [
      "C:\\Users\\SHIHAO~1\\AppData\\Local\\Temp/ipykernel_58772/2202860112.py:7: FutureWarning: The default dtype for empty Series will be 'object' instead of 'float64' in a future version. Specify a dtype explicitly to silence this warning.\n",
      "  df_detail = df_detail.append(pd.Series(),ignore_index=True)\n",
      "C:\\Users\\SHIHAO~1\\AppData\\Local\\Temp/ipykernel_58772/2202860112.py:7: FutureWarning: The frame.append method is deprecated and will be removed from pandas in a future version. Use pandas.concat instead.\n",
      "  df_detail = df_detail.append(pd.Series(),ignore_index=True)\n"
     ]
    },
    {
     "name": "stdout",
     "output_type": "stream",
     "text": [
      "fail1\n",
      "fail2\n",
      "fail3\n"
     ]
    },
    {
     "name": "stderr",
     "output_type": "stream",
     "text": [
      "C:\\Users\\SHIHAO~1\\AppData\\Local\\Temp/ipykernel_58772/2202860112.py:7: FutureWarning: The default dtype for empty Series will be 'object' instead of 'float64' in a future version. Specify a dtype explicitly to silence this warning.\n",
      "  df_detail = df_detail.append(pd.Series(),ignore_index=True)\n",
      "C:\\Users\\SHIHAO~1\\AppData\\Local\\Temp/ipykernel_58772/2202860112.py:7: FutureWarning: The frame.append method is deprecated and will be removed from pandas in a future version. Use pandas.concat instead.\n",
      "  df_detail = df_detail.append(pd.Series(),ignore_index=True)\n"
     ]
    },
    {
     "name": "stdout",
     "output_type": "stream",
     "text": [
      "fail1\n",
      "fail2\n",
      "fail3\n"
     ]
    },
    {
     "name": "stderr",
     "output_type": "stream",
     "text": [
      "C:\\Users\\SHIHAO~1\\AppData\\Local\\Temp/ipykernel_58772/2202860112.py:7: FutureWarning: The default dtype for empty Series will be 'object' instead of 'float64' in a future version. Specify a dtype explicitly to silence this warning.\n",
      "  df_detail = df_detail.append(pd.Series(),ignore_index=True)\n",
      "C:\\Users\\SHIHAO~1\\AppData\\Local\\Temp/ipykernel_58772/2202860112.py:7: FutureWarning: The frame.append method is deprecated and will be removed from pandas in a future version. Use pandas.concat instead.\n",
      "  df_detail = df_detail.append(pd.Series(),ignore_index=True)\n"
     ]
    },
    {
     "name": "stdout",
     "output_type": "stream",
     "text": [
      "fail1\n",
      "fail2\n",
      "fail3\n"
     ]
    },
    {
     "name": "stderr",
     "output_type": "stream",
     "text": [
      "C:\\Users\\SHIHAO~1\\AppData\\Local\\Temp/ipykernel_58772/2202860112.py:7: FutureWarning: The default dtype for empty Series will be 'object' instead of 'float64' in a future version. Specify a dtype explicitly to silence this warning.\n",
      "  df_detail = df_detail.append(pd.Series(),ignore_index=True)\n",
      "C:\\Users\\SHIHAO~1\\AppData\\Local\\Temp/ipykernel_58772/2202860112.py:7: FutureWarning: The frame.append method is deprecated and will be removed from pandas in a future version. Use pandas.concat instead.\n",
      "  df_detail = df_detail.append(pd.Series(),ignore_index=True)\n"
     ]
    },
    {
     "name": "stdout",
     "output_type": "stream",
     "text": [
      "fail1\n",
      "fail2\n",
      "fail3\n"
     ]
    },
    {
     "name": "stderr",
     "output_type": "stream",
     "text": [
      "C:\\Users\\SHIHAO~1\\AppData\\Local\\Temp/ipykernel_58772/2202860112.py:7: FutureWarning: The default dtype for empty Series will be 'object' instead of 'float64' in a future version. Specify a dtype explicitly to silence this warning.\n",
      "  df_detail = df_detail.append(pd.Series(),ignore_index=True)\n",
      "C:\\Users\\SHIHAO~1\\AppData\\Local\\Temp/ipykernel_58772/2202860112.py:7: FutureWarning: The frame.append method is deprecated and will be removed from pandas in a future version. Use pandas.concat instead.\n",
      "  df_detail = df_detail.append(pd.Series(),ignore_index=True)\n"
     ]
    },
    {
     "name": "stdout",
     "output_type": "stream",
     "text": [
      "fail1\n",
      "fail2\n",
      "fail3\n"
     ]
    },
    {
     "name": "stderr",
     "output_type": "stream",
     "text": [
      "C:\\Users\\SHIHAO~1\\AppData\\Local\\Temp/ipykernel_58772/2202860112.py:7: FutureWarning: The default dtype for empty Series will be 'object' instead of 'float64' in a future version. Specify a dtype explicitly to silence this warning.\n",
      "  df_detail = df_detail.append(pd.Series(),ignore_index=True)\n",
      "C:\\Users\\SHIHAO~1\\AppData\\Local\\Temp/ipykernel_58772/2202860112.py:7: FutureWarning: The frame.append method is deprecated and will be removed from pandas in a future version. Use pandas.concat instead.\n",
      "  df_detail = df_detail.append(pd.Series(),ignore_index=True)\n"
     ]
    },
    {
     "name": "stdout",
     "output_type": "stream",
     "text": [
      "fail1\n",
      "fail2\n",
      "fail3\n"
     ]
    },
    {
     "name": "stderr",
     "output_type": "stream",
     "text": [
      "C:\\Users\\SHIHAO~1\\AppData\\Local\\Temp/ipykernel_58772/2202860112.py:7: FutureWarning: The default dtype for empty Series will be 'object' instead of 'float64' in a future version. Specify a dtype explicitly to silence this warning.\n",
      "  df_detail = df_detail.append(pd.Series(),ignore_index=True)\n",
      "C:\\Users\\SHIHAO~1\\AppData\\Local\\Temp/ipykernel_58772/2202860112.py:7: FutureWarning: The frame.append method is deprecated and will be removed from pandas in a future version. Use pandas.concat instead.\n",
      "  df_detail = df_detail.append(pd.Series(),ignore_index=True)\n"
     ]
    },
    {
     "name": "stdout",
     "output_type": "stream",
     "text": [
      "fail1\n",
      "fail2\n",
      "fail3\n"
     ]
    },
    {
     "name": "stderr",
     "output_type": "stream",
     "text": [
      "C:\\Users\\SHIHAO~1\\AppData\\Local\\Temp/ipykernel_58772/2202860112.py:7: FutureWarning: The default dtype for empty Series will be 'object' instead of 'float64' in a future version. Specify a dtype explicitly to silence this warning.\n",
      "  df_detail = df_detail.append(pd.Series(),ignore_index=True)\n",
      "C:\\Users\\SHIHAO~1\\AppData\\Local\\Temp/ipykernel_58772/2202860112.py:7: FutureWarning: The frame.append method is deprecated and will be removed from pandas in a future version. Use pandas.concat instead.\n",
      "  df_detail = df_detail.append(pd.Series(),ignore_index=True)\n"
     ]
    },
    {
     "name": "stdout",
     "output_type": "stream",
     "text": [
      "fail1\n",
      "successfully get content\n"
     ]
    },
    {
     "name": "stderr",
     "output_type": "stream",
     "text": [
      "C:\\Users\\SHIHAO~1\\AppData\\Local\\Temp/ipykernel_58772/2202860112.py:7: FutureWarning: The default dtype for empty Series will be 'object' instead of 'float64' in a future version. Specify a dtype explicitly to silence this warning.\n",
      "  df_detail = df_detail.append(pd.Series(),ignore_index=True)\n",
      "C:\\Users\\SHIHAO~1\\AppData\\Local\\Temp/ipykernel_58772/2202860112.py:7: FutureWarning: The frame.append method is deprecated and will be removed from pandas in a future version. Use pandas.concat instead.\n",
      "  df_detail = df_detail.append(pd.Series(),ignore_index=True)\n"
     ]
    },
    {
     "name": "stdout",
     "output_type": "stream",
     "text": [
      "successfully get content\n"
     ]
    },
    {
     "name": "stderr",
     "output_type": "stream",
     "text": [
      "C:\\Users\\SHIHAO~1\\AppData\\Local\\Temp/ipykernel_58772/2202860112.py:5: FutureWarning: The frame.append method is deprecated and will be removed from pandas in a future version. Use pandas.concat instead.\n",
      "  df_detail = df_detail.append(get_rating(df['URL'].iloc[i]))\n"
     ]
    },
    {
     "name": "stdout",
     "output_type": "stream",
     "text": [
      "successfully get content\n",
      "successfully get content\n"
     ]
    },
    {
     "name": "stderr",
     "output_type": "stream",
     "text": [
      "C:\\Users\\SHIHAO~1\\AppData\\Local\\Temp/ipykernel_58772/2202860112.py:5: FutureWarning: The frame.append method is deprecated and will be removed from pandas in a future version. Use pandas.concat instead.\n",
      "  df_detail = df_detail.append(get_rating(df['URL'].iloc[i]))\n"
     ]
    },
    {
     "name": "stdout",
     "output_type": "stream",
     "text": [
      "fail1\n",
      "fail2\n",
      "fail3\n"
     ]
    },
    {
     "name": "stderr",
     "output_type": "stream",
     "text": [
      "C:\\Users\\SHIHAO~1\\AppData\\Local\\Temp/ipykernel_58772/2202860112.py:7: FutureWarning: The default dtype for empty Series will be 'object' instead of 'float64' in a future version. Specify a dtype explicitly to silence this warning.\n",
      "  df_detail = df_detail.append(pd.Series(),ignore_index=True)\n",
      "C:\\Users\\SHIHAO~1\\AppData\\Local\\Temp/ipykernel_58772/2202860112.py:7: FutureWarning: The frame.append method is deprecated and will be removed from pandas in a future version. Use pandas.concat instead.\n",
      "  df_detail = df_detail.append(pd.Series(),ignore_index=True)\n"
     ]
    },
    {
     "name": "stdout",
     "output_type": "stream",
     "text": [
      "fail1\n",
      "fail2\n",
      "fail3\n"
     ]
    },
    {
     "name": "stderr",
     "output_type": "stream",
     "text": [
      "C:\\Users\\SHIHAO~1\\AppData\\Local\\Temp/ipykernel_58772/2202860112.py:7: FutureWarning: The default dtype for empty Series will be 'object' instead of 'float64' in a future version. Specify a dtype explicitly to silence this warning.\n",
      "  df_detail = df_detail.append(pd.Series(),ignore_index=True)\n",
      "C:\\Users\\SHIHAO~1\\AppData\\Local\\Temp/ipykernel_58772/2202860112.py:7: FutureWarning: The frame.append method is deprecated and will be removed from pandas in a future version. Use pandas.concat instead.\n",
      "  df_detail = df_detail.append(pd.Series(),ignore_index=True)\n"
     ]
    },
    {
     "name": "stdout",
     "output_type": "stream",
     "text": [
      "fail1\n",
      "fail2\n",
      "fail3\n"
     ]
    },
    {
     "name": "stderr",
     "output_type": "stream",
     "text": [
      "C:\\Users\\SHIHAO~1\\AppData\\Local\\Temp/ipykernel_58772/2202860112.py:7: FutureWarning: The default dtype for empty Series will be 'object' instead of 'float64' in a future version. Specify a dtype explicitly to silence this warning.\n",
      "  df_detail = df_detail.append(pd.Series(),ignore_index=True)\n",
      "C:\\Users\\SHIHAO~1\\AppData\\Local\\Temp/ipykernel_58772/2202860112.py:7: FutureWarning: The frame.append method is deprecated and will be removed from pandas in a future version. Use pandas.concat instead.\n",
      "  df_detail = df_detail.append(pd.Series(),ignore_index=True)\n"
     ]
    },
    {
     "name": "stdout",
     "output_type": "stream",
     "text": [
      "fail1\n",
      "fail2\n",
      "fail3\n"
     ]
    },
    {
     "name": "stderr",
     "output_type": "stream",
     "text": [
      "C:\\Users\\SHIHAO~1\\AppData\\Local\\Temp/ipykernel_58772/2202860112.py:7: FutureWarning: The default dtype for empty Series will be 'object' instead of 'float64' in a future version. Specify a dtype explicitly to silence this warning.\n",
      "  df_detail = df_detail.append(pd.Series(),ignore_index=True)\n",
      "C:\\Users\\SHIHAO~1\\AppData\\Local\\Temp/ipykernel_58772/2202860112.py:7: FutureWarning: The frame.append method is deprecated and will be removed from pandas in a future version. Use pandas.concat instead.\n",
      "  df_detail = df_detail.append(pd.Series(),ignore_index=True)\n"
     ]
    },
    {
     "name": "stdout",
     "output_type": "stream",
     "text": [
      "fail1\n",
      "fail2\n",
      "fail3\n"
     ]
    },
    {
     "name": "stderr",
     "output_type": "stream",
     "text": [
      "C:\\Users\\SHIHAO~1\\AppData\\Local\\Temp/ipykernel_58772/2202860112.py:7: FutureWarning: The default dtype for empty Series will be 'object' instead of 'float64' in a future version. Specify a dtype explicitly to silence this warning.\n",
      "  df_detail = df_detail.append(pd.Series(),ignore_index=True)\n",
      "C:\\Users\\SHIHAO~1\\AppData\\Local\\Temp/ipykernel_58772/2202860112.py:7: FutureWarning: The frame.append method is deprecated and will be removed from pandas in a future version. Use pandas.concat instead.\n",
      "  df_detail = df_detail.append(pd.Series(),ignore_index=True)\n"
     ]
    },
    {
     "name": "stdout",
     "output_type": "stream",
     "text": [
      "fail1\n",
      "fail2\n",
      "fail3\n"
     ]
    },
    {
     "name": "stderr",
     "output_type": "stream",
     "text": [
      "C:\\Users\\SHIHAO~1\\AppData\\Local\\Temp/ipykernel_58772/2202860112.py:7: FutureWarning: The default dtype for empty Series will be 'object' instead of 'float64' in a future version. Specify a dtype explicitly to silence this warning.\n",
      "  df_detail = df_detail.append(pd.Series(),ignore_index=True)\n",
      "C:\\Users\\SHIHAO~1\\AppData\\Local\\Temp/ipykernel_58772/2202860112.py:7: FutureWarning: The frame.append method is deprecated and will be removed from pandas in a future version. Use pandas.concat instead.\n",
      "  df_detail = df_detail.append(pd.Series(),ignore_index=True)\n"
     ]
    },
    {
     "name": "stdout",
     "output_type": "stream",
     "text": [
      "fail1\n",
      "fail2\n",
      "fail3\n"
     ]
    },
    {
     "name": "stderr",
     "output_type": "stream",
     "text": [
      "C:\\Users\\SHIHAO~1\\AppData\\Local\\Temp/ipykernel_58772/2202860112.py:7: FutureWarning: The default dtype for empty Series will be 'object' instead of 'float64' in a future version. Specify a dtype explicitly to silence this warning.\n",
      "  df_detail = df_detail.append(pd.Series(),ignore_index=True)\n",
      "C:\\Users\\SHIHAO~1\\AppData\\Local\\Temp/ipykernel_58772/2202860112.py:7: FutureWarning: The frame.append method is deprecated and will be removed from pandas in a future version. Use pandas.concat instead.\n",
      "  df_detail = df_detail.append(pd.Series(),ignore_index=True)\n"
     ]
    },
    {
     "name": "stdout",
     "output_type": "stream",
     "text": [
      "fail1\n",
      "fail2\n",
      "fail3\n"
     ]
    },
    {
     "name": "stderr",
     "output_type": "stream",
     "text": [
      "C:\\Users\\SHIHAO~1\\AppData\\Local\\Temp/ipykernel_58772/2202860112.py:7: FutureWarning: The default dtype for empty Series will be 'object' instead of 'float64' in a future version. Specify a dtype explicitly to silence this warning.\n",
      "  df_detail = df_detail.append(pd.Series(),ignore_index=True)\n",
      "C:\\Users\\SHIHAO~1\\AppData\\Local\\Temp/ipykernel_58772/2202860112.py:7: FutureWarning: The frame.append method is deprecated and will be removed from pandas in a future version. Use pandas.concat instead.\n",
      "  df_detail = df_detail.append(pd.Series(),ignore_index=True)\n"
     ]
    },
    {
     "name": "stdout",
     "output_type": "stream",
     "text": [
      "fail1\n",
      "fail2\n",
      "fail3\n"
     ]
    },
    {
     "name": "stderr",
     "output_type": "stream",
     "text": [
      "C:\\Users\\SHIHAO~1\\AppData\\Local\\Temp/ipykernel_58772/2202860112.py:7: FutureWarning: The default dtype for empty Series will be 'object' instead of 'float64' in a future version. Specify a dtype explicitly to silence this warning.\n",
      "  df_detail = df_detail.append(pd.Series(),ignore_index=True)\n",
      "C:\\Users\\SHIHAO~1\\AppData\\Local\\Temp/ipykernel_58772/2202860112.py:7: FutureWarning: The frame.append method is deprecated and will be removed from pandas in a future version. Use pandas.concat instead.\n",
      "  df_detail = df_detail.append(pd.Series(),ignore_index=True)\n"
     ]
    },
    {
     "name": "stdout",
     "output_type": "stream",
     "text": [
      "successfully get content\n"
     ]
    },
    {
     "name": "stderr",
     "output_type": "stream",
     "text": [
      "C:\\Users\\SHIHAO~1\\AppData\\Local\\Temp/ipykernel_58772/2202860112.py:5: FutureWarning: The frame.append method is deprecated and will be removed from pandas in a future version. Use pandas.concat instead.\n",
      "  df_detail = df_detail.append(get_rating(df['URL'].iloc[i]))\n"
     ]
    },
    {
     "name": "stdout",
     "output_type": "stream",
     "text": [
      "successfully get content\n",
      "successfully get content\n"
     ]
    },
    {
     "name": "stderr",
     "output_type": "stream",
     "text": [
      "C:\\Users\\SHIHAO~1\\AppData\\Local\\Temp/ipykernel_58772/2202860112.py:5: FutureWarning: The frame.append method is deprecated and will be removed from pandas in a future version. Use pandas.concat instead.\n",
      "  df_detail = df_detail.append(get_rating(df['URL'].iloc[i]))\n"
     ]
    },
    {
     "name": "stdout",
     "output_type": "stream",
     "text": [
      "successfully get content\n"
     ]
    },
    {
     "name": "stderr",
     "output_type": "stream",
     "text": [
      "C:\\Users\\SHIHAO~1\\AppData\\Local\\Temp/ipykernel_58772/2202860112.py:5: FutureWarning: The frame.append method is deprecated and will be removed from pandas in a future version. Use pandas.concat instead.\n",
      "  df_detail = df_detail.append(get_rating(df['URL'].iloc[i]))\n"
     ]
    },
    {
     "name": "stdout",
     "output_type": "stream",
     "text": [
      "successfully get content\n"
     ]
    },
    {
     "name": "stderr",
     "output_type": "stream",
     "text": [
      "C:\\Users\\SHIHAO~1\\AppData\\Local\\Temp/ipykernel_58772/2202860112.py:7: FutureWarning: The default dtype for empty Series will be 'object' instead of 'float64' in a future version. Specify a dtype explicitly to silence this warning.\n",
      "  df_detail = df_detail.append(pd.Series(),ignore_index=True)\n",
      "C:\\Users\\SHIHAO~1\\AppData\\Local\\Temp/ipykernel_58772/2202860112.py:7: FutureWarning: The frame.append method is deprecated and will be removed from pandas in a future version. Use pandas.concat instead.\n",
      "  df_detail = df_detail.append(pd.Series(),ignore_index=True)\n"
     ]
    },
    {
     "name": "stdout",
     "output_type": "stream",
     "text": [
      "successfully get content\n"
     ]
    },
    {
     "name": "stderr",
     "output_type": "stream",
     "text": [
      "C:\\Users\\SHIHAO~1\\AppData\\Local\\Temp/ipykernel_58772/2202860112.py:5: FutureWarning: The frame.append method is deprecated and will be removed from pandas in a future version. Use pandas.concat instead.\n",
      "  df_detail = df_detail.append(get_rating(df['URL'].iloc[i]))\n"
     ]
    },
    {
     "name": "stdout",
     "output_type": "stream",
     "text": [
      "successfully get content\n",
      "successfully get content\n"
     ]
    },
    {
     "name": "stderr",
     "output_type": "stream",
     "text": [
      "C:\\Users\\SHIHAO~1\\AppData\\Local\\Temp/ipykernel_58772/2202860112.py:5: FutureWarning: The frame.append method is deprecated and will be removed from pandas in a future version. Use pandas.concat instead.\n",
      "  df_detail = df_detail.append(get_rating(df['URL'].iloc[i]))\n"
     ]
    },
    {
     "name": "stdout",
     "output_type": "stream",
     "text": [
      "successfully get content\n"
     ]
    },
    {
     "name": "stderr",
     "output_type": "stream",
     "text": [
      "C:\\Users\\SHIHAO~1\\AppData\\Local\\Temp/ipykernel_58772/2202860112.py:5: FutureWarning: The frame.append method is deprecated and will be removed from pandas in a future version. Use pandas.concat instead.\n",
      "  df_detail = df_detail.append(get_rating(df['URL'].iloc[i]))\n"
     ]
    },
    {
     "name": "stdout",
     "output_type": "stream",
     "text": [
      "successfully get content\n"
     ]
    },
    {
     "name": "stderr",
     "output_type": "stream",
     "text": [
      "C:\\Users\\SHIHAO~1\\AppData\\Local\\Temp/ipykernel_58772/2202860112.py:5: FutureWarning: The frame.append method is deprecated and will be removed from pandas in a future version. Use pandas.concat instead.\n",
      "  df_detail = df_detail.append(get_rating(df['URL'].iloc[i]))\n"
     ]
    },
    {
     "name": "stdout",
     "output_type": "stream",
     "text": [
      "fail1\n",
      "fail2\n",
      "fail3\n"
     ]
    },
    {
     "name": "stderr",
     "output_type": "stream",
     "text": [
      "C:\\Users\\SHIHAO~1\\AppData\\Local\\Temp/ipykernel_58772/2202860112.py:7: FutureWarning: The default dtype for empty Series will be 'object' instead of 'float64' in a future version. Specify a dtype explicitly to silence this warning.\n",
      "  df_detail = df_detail.append(pd.Series(),ignore_index=True)\n",
      "C:\\Users\\SHIHAO~1\\AppData\\Local\\Temp/ipykernel_58772/2202860112.py:7: FutureWarning: The frame.append method is deprecated and will be removed from pandas in a future version. Use pandas.concat instead.\n",
      "  df_detail = df_detail.append(pd.Series(),ignore_index=True)\n"
     ]
    },
    {
     "name": "stdout",
     "output_type": "stream",
     "text": [
      "fail1\n",
      "fail2\n",
      "fail3\n"
     ]
    },
    {
     "name": "stderr",
     "output_type": "stream",
     "text": [
      "C:\\Users\\SHIHAO~1\\AppData\\Local\\Temp/ipykernel_58772/2202860112.py:7: FutureWarning: The default dtype for empty Series will be 'object' instead of 'float64' in a future version. Specify a dtype explicitly to silence this warning.\n",
      "  df_detail = df_detail.append(pd.Series(),ignore_index=True)\n",
      "C:\\Users\\SHIHAO~1\\AppData\\Local\\Temp/ipykernel_58772/2202860112.py:7: FutureWarning: The frame.append method is deprecated and will be removed from pandas in a future version. Use pandas.concat instead.\n",
      "  df_detail = df_detail.append(pd.Series(),ignore_index=True)\n"
     ]
    },
    {
     "name": "stdout",
     "output_type": "stream",
     "text": [
      "fail1\n",
      "fail2\n",
      "fail3\n"
     ]
    },
    {
     "name": "stderr",
     "output_type": "stream",
     "text": [
      "C:\\Users\\SHIHAO~1\\AppData\\Local\\Temp/ipykernel_58772/2202860112.py:7: FutureWarning: The default dtype for empty Series will be 'object' instead of 'float64' in a future version. Specify a dtype explicitly to silence this warning.\n",
      "  df_detail = df_detail.append(pd.Series(),ignore_index=True)\n",
      "C:\\Users\\SHIHAO~1\\AppData\\Local\\Temp/ipykernel_58772/2202860112.py:7: FutureWarning: The frame.append method is deprecated and will be removed from pandas in a future version. Use pandas.concat instead.\n",
      "  df_detail = df_detail.append(pd.Series(),ignore_index=True)\n"
     ]
    },
    {
     "name": "stdout",
     "output_type": "stream",
     "text": [
      "fail1\n",
      "fail2\n",
      "fail3\n"
     ]
    },
    {
     "name": "stderr",
     "output_type": "stream",
     "text": [
      "C:\\Users\\SHIHAO~1\\AppData\\Local\\Temp/ipykernel_58772/2202860112.py:7: FutureWarning: The default dtype for empty Series will be 'object' instead of 'float64' in a future version. Specify a dtype explicitly to silence this warning.\n",
      "  df_detail = df_detail.append(pd.Series(),ignore_index=True)\n",
      "C:\\Users\\SHIHAO~1\\AppData\\Local\\Temp/ipykernel_58772/2202860112.py:7: FutureWarning: The frame.append method is deprecated and will be removed from pandas in a future version. Use pandas.concat instead.\n",
      "  df_detail = df_detail.append(pd.Series(),ignore_index=True)\n"
     ]
    },
    {
     "name": "stdout",
     "output_type": "stream",
     "text": [
      "fail1\n",
      "fail2\n",
      "fail3\n"
     ]
    },
    {
     "name": "stderr",
     "output_type": "stream",
     "text": [
      "C:\\Users\\SHIHAO~1\\AppData\\Local\\Temp/ipykernel_58772/2202860112.py:7: FutureWarning: The default dtype for empty Series will be 'object' instead of 'float64' in a future version. Specify a dtype explicitly to silence this warning.\n",
      "  df_detail = df_detail.append(pd.Series(),ignore_index=True)\n",
      "C:\\Users\\SHIHAO~1\\AppData\\Local\\Temp/ipykernel_58772/2202860112.py:7: FutureWarning: The frame.append method is deprecated and will be removed from pandas in a future version. Use pandas.concat instead.\n",
      "  df_detail = df_detail.append(pd.Series(),ignore_index=True)\n"
     ]
    },
    {
     "name": "stdout",
     "output_type": "stream",
     "text": [
      "successfully get content\n"
     ]
    },
    {
     "name": "stderr",
     "output_type": "stream",
     "text": [
      "C:\\Users\\SHIHAO~1\\AppData\\Local\\Temp/ipykernel_58772/2202860112.py:5: FutureWarning: The frame.append method is deprecated and will be removed from pandas in a future version. Use pandas.concat instead.\n",
      "  df_detail = df_detail.append(get_rating(df['URL'].iloc[i]))\n"
     ]
    },
    {
     "name": "stdout",
     "output_type": "stream",
     "text": [
      "successfully get content\n"
     ]
    },
    {
     "name": "stderr",
     "output_type": "stream",
     "text": [
      "C:\\Users\\SHIHAO~1\\AppData\\Local\\Temp/ipykernel_58772/2202860112.py:7: FutureWarning: The default dtype for empty Series will be 'object' instead of 'float64' in a future version. Specify a dtype explicitly to silence this warning.\n",
      "  df_detail = df_detail.append(pd.Series(),ignore_index=True)\n",
      "C:\\Users\\SHIHAO~1\\AppData\\Local\\Temp/ipykernel_58772/2202860112.py:7: FutureWarning: The frame.append method is deprecated and will be removed from pandas in a future version. Use pandas.concat instead.\n",
      "  df_detail = df_detail.append(pd.Series(),ignore_index=True)\n"
     ]
    },
    {
     "name": "stdout",
     "output_type": "stream",
     "text": [
      "successfully get content\n"
     ]
    },
    {
     "name": "stderr",
     "output_type": "stream",
     "text": [
      "C:\\Users\\SHIHAO~1\\AppData\\Local\\Temp/ipykernel_58772/2202860112.py:5: FutureWarning: The frame.append method is deprecated and will be removed from pandas in a future version. Use pandas.concat instead.\n",
      "  df_detail = df_detail.append(get_rating(df['URL'].iloc[i]))\n"
     ]
    },
    {
     "name": "stdout",
     "output_type": "stream",
     "text": [
      "successfully get content\n",
      "successfully get content\n"
     ]
    },
    {
     "name": "stderr",
     "output_type": "stream",
     "text": [
      "C:\\Users\\SHIHAO~1\\AppData\\Local\\Temp/ipykernel_58772/2202860112.py:5: FutureWarning: The frame.append method is deprecated and will be removed from pandas in a future version. Use pandas.concat instead.\n",
      "  df_detail = df_detail.append(get_rating(df['URL'].iloc[i]))\n"
     ]
    },
    {
     "name": "stdout",
     "output_type": "stream",
     "text": [
      "successfully get content\n"
     ]
    },
    {
     "name": "stderr",
     "output_type": "stream",
     "text": [
      "C:\\Users\\SHIHAO~1\\AppData\\Local\\Temp/ipykernel_58772/2202860112.py:5: FutureWarning: The frame.append method is deprecated and will be removed from pandas in a future version. Use pandas.concat instead.\n",
      "  df_detail = df_detail.append(get_rating(df['URL'].iloc[i]))\n"
     ]
    },
    {
     "name": "stdout",
     "output_type": "stream",
     "text": [
      "fail1\n",
      "fail2\n",
      "fail3\n"
     ]
    },
    {
     "name": "stderr",
     "output_type": "stream",
     "text": [
      "C:\\Users\\SHIHAO~1\\AppData\\Local\\Temp/ipykernel_58772/2202860112.py:7: FutureWarning: The default dtype for empty Series will be 'object' instead of 'float64' in a future version. Specify a dtype explicitly to silence this warning.\n",
      "  df_detail = df_detail.append(pd.Series(),ignore_index=True)\n",
      "C:\\Users\\SHIHAO~1\\AppData\\Local\\Temp/ipykernel_58772/2202860112.py:7: FutureWarning: The frame.append method is deprecated and will be removed from pandas in a future version. Use pandas.concat instead.\n",
      "  df_detail = df_detail.append(pd.Series(),ignore_index=True)\n"
     ]
    },
    {
     "name": "stdout",
     "output_type": "stream",
     "text": [
      "fail1\n",
      "fail2\n",
      "fail3\n"
     ]
    },
    {
     "name": "stderr",
     "output_type": "stream",
     "text": [
      "C:\\Users\\SHIHAO~1\\AppData\\Local\\Temp/ipykernel_58772/2202860112.py:7: FutureWarning: The default dtype for empty Series will be 'object' instead of 'float64' in a future version. Specify a dtype explicitly to silence this warning.\n",
      "  df_detail = df_detail.append(pd.Series(),ignore_index=True)\n",
      "C:\\Users\\SHIHAO~1\\AppData\\Local\\Temp/ipykernel_58772/2202860112.py:7: FutureWarning: The frame.append method is deprecated and will be removed from pandas in a future version. Use pandas.concat instead.\n",
      "  df_detail = df_detail.append(pd.Series(),ignore_index=True)\n"
     ]
    },
    {
     "name": "stdout",
     "output_type": "stream",
     "text": [
      "fail1\n",
      "fail2\n",
      "fail3\n"
     ]
    },
    {
     "name": "stderr",
     "output_type": "stream",
     "text": [
      "C:\\Users\\SHIHAO~1\\AppData\\Local\\Temp/ipykernel_58772/2202860112.py:7: FutureWarning: The default dtype for empty Series will be 'object' instead of 'float64' in a future version. Specify a dtype explicitly to silence this warning.\n",
      "  df_detail = df_detail.append(pd.Series(),ignore_index=True)\n",
      "C:\\Users\\SHIHAO~1\\AppData\\Local\\Temp/ipykernel_58772/2202860112.py:7: FutureWarning: The frame.append method is deprecated and will be removed from pandas in a future version. Use pandas.concat instead.\n",
      "  df_detail = df_detail.append(pd.Series(),ignore_index=True)\n"
     ]
    },
    {
     "name": "stdout",
     "output_type": "stream",
     "text": [
      "fail1\n",
      "fail2\n",
      "fail3\n"
     ]
    },
    {
     "name": "stderr",
     "output_type": "stream",
     "text": [
      "C:\\Users\\SHIHAO~1\\AppData\\Local\\Temp/ipykernel_58772/2202860112.py:7: FutureWarning: The default dtype for empty Series will be 'object' instead of 'float64' in a future version. Specify a dtype explicitly to silence this warning.\n",
      "  df_detail = df_detail.append(pd.Series(),ignore_index=True)\n",
      "C:\\Users\\SHIHAO~1\\AppData\\Local\\Temp/ipykernel_58772/2202860112.py:7: FutureWarning: The frame.append method is deprecated and will be removed from pandas in a future version. Use pandas.concat instead.\n",
      "  df_detail = df_detail.append(pd.Series(),ignore_index=True)\n"
     ]
    },
    {
     "name": "stdout",
     "output_type": "stream",
     "text": [
      "fail1\n",
      "fail2\n",
      "fail3\n"
     ]
    },
    {
     "name": "stderr",
     "output_type": "stream",
     "text": [
      "C:\\Users\\SHIHAO~1\\AppData\\Local\\Temp/ipykernel_58772/2202860112.py:7: FutureWarning: The default dtype for empty Series will be 'object' instead of 'float64' in a future version. Specify a dtype explicitly to silence this warning.\n",
      "  df_detail = df_detail.append(pd.Series(),ignore_index=True)\n",
      "C:\\Users\\SHIHAO~1\\AppData\\Local\\Temp/ipykernel_58772/2202860112.py:7: FutureWarning: The frame.append method is deprecated and will be removed from pandas in a future version. Use pandas.concat instead.\n",
      "  df_detail = df_detail.append(pd.Series(),ignore_index=True)\n"
     ]
    },
    {
     "name": "stdout",
     "output_type": "stream",
     "text": [
      "fail1\n",
      "fail2\n",
      "fail3\n"
     ]
    },
    {
     "name": "stderr",
     "output_type": "stream",
     "text": [
      "C:\\Users\\SHIHAO~1\\AppData\\Local\\Temp/ipykernel_58772/2202860112.py:7: FutureWarning: The default dtype for empty Series will be 'object' instead of 'float64' in a future version. Specify a dtype explicitly to silence this warning.\n",
      "  df_detail = df_detail.append(pd.Series(),ignore_index=True)\n",
      "C:\\Users\\SHIHAO~1\\AppData\\Local\\Temp/ipykernel_58772/2202860112.py:7: FutureWarning: The frame.append method is deprecated and will be removed from pandas in a future version. Use pandas.concat instead.\n",
      "  df_detail = df_detail.append(pd.Series(),ignore_index=True)\n"
     ]
    },
    {
     "name": "stdout",
     "output_type": "stream",
     "text": [
      "fail1\n",
      "fail2\n",
      "fail3\n"
     ]
    },
    {
     "name": "stderr",
     "output_type": "stream",
     "text": [
      "C:\\Users\\SHIHAO~1\\AppData\\Local\\Temp/ipykernel_58772/2202860112.py:7: FutureWarning: The default dtype for empty Series will be 'object' instead of 'float64' in a future version. Specify a dtype explicitly to silence this warning.\n",
      "  df_detail = df_detail.append(pd.Series(),ignore_index=True)\n",
      "C:\\Users\\SHIHAO~1\\AppData\\Local\\Temp/ipykernel_58772/2202860112.py:7: FutureWarning: The frame.append method is deprecated and will be removed from pandas in a future version. Use pandas.concat instead.\n",
      "  df_detail = df_detail.append(pd.Series(),ignore_index=True)\n"
     ]
    },
    {
     "name": "stdout",
     "output_type": "stream",
     "text": [
      "fail1\n",
      "fail2\n",
      "fail3\n"
     ]
    },
    {
     "name": "stderr",
     "output_type": "stream",
     "text": [
      "C:\\Users\\SHIHAO~1\\AppData\\Local\\Temp/ipykernel_58772/2202860112.py:7: FutureWarning: The default dtype for empty Series will be 'object' instead of 'float64' in a future version. Specify a dtype explicitly to silence this warning.\n",
      "  df_detail = df_detail.append(pd.Series(),ignore_index=True)\n",
      "C:\\Users\\SHIHAO~1\\AppData\\Local\\Temp/ipykernel_58772/2202860112.py:7: FutureWarning: The frame.append method is deprecated and will be removed from pandas in a future version. Use pandas.concat instead.\n",
      "  df_detail = df_detail.append(pd.Series(),ignore_index=True)\n"
     ]
    },
    {
     "name": "stdout",
     "output_type": "stream",
     "text": [
      "fail1\n",
      "fail2\n",
      "fail3\n"
     ]
    },
    {
     "name": "stderr",
     "output_type": "stream",
     "text": [
      "C:\\Users\\SHIHAO~1\\AppData\\Local\\Temp/ipykernel_58772/2202860112.py:7: FutureWarning: The default dtype for empty Series will be 'object' instead of 'float64' in a future version. Specify a dtype explicitly to silence this warning.\n",
      "  df_detail = df_detail.append(pd.Series(),ignore_index=True)\n",
      "C:\\Users\\SHIHAO~1\\AppData\\Local\\Temp/ipykernel_58772/2202860112.py:7: FutureWarning: The frame.append method is deprecated and will be removed from pandas in a future version. Use pandas.concat instead.\n",
      "  df_detail = df_detail.append(pd.Series(),ignore_index=True)\n"
     ]
    },
    {
     "name": "stdout",
     "output_type": "stream",
     "text": [
      "fail1\n",
      "fail2\n",
      "fail3\n"
     ]
    },
    {
     "name": "stderr",
     "output_type": "stream",
     "text": [
      "C:\\Users\\SHIHAO~1\\AppData\\Local\\Temp/ipykernel_58772/2202860112.py:7: FutureWarning: The default dtype for empty Series will be 'object' instead of 'float64' in a future version. Specify a dtype explicitly to silence this warning.\n",
      "  df_detail = df_detail.append(pd.Series(),ignore_index=True)\n",
      "C:\\Users\\SHIHAO~1\\AppData\\Local\\Temp/ipykernel_58772/2202860112.py:7: FutureWarning: The frame.append method is deprecated and will be removed from pandas in a future version. Use pandas.concat instead.\n",
      "  df_detail = df_detail.append(pd.Series(),ignore_index=True)\n"
     ]
    },
    {
     "name": "stdout",
     "output_type": "stream",
     "text": [
      "fail1\n",
      "successfully get content\n"
     ]
    },
    {
     "name": "stderr",
     "output_type": "stream",
     "text": [
      "C:\\Users\\SHIHAO~1\\AppData\\Local\\Temp/ipykernel_58772/2202860112.py:5: FutureWarning: The frame.append method is deprecated and will be removed from pandas in a future version. Use pandas.concat instead.\n",
      "  df_detail = df_detail.append(get_rating(df['URL'].iloc[i]))\n"
     ]
    },
    {
     "name": "stdout",
     "output_type": "stream",
     "text": [
      "successfully get content\n",
      "successfully get content\n"
     ]
    },
    {
     "name": "stderr",
     "output_type": "stream",
     "text": [
      "C:\\Users\\SHIHAO~1\\AppData\\Local\\Temp/ipykernel_58772/2202860112.py:7: FutureWarning: The default dtype for empty Series will be 'object' instead of 'float64' in a future version. Specify a dtype explicitly to silence this warning.\n",
      "  df_detail = df_detail.append(pd.Series(),ignore_index=True)\n",
      "C:\\Users\\SHIHAO~1\\AppData\\Local\\Temp/ipykernel_58772/2202860112.py:7: FutureWarning: The frame.append method is deprecated and will be removed from pandas in a future version. Use pandas.concat instead.\n",
      "  df_detail = df_detail.append(pd.Series(),ignore_index=True)\n"
     ]
    },
    {
     "name": "stdout",
     "output_type": "stream",
     "text": [
      "fail1\n",
      "fail2\n",
      "fail3\n"
     ]
    },
    {
     "name": "stderr",
     "output_type": "stream",
     "text": [
      "C:\\Users\\SHIHAO~1\\AppData\\Local\\Temp/ipykernel_58772/2202860112.py:7: FutureWarning: The default dtype for empty Series will be 'object' instead of 'float64' in a future version. Specify a dtype explicitly to silence this warning.\n",
      "  df_detail = df_detail.append(pd.Series(),ignore_index=True)\n",
      "C:\\Users\\SHIHAO~1\\AppData\\Local\\Temp/ipykernel_58772/2202860112.py:7: FutureWarning: The frame.append method is deprecated and will be removed from pandas in a future version. Use pandas.concat instead.\n",
      "  df_detail = df_detail.append(pd.Series(),ignore_index=True)\n"
     ]
    },
    {
     "name": "stdout",
     "output_type": "stream",
     "text": [
      "fail1\n",
      "fail2\n",
      "fail3\n"
     ]
    },
    {
     "name": "stderr",
     "output_type": "stream",
     "text": [
      "C:\\Users\\SHIHAO~1\\AppData\\Local\\Temp/ipykernel_58772/2202860112.py:7: FutureWarning: The default dtype for empty Series will be 'object' instead of 'float64' in a future version. Specify a dtype explicitly to silence this warning.\n",
      "  df_detail = df_detail.append(pd.Series(),ignore_index=True)\n",
      "C:\\Users\\SHIHAO~1\\AppData\\Local\\Temp/ipykernel_58772/2202860112.py:7: FutureWarning: The frame.append method is deprecated and will be removed from pandas in a future version. Use pandas.concat instead.\n",
      "  df_detail = df_detail.append(pd.Series(),ignore_index=True)\n"
     ]
    },
    {
     "name": "stdout",
     "output_type": "stream",
     "text": [
      "fail1\n",
      "fail2\n",
      "fail3\n"
     ]
    },
    {
     "name": "stderr",
     "output_type": "stream",
     "text": [
      "C:\\Users\\SHIHAO~1\\AppData\\Local\\Temp/ipykernel_58772/2202860112.py:7: FutureWarning: The default dtype for empty Series will be 'object' instead of 'float64' in a future version. Specify a dtype explicitly to silence this warning.\n",
      "  df_detail = df_detail.append(pd.Series(),ignore_index=True)\n",
      "C:\\Users\\SHIHAO~1\\AppData\\Local\\Temp/ipykernel_58772/2202860112.py:7: FutureWarning: The frame.append method is deprecated and will be removed from pandas in a future version. Use pandas.concat instead.\n",
      "  df_detail = df_detail.append(pd.Series(),ignore_index=True)\n"
     ]
    },
    {
     "name": "stdout",
     "output_type": "stream",
     "text": [
      "fail1\n",
      "fail2\n",
      "fail3\n"
     ]
    },
    {
     "name": "stderr",
     "output_type": "stream",
     "text": [
      "C:\\Users\\SHIHAO~1\\AppData\\Local\\Temp/ipykernel_58772/2202860112.py:7: FutureWarning: The default dtype for empty Series will be 'object' instead of 'float64' in a future version. Specify a dtype explicitly to silence this warning.\n",
      "  df_detail = df_detail.append(pd.Series(),ignore_index=True)\n",
      "C:\\Users\\SHIHAO~1\\AppData\\Local\\Temp/ipykernel_58772/2202860112.py:7: FutureWarning: The frame.append method is deprecated and will be removed from pandas in a future version. Use pandas.concat instead.\n",
      "  df_detail = df_detail.append(pd.Series(),ignore_index=True)\n"
     ]
    },
    {
     "name": "stdout",
     "output_type": "stream",
     "text": [
      "fail1\n",
      "fail2\n",
      "fail3\n"
     ]
    },
    {
     "name": "stderr",
     "output_type": "stream",
     "text": [
      "C:\\Users\\SHIHAO~1\\AppData\\Local\\Temp/ipykernel_58772/2202860112.py:7: FutureWarning: The default dtype for empty Series will be 'object' instead of 'float64' in a future version. Specify a dtype explicitly to silence this warning.\n",
      "  df_detail = df_detail.append(pd.Series(),ignore_index=True)\n",
      "C:\\Users\\SHIHAO~1\\AppData\\Local\\Temp/ipykernel_58772/2202860112.py:7: FutureWarning: The frame.append method is deprecated and will be removed from pandas in a future version. Use pandas.concat instead.\n",
      "  df_detail = df_detail.append(pd.Series(),ignore_index=True)\n"
     ]
    },
    {
     "name": "stdout",
     "output_type": "stream",
     "text": [
      "fail1\n",
      "fail2\n",
      "successfully get content\n"
     ]
    },
    {
     "name": "stderr",
     "output_type": "stream",
     "text": [
      "C:\\Users\\SHIHAO~1\\AppData\\Local\\Temp/ipykernel_58772/2202860112.py:5: FutureWarning: The frame.append method is deprecated and will be removed from pandas in a future version. Use pandas.concat instead.\n",
      "  df_detail = df_detail.append(get_rating(df['URL'].iloc[i]))\n"
     ]
    },
    {
     "name": "stdout",
     "output_type": "stream",
     "text": [
      "successfully get content\n"
     ]
    },
    {
     "name": "stderr",
     "output_type": "stream",
     "text": [
      "C:\\Users\\SHIHAO~1\\AppData\\Local\\Temp/ipykernel_58772/2202860112.py:7: FutureWarning: The default dtype for empty Series will be 'object' instead of 'float64' in a future version. Specify a dtype explicitly to silence this warning.\n",
      "  df_detail = df_detail.append(pd.Series(),ignore_index=True)\n",
      "C:\\Users\\SHIHAO~1\\AppData\\Local\\Temp/ipykernel_58772/2202860112.py:7: FutureWarning: The frame.append method is deprecated and will be removed from pandas in a future version. Use pandas.concat instead.\n",
      "  df_detail = df_detail.append(pd.Series(),ignore_index=True)\n"
     ]
    },
    {
     "name": "stdout",
     "output_type": "stream",
     "text": [
      "successfully get content\n"
     ]
    },
    {
     "name": "stderr",
     "output_type": "stream",
     "text": [
      "C:\\Users\\SHIHAO~1\\AppData\\Local\\Temp/ipykernel_58772/2202860112.py:5: FutureWarning: The frame.append method is deprecated and will be removed from pandas in a future version. Use pandas.concat instead.\n",
      "  df_detail = df_detail.append(get_rating(df['URL'].iloc[i]))\n"
     ]
    },
    {
     "name": "stdout",
     "output_type": "stream",
     "text": [
      "successfully get content\n"
     ]
    },
    {
     "name": "stderr",
     "output_type": "stream",
     "text": [
      "C:\\Users\\SHIHAO~1\\AppData\\Local\\Temp/ipykernel_58772/2202860112.py:7: FutureWarning: The default dtype for empty Series will be 'object' instead of 'float64' in a future version. Specify a dtype explicitly to silence this warning.\n",
      "  df_detail = df_detail.append(pd.Series(),ignore_index=True)\n",
      "C:\\Users\\SHIHAO~1\\AppData\\Local\\Temp/ipykernel_58772/2202860112.py:7: FutureWarning: The frame.append method is deprecated and will be removed from pandas in a future version. Use pandas.concat instead.\n",
      "  df_detail = df_detail.append(pd.Series(),ignore_index=True)\n"
     ]
    },
    {
     "name": "stdout",
     "output_type": "stream",
     "text": [
      "successfully get content\n"
     ]
    },
    {
     "name": "stderr",
     "output_type": "stream",
     "text": [
      "C:\\Users\\SHIHAO~1\\AppData\\Local\\Temp/ipykernel_58772/2202860112.py:5: FutureWarning: The frame.append method is deprecated and will be removed from pandas in a future version. Use pandas.concat instead.\n",
      "  df_detail = df_detail.append(get_rating(df['URL'].iloc[i]))\n"
     ]
    },
    {
     "name": "stdout",
     "output_type": "stream",
     "text": [
      "successfully get content\n",
      "fail1\n",
      "fail2\n",
      "fail3\n"
     ]
    },
    {
     "name": "stderr",
     "output_type": "stream",
     "text": [
      "C:\\Users\\SHIHAO~1\\AppData\\Local\\Temp/ipykernel_58772/2202860112.py:7: FutureWarning: The default dtype for empty Series will be 'object' instead of 'float64' in a future version. Specify a dtype explicitly to silence this warning.\n",
      "  df_detail = df_detail.append(pd.Series(),ignore_index=True)\n",
      "C:\\Users\\SHIHAO~1\\AppData\\Local\\Temp/ipykernel_58772/2202860112.py:7: FutureWarning: The frame.append method is deprecated and will be removed from pandas in a future version. Use pandas.concat instead.\n",
      "  df_detail = df_detail.append(pd.Series(),ignore_index=True)\n"
     ]
    },
    {
     "name": "stdout",
     "output_type": "stream",
     "text": [
      "fail1\n",
      "fail2\n",
      "fail3\n"
     ]
    },
    {
     "name": "stderr",
     "output_type": "stream",
     "text": [
      "C:\\Users\\SHIHAO~1\\AppData\\Local\\Temp/ipykernel_58772/2202860112.py:7: FutureWarning: The default dtype for empty Series will be 'object' instead of 'float64' in a future version. Specify a dtype explicitly to silence this warning.\n",
      "  df_detail = df_detail.append(pd.Series(),ignore_index=True)\n",
      "C:\\Users\\SHIHAO~1\\AppData\\Local\\Temp/ipykernel_58772/2202860112.py:7: FutureWarning: The frame.append method is deprecated and will be removed from pandas in a future version. Use pandas.concat instead.\n",
      "  df_detail = df_detail.append(pd.Series(),ignore_index=True)\n"
     ]
    },
    {
     "name": "stdout",
     "output_type": "stream",
     "text": [
      "fail1\n",
      "fail2\n",
      "fail3\n"
     ]
    },
    {
     "name": "stderr",
     "output_type": "stream",
     "text": [
      "C:\\Users\\SHIHAO~1\\AppData\\Local\\Temp/ipykernel_58772/2202860112.py:7: FutureWarning: The default dtype for empty Series will be 'object' instead of 'float64' in a future version. Specify a dtype explicitly to silence this warning.\n",
      "  df_detail = df_detail.append(pd.Series(),ignore_index=True)\n",
      "C:\\Users\\SHIHAO~1\\AppData\\Local\\Temp/ipykernel_58772/2202860112.py:7: FutureWarning: The frame.append method is deprecated and will be removed from pandas in a future version. Use pandas.concat instead.\n",
      "  df_detail = df_detail.append(pd.Series(),ignore_index=True)\n"
     ]
    },
    {
     "name": "stdout",
     "output_type": "stream",
     "text": [
      "fail1\n",
      "fail2\n",
      "fail3\n"
     ]
    },
    {
     "name": "stderr",
     "output_type": "stream",
     "text": [
      "C:\\Users\\SHIHAO~1\\AppData\\Local\\Temp/ipykernel_58772/2202860112.py:7: FutureWarning: The default dtype for empty Series will be 'object' instead of 'float64' in a future version. Specify a dtype explicitly to silence this warning.\n",
      "  df_detail = df_detail.append(pd.Series(),ignore_index=True)\n",
      "C:\\Users\\SHIHAO~1\\AppData\\Local\\Temp/ipykernel_58772/2202860112.py:7: FutureWarning: The frame.append method is deprecated and will be removed from pandas in a future version. Use pandas.concat instead.\n",
      "  df_detail = df_detail.append(pd.Series(),ignore_index=True)\n"
     ]
    },
    {
     "name": "stdout",
     "output_type": "stream",
     "text": [
      "fail1\n",
      "fail2\n",
      "fail3\n"
     ]
    },
    {
     "name": "stderr",
     "output_type": "stream",
     "text": [
      "C:\\Users\\SHIHAO~1\\AppData\\Local\\Temp/ipykernel_58772/2202860112.py:7: FutureWarning: The default dtype for empty Series will be 'object' instead of 'float64' in a future version. Specify a dtype explicitly to silence this warning.\n",
      "  df_detail = df_detail.append(pd.Series(),ignore_index=True)\n",
      "C:\\Users\\SHIHAO~1\\AppData\\Local\\Temp/ipykernel_58772/2202860112.py:7: FutureWarning: The frame.append method is deprecated and will be removed from pandas in a future version. Use pandas.concat instead.\n",
      "  df_detail = df_detail.append(pd.Series(),ignore_index=True)\n"
     ]
    },
    {
     "name": "stdout",
     "output_type": "stream",
     "text": [
      "fail1\n",
      "fail2\n",
      "fail3\n"
     ]
    },
    {
     "name": "stderr",
     "output_type": "stream",
     "text": [
      "C:\\Users\\SHIHAO~1\\AppData\\Local\\Temp/ipykernel_58772/2202860112.py:7: FutureWarning: The default dtype for empty Series will be 'object' instead of 'float64' in a future version. Specify a dtype explicitly to silence this warning.\n",
      "  df_detail = df_detail.append(pd.Series(),ignore_index=True)\n",
      "C:\\Users\\SHIHAO~1\\AppData\\Local\\Temp/ipykernel_58772/2202860112.py:7: FutureWarning: The frame.append method is deprecated and will be removed from pandas in a future version. Use pandas.concat instead.\n",
      "  df_detail = df_detail.append(pd.Series(),ignore_index=True)\n"
     ]
    },
    {
     "name": "stdout",
     "output_type": "stream",
     "text": [
      "fail1\n",
      "fail2\n",
      "fail3\n"
     ]
    },
    {
     "name": "stderr",
     "output_type": "stream",
     "text": [
      "C:\\Users\\SHIHAO~1\\AppData\\Local\\Temp/ipykernel_58772/2202860112.py:7: FutureWarning: The default dtype for empty Series will be 'object' instead of 'float64' in a future version. Specify a dtype explicitly to silence this warning.\n",
      "  df_detail = df_detail.append(pd.Series(),ignore_index=True)\n",
      "C:\\Users\\SHIHAO~1\\AppData\\Local\\Temp/ipykernel_58772/2202860112.py:7: FutureWarning: The frame.append method is deprecated and will be removed from pandas in a future version. Use pandas.concat instead.\n",
      "  df_detail = df_detail.append(pd.Series(),ignore_index=True)\n"
     ]
    },
    {
     "name": "stdout",
     "output_type": "stream",
     "text": [
      "fail1\n",
      "fail2\n",
      "fail3\n"
     ]
    },
    {
     "name": "stderr",
     "output_type": "stream",
     "text": [
      "C:\\Users\\SHIHAO~1\\AppData\\Local\\Temp/ipykernel_58772/2202860112.py:7: FutureWarning: The default dtype for empty Series will be 'object' instead of 'float64' in a future version. Specify a dtype explicitly to silence this warning.\n",
      "  df_detail = df_detail.append(pd.Series(),ignore_index=True)\n",
      "C:\\Users\\SHIHAO~1\\AppData\\Local\\Temp/ipykernel_58772/2202860112.py:7: FutureWarning: The frame.append method is deprecated and will be removed from pandas in a future version. Use pandas.concat instead.\n",
      "  df_detail = df_detail.append(pd.Series(),ignore_index=True)\n"
     ]
    },
    {
     "name": "stdout",
     "output_type": "stream",
     "text": [
      "fail1\n",
      "fail2\n",
      "fail3\n"
     ]
    },
    {
     "name": "stderr",
     "output_type": "stream",
     "text": [
      "C:\\Users\\SHIHAO~1\\AppData\\Local\\Temp/ipykernel_58772/2202860112.py:7: FutureWarning: The default dtype for empty Series will be 'object' instead of 'float64' in a future version. Specify a dtype explicitly to silence this warning.\n",
      "  df_detail = df_detail.append(pd.Series(),ignore_index=True)\n",
      "C:\\Users\\SHIHAO~1\\AppData\\Local\\Temp/ipykernel_58772/2202860112.py:7: FutureWarning: The frame.append method is deprecated and will be removed from pandas in a future version. Use pandas.concat instead.\n",
      "  df_detail = df_detail.append(pd.Series(),ignore_index=True)\n"
     ]
    },
    {
     "name": "stdout",
     "output_type": "stream",
     "text": [
      "fail1\n",
      "fail2\n",
      "fail3\n"
     ]
    },
    {
     "name": "stderr",
     "output_type": "stream",
     "text": [
      "C:\\Users\\SHIHAO~1\\AppData\\Local\\Temp/ipykernel_58772/2202860112.py:7: FutureWarning: The default dtype for empty Series will be 'object' instead of 'float64' in a future version. Specify a dtype explicitly to silence this warning.\n",
      "  df_detail = df_detail.append(pd.Series(),ignore_index=True)\n",
      "C:\\Users\\SHIHAO~1\\AppData\\Local\\Temp/ipykernel_58772/2202860112.py:7: FutureWarning: The frame.append method is deprecated and will be removed from pandas in a future version. Use pandas.concat instead.\n",
      "  df_detail = df_detail.append(pd.Series(),ignore_index=True)\n"
     ]
    },
    {
     "name": "stdout",
     "output_type": "stream",
     "text": [
      "fail1\n",
      "fail2\n",
      "fail3\n"
     ]
    },
    {
     "name": "stderr",
     "output_type": "stream",
     "text": [
      "C:\\Users\\SHIHAO~1\\AppData\\Local\\Temp/ipykernel_58772/2202860112.py:7: FutureWarning: The default dtype for empty Series will be 'object' instead of 'float64' in a future version. Specify a dtype explicitly to silence this warning.\n",
      "  df_detail = df_detail.append(pd.Series(),ignore_index=True)\n",
      "C:\\Users\\SHIHAO~1\\AppData\\Local\\Temp/ipykernel_58772/2202860112.py:7: FutureWarning: The frame.append method is deprecated and will be removed from pandas in a future version. Use pandas.concat instead.\n",
      "  df_detail = df_detail.append(pd.Series(),ignore_index=True)\n"
     ]
    },
    {
     "name": "stdout",
     "output_type": "stream",
     "text": [
      "fail1\n",
      "fail2\n",
      "fail3\n"
     ]
    },
    {
     "name": "stderr",
     "output_type": "stream",
     "text": [
      "C:\\Users\\SHIHAO~1\\AppData\\Local\\Temp/ipykernel_58772/2202860112.py:7: FutureWarning: The default dtype for empty Series will be 'object' instead of 'float64' in a future version. Specify a dtype explicitly to silence this warning.\n",
      "  df_detail = df_detail.append(pd.Series(),ignore_index=True)\n",
      "C:\\Users\\SHIHAO~1\\AppData\\Local\\Temp/ipykernel_58772/2202860112.py:7: FutureWarning: The frame.append method is deprecated and will be removed from pandas in a future version. Use pandas.concat instead.\n",
      "  df_detail = df_detail.append(pd.Series(),ignore_index=True)\n"
     ]
    },
    {
     "name": "stdout",
     "output_type": "stream",
     "text": [
      "fail1\n",
      "fail2\n",
      "fail3\n"
     ]
    },
    {
     "name": "stderr",
     "output_type": "stream",
     "text": [
      "C:\\Users\\SHIHAO~1\\AppData\\Local\\Temp/ipykernel_58772/2202860112.py:7: FutureWarning: The default dtype for empty Series will be 'object' instead of 'float64' in a future version. Specify a dtype explicitly to silence this warning.\n",
      "  df_detail = df_detail.append(pd.Series(),ignore_index=True)\n",
      "C:\\Users\\SHIHAO~1\\AppData\\Local\\Temp/ipykernel_58772/2202860112.py:7: FutureWarning: The frame.append method is deprecated and will be removed from pandas in a future version. Use pandas.concat instead.\n",
      "  df_detail = df_detail.append(pd.Series(),ignore_index=True)\n"
     ]
    },
    {
     "name": "stdout",
     "output_type": "stream",
     "text": [
      "fail1\n",
      "fail2\n",
      "fail3\n"
     ]
    },
    {
     "name": "stderr",
     "output_type": "stream",
     "text": [
      "C:\\Users\\SHIHAO~1\\AppData\\Local\\Temp/ipykernel_58772/2202860112.py:7: FutureWarning: The default dtype for empty Series will be 'object' instead of 'float64' in a future version. Specify a dtype explicitly to silence this warning.\n",
      "  df_detail = df_detail.append(pd.Series(),ignore_index=True)\n",
      "C:\\Users\\SHIHAO~1\\AppData\\Local\\Temp/ipykernel_58772/2202860112.py:7: FutureWarning: The frame.append method is deprecated and will be removed from pandas in a future version. Use pandas.concat instead.\n",
      "  df_detail = df_detail.append(pd.Series(),ignore_index=True)\n"
     ]
    },
    {
     "name": "stdout",
     "output_type": "stream",
     "text": [
      "fail1\n",
      "fail2\n",
      "fail3\n"
     ]
    },
    {
     "name": "stderr",
     "output_type": "stream",
     "text": [
      "C:\\Users\\SHIHAO~1\\AppData\\Local\\Temp/ipykernel_58772/2202860112.py:7: FutureWarning: The default dtype for empty Series will be 'object' instead of 'float64' in a future version. Specify a dtype explicitly to silence this warning.\n",
      "  df_detail = df_detail.append(pd.Series(),ignore_index=True)\n",
      "C:\\Users\\SHIHAO~1\\AppData\\Local\\Temp/ipykernel_58772/2202860112.py:7: FutureWarning: The frame.append method is deprecated and will be removed from pandas in a future version. Use pandas.concat instead.\n",
      "  df_detail = df_detail.append(pd.Series(),ignore_index=True)\n"
     ]
    },
    {
     "name": "stdout",
     "output_type": "stream",
     "text": [
      "fail1\n",
      "fail2\n",
      "fail3\n"
     ]
    },
    {
     "name": "stderr",
     "output_type": "stream",
     "text": [
      "C:\\Users\\SHIHAO~1\\AppData\\Local\\Temp/ipykernel_58772/2202860112.py:7: FutureWarning: The default dtype for empty Series will be 'object' instead of 'float64' in a future version. Specify a dtype explicitly to silence this warning.\n",
      "  df_detail = df_detail.append(pd.Series(),ignore_index=True)\n",
      "C:\\Users\\SHIHAO~1\\AppData\\Local\\Temp/ipykernel_58772/2202860112.py:7: FutureWarning: The frame.append method is deprecated and will be removed from pandas in a future version. Use pandas.concat instead.\n",
      "  df_detail = df_detail.append(pd.Series(),ignore_index=True)\n"
     ]
    },
    {
     "name": "stdout",
     "output_type": "stream",
     "text": [
      "fail1\n",
      "fail2\n",
      "fail3\n"
     ]
    },
    {
     "name": "stderr",
     "output_type": "stream",
     "text": [
      "C:\\Users\\SHIHAO~1\\AppData\\Local\\Temp/ipykernel_58772/2202860112.py:7: FutureWarning: The default dtype for empty Series will be 'object' instead of 'float64' in a future version. Specify a dtype explicitly to silence this warning.\n",
      "  df_detail = df_detail.append(pd.Series(),ignore_index=True)\n",
      "C:\\Users\\SHIHAO~1\\AppData\\Local\\Temp/ipykernel_58772/2202860112.py:7: FutureWarning: The frame.append method is deprecated and will be removed from pandas in a future version. Use pandas.concat instead.\n",
      "  df_detail = df_detail.append(pd.Series(),ignore_index=True)\n"
     ]
    },
    {
     "name": "stdout",
     "output_type": "stream",
     "text": [
      "fail1\n",
      "successfully get content\n"
     ]
    },
    {
     "name": "stderr",
     "output_type": "stream",
     "text": [
      "C:\\Users\\SHIHAO~1\\AppData\\Local\\Temp/ipykernel_58772/2202860112.py:5: FutureWarning: The frame.append method is deprecated and will be removed from pandas in a future version. Use pandas.concat instead.\n",
      "  df_detail = df_detail.append(get_rating(df['URL'].iloc[i]))\n"
     ]
    },
    {
     "name": "stdout",
     "output_type": "stream",
     "text": [
      "successfully get content\n",
      "successfully get content\n"
     ]
    },
    {
     "name": "stderr",
     "output_type": "stream",
     "text": [
      "C:\\Users\\SHIHAO~1\\AppData\\Local\\Temp/ipykernel_58772/2202860112.py:5: FutureWarning: The frame.append method is deprecated and will be removed from pandas in a future version. Use pandas.concat instead.\n",
      "  df_detail = df_detail.append(get_rating(df['URL'].iloc[i]))\n"
     ]
    },
    {
     "name": "stdout",
     "output_type": "stream",
     "text": [
      "successfully get content\n"
     ]
    },
    {
     "name": "stderr",
     "output_type": "stream",
     "text": [
      "C:\\Users\\SHIHAO~1\\AppData\\Local\\Temp/ipykernel_58772/2202860112.py:7: FutureWarning: The default dtype for empty Series will be 'object' instead of 'float64' in a future version. Specify a dtype explicitly to silence this warning.\n",
      "  df_detail = df_detail.append(pd.Series(),ignore_index=True)\n",
      "C:\\Users\\SHIHAO~1\\AppData\\Local\\Temp/ipykernel_58772/2202860112.py:7: FutureWarning: The frame.append method is deprecated and will be removed from pandas in a future version. Use pandas.concat instead.\n",
      "  df_detail = df_detail.append(pd.Series(),ignore_index=True)\n"
     ]
    },
    {
     "name": "stdout",
     "output_type": "stream",
     "text": [
      "successfully get content\n"
     ]
    },
    {
     "name": "stderr",
     "output_type": "stream",
     "text": [
      "C:\\Users\\SHIHAO~1\\AppData\\Local\\Temp/ipykernel_58772/2202860112.py:5: FutureWarning: The frame.append method is deprecated and will be removed from pandas in a future version. Use pandas.concat instead.\n",
      "  df_detail = df_detail.append(get_rating(df['URL'].iloc[i]))\n"
     ]
    },
    {
     "name": "stdout",
     "output_type": "stream",
     "text": [
      "successfully get content\n",
      "successfully get content\n"
     ]
    },
    {
     "name": "stderr",
     "output_type": "stream",
     "text": [
      "C:\\Users\\SHIHAO~1\\AppData\\Local\\Temp/ipykernel_58772/2202860112.py:5: FutureWarning: The frame.append method is deprecated and will be removed from pandas in a future version. Use pandas.concat instead.\n",
      "  df_detail = df_detail.append(get_rating(df['URL'].iloc[i]))\n"
     ]
    },
    {
     "name": "stdout",
     "output_type": "stream",
     "text": [
      "successfully get content\n"
     ]
    },
    {
     "name": "stderr",
     "output_type": "stream",
     "text": [
      "C:\\Users\\SHIHAO~1\\AppData\\Local\\Temp/ipykernel_58772/2202860112.py:5: FutureWarning: The frame.append method is deprecated and will be removed from pandas in a future version. Use pandas.concat instead.\n",
      "  df_detail = df_detail.append(get_rating(df['URL'].iloc[i]))\n"
     ]
    },
    {
     "name": "stdout",
     "output_type": "stream",
     "text": [
      "successfully get content\n"
     ]
    },
    {
     "name": "stderr",
     "output_type": "stream",
     "text": [
      "C:\\Users\\SHIHAO~1\\AppData\\Local\\Temp/ipykernel_58772/2202860112.py:5: FutureWarning: The frame.append method is deprecated and will be removed from pandas in a future version. Use pandas.concat instead.\n",
      "  df_detail = df_detail.append(get_rating(df['URL'].iloc[i]))\n"
     ]
    },
    {
     "name": "stdout",
     "output_type": "stream",
     "text": [
      "successfully get content\n"
     ]
    },
    {
     "name": "stderr",
     "output_type": "stream",
     "text": [
      "C:\\Users\\SHIHAO~1\\AppData\\Local\\Temp/ipykernel_58772/2202860112.py:5: FutureWarning: The frame.append method is deprecated and will be removed from pandas in a future version. Use pandas.concat instead.\n",
      "  df_detail = df_detail.append(get_rating(df['URL'].iloc[i]))\n"
     ]
    },
    {
     "name": "stdout",
     "output_type": "stream",
     "text": [
      "successfully get content\n"
     ]
    },
    {
     "name": "stderr",
     "output_type": "stream",
     "text": [
      "C:\\Users\\SHIHAO~1\\AppData\\Local\\Temp/ipykernel_58772/2202860112.py:5: FutureWarning: The frame.append method is deprecated and will be removed from pandas in a future version. Use pandas.concat instead.\n",
      "  df_detail = df_detail.append(get_rating(df['URL'].iloc[i]))\n"
     ]
    },
    {
     "name": "stdout",
     "output_type": "stream",
     "text": [
      "successfully get content\n"
     ]
    },
    {
     "name": "stderr",
     "output_type": "stream",
     "text": [
      "C:\\Users\\SHIHAO~1\\AppData\\Local\\Temp/ipykernel_58772/2202860112.py:5: FutureWarning: The frame.append method is deprecated and will be removed from pandas in a future version. Use pandas.concat instead.\n",
      "  df_detail = df_detail.append(get_rating(df['URL'].iloc[i]))\n"
     ]
    },
    {
     "name": "stdout",
     "output_type": "stream",
     "text": [
      "successfully get content\n"
     ]
    },
    {
     "name": "stderr",
     "output_type": "stream",
     "text": [
      "C:\\Users\\SHIHAO~1\\AppData\\Local\\Temp/ipykernel_58772/2202860112.py:5: FutureWarning: The frame.append method is deprecated and will be removed from pandas in a future version. Use pandas.concat instead.\n",
      "  df_detail = df_detail.append(get_rating(df['URL'].iloc[i]))\n"
     ]
    },
    {
     "name": "stdout",
     "output_type": "stream",
     "text": [
      "successfully get content\n"
     ]
    },
    {
     "name": "stderr",
     "output_type": "stream",
     "text": [
      "C:\\Users\\SHIHAO~1\\AppData\\Local\\Temp/ipykernel_58772/2202860112.py:5: FutureWarning: The frame.append method is deprecated and will be removed from pandas in a future version. Use pandas.concat instead.\n",
      "  df_detail = df_detail.append(get_rating(df['URL'].iloc[i]))\n"
     ]
    },
    {
     "name": "stdout",
     "output_type": "stream",
     "text": [
      "successfully get content\n"
     ]
    },
    {
     "name": "stderr",
     "output_type": "stream",
     "text": [
      "C:\\Users\\SHIHAO~1\\AppData\\Local\\Temp/ipykernel_58772/2202860112.py:5: FutureWarning: The frame.append method is deprecated and will be removed from pandas in a future version. Use pandas.concat instead.\n",
      "  df_detail = df_detail.append(get_rating(df['URL'].iloc[i]))\n"
     ]
    },
    {
     "name": "stdout",
     "output_type": "stream",
     "text": [
      "successfully get content\n"
     ]
    },
    {
     "name": "stderr",
     "output_type": "stream",
     "text": [
      "C:\\Users\\SHIHAO~1\\AppData\\Local\\Temp/ipykernel_58772/2202860112.py:5: FutureWarning: The frame.append method is deprecated and will be removed from pandas in a future version. Use pandas.concat instead.\n",
      "  df_detail = df_detail.append(get_rating(df['URL'].iloc[i]))\n"
     ]
    },
    {
     "name": "stdout",
     "output_type": "stream",
     "text": [
      "successfully get content\n"
     ]
    },
    {
     "name": "stderr",
     "output_type": "stream",
     "text": [
      "C:\\Users\\SHIHAO~1\\AppData\\Local\\Temp/ipykernel_58772/2202860112.py:5: FutureWarning: The frame.append method is deprecated and will be removed from pandas in a future version. Use pandas.concat instead.\n",
      "  df_detail = df_detail.append(get_rating(df['URL'].iloc[i]))\n"
     ]
    },
    {
     "name": "stdout",
     "output_type": "stream",
     "text": [
      "successfully get content\n"
     ]
    },
    {
     "name": "stderr",
     "output_type": "stream",
     "text": [
      "C:\\Users\\SHIHAO~1\\AppData\\Local\\Temp/ipykernel_58772/2202860112.py:5: FutureWarning: The frame.append method is deprecated and will be removed from pandas in a future version. Use pandas.concat instead.\n",
      "  df_detail = df_detail.append(get_rating(df['URL'].iloc[i]))\n"
     ]
    },
    {
     "name": "stdout",
     "output_type": "stream",
     "text": [
      "successfully get content\n"
     ]
    },
    {
     "name": "stderr",
     "output_type": "stream",
     "text": [
      "C:\\Users\\SHIHAO~1\\AppData\\Local\\Temp/ipykernel_58772/2202860112.py:5: FutureWarning: The frame.append method is deprecated and will be removed from pandas in a future version. Use pandas.concat instead.\n",
      "  df_detail = df_detail.append(get_rating(df['URL'].iloc[i]))\n"
     ]
    },
    {
     "name": "stdout",
     "output_type": "stream",
     "text": [
      "successfully get content\n"
     ]
    },
    {
     "name": "stderr",
     "output_type": "stream",
     "text": [
      "C:\\Users\\SHIHAO~1\\AppData\\Local\\Temp/ipykernel_58772/2202860112.py:5: FutureWarning: The frame.append method is deprecated and will be removed from pandas in a future version. Use pandas.concat instead.\n",
      "  df_detail = df_detail.append(get_rating(df['URL'].iloc[i]))\n"
     ]
    },
    {
     "name": "stdout",
     "output_type": "stream",
     "text": [
      "successfully get content\n"
     ]
    },
    {
     "name": "stderr",
     "output_type": "stream",
     "text": [
      "C:\\Users\\SHIHAO~1\\AppData\\Local\\Temp/ipykernel_58772/2202860112.py:5: FutureWarning: The frame.append method is deprecated and will be removed from pandas in a future version. Use pandas.concat instead.\n",
      "  df_detail = df_detail.append(get_rating(df['URL'].iloc[i]))\n"
     ]
    },
    {
     "name": "stdout",
     "output_type": "stream",
     "text": [
      "successfully get content\n"
     ]
    },
    {
     "name": "stderr",
     "output_type": "stream",
     "text": [
      "C:\\Users\\SHIHAO~1\\AppData\\Local\\Temp/ipykernel_58772/2202860112.py:5: FutureWarning: The frame.append method is deprecated and will be removed from pandas in a future version. Use pandas.concat instead.\n",
      "  df_detail = df_detail.append(get_rating(df['URL'].iloc[i]))\n"
     ]
    },
    {
     "name": "stdout",
     "output_type": "stream",
     "text": [
      "fail1\n",
      "fail2\n",
      "fail3\n"
     ]
    },
    {
     "name": "stderr",
     "output_type": "stream",
     "text": [
      "C:\\Users\\SHIHAO~1\\AppData\\Local\\Temp/ipykernel_58772/2202860112.py:7: FutureWarning: The default dtype for empty Series will be 'object' instead of 'float64' in a future version. Specify a dtype explicitly to silence this warning.\n",
      "  df_detail = df_detail.append(pd.Series(),ignore_index=True)\n",
      "C:\\Users\\SHIHAO~1\\AppData\\Local\\Temp/ipykernel_58772/2202860112.py:7: FutureWarning: The frame.append method is deprecated and will be removed from pandas in a future version. Use pandas.concat instead.\n",
      "  df_detail = df_detail.append(pd.Series(),ignore_index=True)\n"
     ]
    },
    {
     "name": "stdout",
     "output_type": "stream",
     "text": [
      "fail1\n",
      "fail2\n",
      "fail3\n"
     ]
    },
    {
     "name": "stderr",
     "output_type": "stream",
     "text": [
      "C:\\Users\\SHIHAO~1\\AppData\\Local\\Temp/ipykernel_58772/2202860112.py:7: FutureWarning: The default dtype for empty Series will be 'object' instead of 'float64' in a future version. Specify a dtype explicitly to silence this warning.\n",
      "  df_detail = df_detail.append(pd.Series(),ignore_index=True)\n",
      "C:\\Users\\SHIHAO~1\\AppData\\Local\\Temp/ipykernel_58772/2202860112.py:7: FutureWarning: The frame.append method is deprecated and will be removed from pandas in a future version. Use pandas.concat instead.\n",
      "  df_detail = df_detail.append(pd.Series(),ignore_index=True)\n"
     ]
    },
    {
     "name": "stdout",
     "output_type": "stream",
     "text": [
      "fail1\n",
      "fail2\n",
      "fail3\n"
     ]
    },
    {
     "name": "stderr",
     "output_type": "stream",
     "text": [
      "C:\\Users\\SHIHAO~1\\AppData\\Local\\Temp/ipykernel_58772/2202860112.py:7: FutureWarning: The default dtype for empty Series will be 'object' instead of 'float64' in a future version. Specify a dtype explicitly to silence this warning.\n",
      "  df_detail = df_detail.append(pd.Series(),ignore_index=True)\n",
      "C:\\Users\\SHIHAO~1\\AppData\\Local\\Temp/ipykernel_58772/2202860112.py:7: FutureWarning: The frame.append method is deprecated and will be removed from pandas in a future version. Use pandas.concat instead.\n",
      "  df_detail = df_detail.append(pd.Series(),ignore_index=True)\n"
     ]
    },
    {
     "name": "stdout",
     "output_type": "stream",
     "text": [
      "fail1\n",
      "fail2\n",
      "fail3\n"
     ]
    },
    {
     "name": "stderr",
     "output_type": "stream",
     "text": [
      "C:\\Users\\SHIHAO~1\\AppData\\Local\\Temp/ipykernel_58772/2202860112.py:7: FutureWarning: The default dtype for empty Series will be 'object' instead of 'float64' in a future version. Specify a dtype explicitly to silence this warning.\n",
      "  df_detail = df_detail.append(pd.Series(),ignore_index=True)\n",
      "C:\\Users\\SHIHAO~1\\AppData\\Local\\Temp/ipykernel_58772/2202860112.py:7: FutureWarning: The frame.append method is deprecated and will be removed from pandas in a future version. Use pandas.concat instead.\n",
      "  df_detail = df_detail.append(pd.Series(),ignore_index=True)\n"
     ]
    },
    {
     "name": "stdout",
     "output_type": "stream",
     "text": [
      "fail1\n",
      "fail2\n",
      "fail3\n"
     ]
    },
    {
     "name": "stderr",
     "output_type": "stream",
     "text": [
      "C:\\Users\\SHIHAO~1\\AppData\\Local\\Temp/ipykernel_58772/2202860112.py:7: FutureWarning: The default dtype for empty Series will be 'object' instead of 'float64' in a future version. Specify a dtype explicitly to silence this warning.\n",
      "  df_detail = df_detail.append(pd.Series(),ignore_index=True)\n",
      "C:\\Users\\SHIHAO~1\\AppData\\Local\\Temp/ipykernel_58772/2202860112.py:7: FutureWarning: The frame.append method is deprecated and will be removed from pandas in a future version. Use pandas.concat instead.\n",
      "  df_detail = df_detail.append(pd.Series(),ignore_index=True)\n"
     ]
    },
    {
     "name": "stdout",
     "output_type": "stream",
     "text": [
      "fail1\n",
      "fail2\n",
      "fail3\n"
     ]
    },
    {
     "name": "stderr",
     "output_type": "stream",
     "text": [
      "C:\\Users\\SHIHAO~1\\AppData\\Local\\Temp/ipykernel_58772/2202860112.py:7: FutureWarning: The default dtype for empty Series will be 'object' instead of 'float64' in a future version. Specify a dtype explicitly to silence this warning.\n",
      "  df_detail = df_detail.append(pd.Series(),ignore_index=True)\n",
      "C:\\Users\\SHIHAO~1\\AppData\\Local\\Temp/ipykernel_58772/2202860112.py:7: FutureWarning: The frame.append method is deprecated and will be removed from pandas in a future version. Use pandas.concat instead.\n",
      "  df_detail = df_detail.append(pd.Series(),ignore_index=True)\n"
     ]
    },
    {
     "name": "stdout",
     "output_type": "stream",
     "text": [
      "fail1\n",
      "fail2\n",
      "fail3\n"
     ]
    },
    {
     "name": "stderr",
     "output_type": "stream",
     "text": [
      "C:\\Users\\SHIHAO~1\\AppData\\Local\\Temp/ipykernel_58772/2202860112.py:7: FutureWarning: The default dtype for empty Series will be 'object' instead of 'float64' in a future version. Specify a dtype explicitly to silence this warning.\n",
      "  df_detail = df_detail.append(pd.Series(),ignore_index=True)\n",
      "C:\\Users\\SHIHAO~1\\AppData\\Local\\Temp/ipykernel_58772/2202860112.py:7: FutureWarning: The frame.append method is deprecated and will be removed from pandas in a future version. Use pandas.concat instead.\n",
      "  df_detail = df_detail.append(pd.Series(),ignore_index=True)\n"
     ]
    },
    {
     "name": "stdout",
     "output_type": "stream",
     "text": [
      "fail1\n",
      "fail2\n",
      "fail3\n"
     ]
    },
    {
     "name": "stderr",
     "output_type": "stream",
     "text": [
      "C:\\Users\\SHIHAO~1\\AppData\\Local\\Temp/ipykernel_58772/2202860112.py:7: FutureWarning: The default dtype for empty Series will be 'object' instead of 'float64' in a future version. Specify a dtype explicitly to silence this warning.\n",
      "  df_detail = df_detail.append(pd.Series(),ignore_index=True)\n",
      "C:\\Users\\SHIHAO~1\\AppData\\Local\\Temp/ipykernel_58772/2202860112.py:7: FutureWarning: The frame.append method is deprecated and will be removed from pandas in a future version. Use pandas.concat instead.\n",
      "  df_detail = df_detail.append(pd.Series(),ignore_index=True)\n"
     ]
    },
    {
     "name": "stdout",
     "output_type": "stream",
     "text": [
      "fail1\n",
      "fail2\n",
      "fail3\n"
     ]
    },
    {
     "name": "stderr",
     "output_type": "stream",
     "text": [
      "C:\\Users\\SHIHAO~1\\AppData\\Local\\Temp/ipykernel_58772/2202860112.py:7: FutureWarning: The default dtype for empty Series will be 'object' instead of 'float64' in a future version. Specify a dtype explicitly to silence this warning.\n",
      "  df_detail = df_detail.append(pd.Series(),ignore_index=True)\n",
      "C:\\Users\\SHIHAO~1\\AppData\\Local\\Temp/ipykernel_58772/2202860112.py:7: FutureWarning: The frame.append method is deprecated and will be removed from pandas in a future version. Use pandas.concat instead.\n",
      "  df_detail = df_detail.append(pd.Series(),ignore_index=True)\n"
     ]
    },
    {
     "name": "stdout",
     "output_type": "stream",
     "text": [
      "fail1\n",
      "fail2\n",
      "fail3\n"
     ]
    },
    {
     "name": "stderr",
     "output_type": "stream",
     "text": [
      "C:\\Users\\SHIHAO~1\\AppData\\Local\\Temp/ipykernel_58772/2202860112.py:7: FutureWarning: The default dtype for empty Series will be 'object' instead of 'float64' in a future version. Specify a dtype explicitly to silence this warning.\n",
      "  df_detail = df_detail.append(pd.Series(),ignore_index=True)\n",
      "C:\\Users\\SHIHAO~1\\AppData\\Local\\Temp/ipykernel_58772/2202860112.py:7: FutureWarning: The frame.append method is deprecated and will be removed from pandas in a future version. Use pandas.concat instead.\n",
      "  df_detail = df_detail.append(pd.Series(),ignore_index=True)\n"
     ]
    },
    {
     "name": "stdout",
     "output_type": "stream",
     "text": [
      "fail1\n",
      "successfully get content\n"
     ]
    },
    {
     "name": "stderr",
     "output_type": "stream",
     "text": [
      "C:\\Users\\SHIHAO~1\\AppData\\Local\\Temp/ipykernel_58772/2202860112.py:5: FutureWarning: The frame.append method is deprecated and will be removed from pandas in a future version. Use pandas.concat instead.\n",
      "  df_detail = df_detail.append(get_rating(df['URL'].iloc[i]))\n"
     ]
    },
    {
     "name": "stdout",
     "output_type": "stream",
     "text": [
      "fail1\n",
      "fail2\n",
      "fail3\n"
     ]
    },
    {
     "name": "stderr",
     "output_type": "stream",
     "text": [
      "C:\\Users\\SHIHAO~1\\AppData\\Local\\Temp/ipykernel_58772/2202860112.py:7: FutureWarning: The default dtype for empty Series will be 'object' instead of 'float64' in a future version. Specify a dtype explicitly to silence this warning.\n",
      "  df_detail = df_detail.append(pd.Series(),ignore_index=True)\n",
      "C:\\Users\\SHIHAO~1\\AppData\\Local\\Temp/ipykernel_58772/2202860112.py:7: FutureWarning: The frame.append method is deprecated and will be removed from pandas in a future version. Use pandas.concat instead.\n",
      "  df_detail = df_detail.append(pd.Series(),ignore_index=True)\n"
     ]
    },
    {
     "name": "stdout",
     "output_type": "stream",
     "text": [
      "fail1\n",
      "fail2\n",
      "fail3\n"
     ]
    },
    {
     "name": "stderr",
     "output_type": "stream",
     "text": [
      "C:\\Users\\SHIHAO~1\\AppData\\Local\\Temp/ipykernel_58772/2202860112.py:7: FutureWarning: The default dtype for empty Series will be 'object' instead of 'float64' in a future version. Specify a dtype explicitly to silence this warning.\n",
      "  df_detail = df_detail.append(pd.Series(),ignore_index=True)\n",
      "C:\\Users\\SHIHAO~1\\AppData\\Local\\Temp/ipykernel_58772/2202860112.py:7: FutureWarning: The frame.append method is deprecated and will be removed from pandas in a future version. Use pandas.concat instead.\n",
      "  df_detail = df_detail.append(pd.Series(),ignore_index=True)\n"
     ]
    },
    {
     "name": "stdout",
     "output_type": "stream",
     "text": [
      "fail1\n",
      "fail2\n",
      "fail3\n"
     ]
    },
    {
     "name": "stderr",
     "output_type": "stream",
     "text": [
      "C:\\Users\\SHIHAO~1\\AppData\\Local\\Temp/ipykernel_58772/2202860112.py:7: FutureWarning: The default dtype for empty Series will be 'object' instead of 'float64' in a future version. Specify a dtype explicitly to silence this warning.\n",
      "  df_detail = df_detail.append(pd.Series(),ignore_index=True)\n",
      "C:\\Users\\SHIHAO~1\\AppData\\Local\\Temp/ipykernel_58772/2202860112.py:7: FutureWarning: The frame.append method is deprecated and will be removed from pandas in a future version. Use pandas.concat instead.\n",
      "  df_detail = df_detail.append(pd.Series(),ignore_index=True)\n"
     ]
    },
    {
     "name": "stdout",
     "output_type": "stream",
     "text": [
      "fail1\n",
      "successfully get content\n"
     ]
    },
    {
     "name": "stderr",
     "output_type": "stream",
     "text": [
      "C:\\Users\\SHIHAO~1\\AppData\\Local\\Temp/ipykernel_58772/2202860112.py:5: FutureWarning: The frame.append method is deprecated and will be removed from pandas in a future version. Use pandas.concat instead.\n",
      "  df_detail = df_detail.append(get_rating(df['URL'].iloc[i]))\n"
     ]
    },
    {
     "name": "stdout",
     "output_type": "stream",
     "text": [
      "successfully get content\n",
      "successfully get content\n"
     ]
    },
    {
     "name": "stderr",
     "output_type": "stream",
     "text": [
      "C:\\Users\\SHIHAO~1\\AppData\\Local\\Temp/ipykernel_58772/2202860112.py:5: FutureWarning: The frame.append method is deprecated and will be removed from pandas in a future version. Use pandas.concat instead.\n",
      "  df_detail = df_detail.append(get_rating(df['URL'].iloc[i]))\n"
     ]
    },
    {
     "name": "stdout",
     "output_type": "stream",
     "text": [
      "successfully get content\n"
     ]
    },
    {
     "name": "stderr",
     "output_type": "stream",
     "text": [
      "C:\\Users\\SHIHAO~1\\AppData\\Local\\Temp/ipykernel_58772/2202860112.py:5: FutureWarning: The frame.append method is deprecated and will be removed from pandas in a future version. Use pandas.concat instead.\n",
      "  df_detail = df_detail.append(get_rating(df['URL'].iloc[i]))\n"
     ]
    },
    {
     "name": "stdout",
     "output_type": "stream",
     "text": [
      "successfully get content\n"
     ]
    },
    {
     "name": "stderr",
     "output_type": "stream",
     "text": [
      "C:\\Users\\SHIHAO~1\\AppData\\Local\\Temp/ipykernel_58772/2202860112.py:7: FutureWarning: The default dtype for empty Series will be 'object' instead of 'float64' in a future version. Specify a dtype explicitly to silence this warning.\n",
      "  df_detail = df_detail.append(pd.Series(),ignore_index=True)\n",
      "C:\\Users\\SHIHAO~1\\AppData\\Local\\Temp/ipykernel_58772/2202860112.py:7: FutureWarning: The frame.append method is deprecated and will be removed from pandas in a future version. Use pandas.concat instead.\n",
      "  df_detail = df_detail.append(pd.Series(),ignore_index=True)\n"
     ]
    },
    {
     "name": "stdout",
     "output_type": "stream",
     "text": [
      "successfully get content\n"
     ]
    },
    {
     "name": "stderr",
     "output_type": "stream",
     "text": [
      "C:\\Users\\SHIHAO~1\\AppData\\Local\\Temp/ipykernel_58772/2202860112.py:5: FutureWarning: The frame.append method is deprecated and will be removed from pandas in a future version. Use pandas.concat instead.\n",
      "  df_detail = df_detail.append(get_rating(df['URL'].iloc[i]))\n"
     ]
    },
    {
     "name": "stdout",
     "output_type": "stream",
     "text": [
      "successfully get content\n",
      "successfully get content\n"
     ]
    },
    {
     "name": "stderr",
     "output_type": "stream",
     "text": [
      "C:\\Users\\SHIHAO~1\\AppData\\Local\\Temp/ipykernel_58772/2202860112.py:7: FutureWarning: The default dtype for empty Series will be 'object' instead of 'float64' in a future version. Specify a dtype explicitly to silence this warning.\n",
      "  df_detail = df_detail.append(pd.Series(),ignore_index=True)\n",
      "C:\\Users\\SHIHAO~1\\AppData\\Local\\Temp/ipykernel_58772/2202860112.py:7: FutureWarning: The frame.append method is deprecated and will be removed from pandas in a future version. Use pandas.concat instead.\n",
      "  df_detail = df_detail.append(pd.Series(),ignore_index=True)\n"
     ]
    },
    {
     "name": "stdout",
     "output_type": "stream",
     "text": [
      "successfully get content\n"
     ]
    },
    {
     "name": "stderr",
     "output_type": "stream",
     "text": [
      "C:\\Users\\SHIHAO~1\\AppData\\Local\\Temp/ipykernel_58772/2202860112.py:5: FutureWarning: The frame.append method is deprecated and will be removed from pandas in a future version. Use pandas.concat instead.\n",
      "  df_detail = df_detail.append(get_rating(df['URL'].iloc[i]))\n"
     ]
    },
    {
     "name": "stdout",
     "output_type": "stream",
     "text": [
      "successfully get content\n",
      "successfully get content\n"
     ]
    },
    {
     "name": "stderr",
     "output_type": "stream",
     "text": [
      "C:\\Users\\SHIHAO~1\\AppData\\Local\\Temp/ipykernel_58772/2202860112.py:7: FutureWarning: The default dtype for empty Series will be 'object' instead of 'float64' in a future version. Specify a dtype explicitly to silence this warning.\n",
      "  df_detail = df_detail.append(pd.Series(),ignore_index=True)\n",
      "C:\\Users\\SHIHAO~1\\AppData\\Local\\Temp/ipykernel_58772/2202860112.py:7: FutureWarning: The frame.append method is deprecated and will be removed from pandas in a future version. Use pandas.concat instead.\n",
      "  df_detail = df_detail.append(pd.Series(),ignore_index=True)\n"
     ]
    },
    {
     "name": "stdout",
     "output_type": "stream",
     "text": [
      "successfully get content\n"
     ]
    },
    {
     "name": "stderr",
     "output_type": "stream",
     "text": [
      "C:\\Users\\SHIHAO~1\\AppData\\Local\\Temp/ipykernel_58772/2202860112.py:5: FutureWarning: The frame.append method is deprecated and will be removed from pandas in a future version. Use pandas.concat instead.\n",
      "  df_detail = df_detail.append(get_rating(df['URL'].iloc[i]))\n"
     ]
    },
    {
     "name": "stdout",
     "output_type": "stream",
     "text": [
      "successfully get content\n",
      "successfully get content\n"
     ]
    },
    {
     "name": "stderr",
     "output_type": "stream",
     "text": [
      "C:\\Users\\SHIHAO~1\\AppData\\Local\\Temp/ipykernel_58772/2202860112.py:5: FutureWarning: The frame.append method is deprecated and will be removed from pandas in a future version. Use pandas.concat instead.\n",
      "  df_detail = df_detail.append(get_rating(df['URL'].iloc[i]))\n"
     ]
    },
    {
     "name": "stdout",
     "output_type": "stream",
     "text": [
      "successfully get content\n"
     ]
    },
    {
     "name": "stderr",
     "output_type": "stream",
     "text": [
      "C:\\Users\\SHIHAO~1\\AppData\\Local\\Temp/ipykernel_58772/2202860112.py:5: FutureWarning: The frame.append method is deprecated and will be removed from pandas in a future version. Use pandas.concat instead.\n",
      "  df_detail = df_detail.append(get_rating(df['URL'].iloc[i]))\n"
     ]
    },
    {
     "name": "stdout",
     "output_type": "stream",
     "text": [
      "successfully get content\n"
     ]
    },
    {
     "name": "stderr",
     "output_type": "stream",
     "text": [
      "C:\\Users\\SHIHAO~1\\AppData\\Local\\Temp/ipykernel_58772/2202860112.py:5: FutureWarning: The frame.append method is deprecated and will be removed from pandas in a future version. Use pandas.concat instead.\n",
      "  df_detail = df_detail.append(get_rating(df['URL'].iloc[i]))\n"
     ]
    },
    {
     "name": "stdout",
     "output_type": "stream",
     "text": [
      "successfully get content\n"
     ]
    },
    {
     "name": "stderr",
     "output_type": "stream",
     "text": [
      "C:\\Users\\SHIHAO~1\\AppData\\Local\\Temp/ipykernel_58772/2202860112.py:5: FutureWarning: The frame.append method is deprecated and will be removed from pandas in a future version. Use pandas.concat instead.\n",
      "  df_detail = df_detail.append(get_rating(df['URL'].iloc[i]))\n"
     ]
    },
    {
     "name": "stdout",
     "output_type": "stream",
     "text": [
      "successfully get content\n"
     ]
    },
    {
     "name": "stderr",
     "output_type": "stream",
     "text": [
      "C:\\Users\\SHIHAO~1\\AppData\\Local\\Temp/ipykernel_58772/2202860112.py:5: FutureWarning: The frame.append method is deprecated and will be removed from pandas in a future version. Use pandas.concat instead.\n",
      "  df_detail = df_detail.append(get_rating(df['URL'].iloc[i]))\n"
     ]
    },
    {
     "name": "stdout",
     "output_type": "stream",
     "text": [
      "successfully get content\n"
     ]
    },
    {
     "name": "stderr",
     "output_type": "stream",
     "text": [
      "C:\\Users\\SHIHAO~1\\AppData\\Local\\Temp/ipykernel_58772/2202860112.py:5: FutureWarning: The frame.append method is deprecated and will be removed from pandas in a future version. Use pandas.concat instead.\n",
      "  df_detail = df_detail.append(get_rating(df['URL'].iloc[i]))\n"
     ]
    },
    {
     "name": "stdout",
     "output_type": "stream",
     "text": [
      "successfully get content\n"
     ]
    },
    {
     "name": "stderr",
     "output_type": "stream",
     "text": [
      "C:\\Users\\SHIHAO~1\\AppData\\Local\\Temp/ipykernel_58772/2202860112.py:7: FutureWarning: The default dtype for empty Series will be 'object' instead of 'float64' in a future version. Specify a dtype explicitly to silence this warning.\n",
      "  df_detail = df_detail.append(pd.Series(),ignore_index=True)\n",
      "C:\\Users\\SHIHAO~1\\AppData\\Local\\Temp/ipykernel_58772/2202860112.py:7: FutureWarning: The frame.append method is deprecated and will be removed from pandas in a future version. Use pandas.concat instead.\n",
      "  df_detail = df_detail.append(pd.Series(),ignore_index=True)\n"
     ]
    },
    {
     "name": "stdout",
     "output_type": "stream",
     "text": [
      "successfully get content\n"
     ]
    },
    {
     "name": "stderr",
     "output_type": "stream",
     "text": [
      "C:\\Users\\SHIHAO~1\\AppData\\Local\\Temp/ipykernel_58772/2202860112.py:5: FutureWarning: The frame.append method is deprecated and will be removed from pandas in a future version. Use pandas.concat instead.\n",
      "  df_detail = df_detail.append(get_rating(df['URL'].iloc[i]))\n"
     ]
    },
    {
     "name": "stdout",
     "output_type": "stream",
     "text": [
      "successfully get content\n",
      "successfully get content\n"
     ]
    },
    {
     "name": "stderr",
     "output_type": "stream",
     "text": [
      "C:\\Users\\SHIHAO~1\\AppData\\Local\\Temp/ipykernel_58772/2202860112.py:5: FutureWarning: The frame.append method is deprecated and will be removed from pandas in a future version. Use pandas.concat instead.\n",
      "  df_detail = df_detail.append(get_rating(df['URL'].iloc[i]))\n"
     ]
    },
    {
     "name": "stdout",
     "output_type": "stream",
     "text": [
      "successfully get content\n"
     ]
    },
    {
     "name": "stderr",
     "output_type": "stream",
     "text": [
      "C:\\Users\\SHIHAO~1\\AppData\\Local\\Temp/ipykernel_58772/2202860112.py:5: FutureWarning: The frame.append method is deprecated and will be removed from pandas in a future version. Use pandas.concat instead.\n",
      "  df_detail = df_detail.append(get_rating(df['URL'].iloc[i]))\n"
     ]
    },
    {
     "name": "stdout",
     "output_type": "stream",
     "text": [
      "successfully get content\n"
     ]
    },
    {
     "name": "stderr",
     "output_type": "stream",
     "text": [
      "C:\\Users\\SHIHAO~1\\AppData\\Local\\Temp/ipykernel_58772/2202860112.py:5: FutureWarning: The frame.append method is deprecated and will be removed from pandas in a future version. Use pandas.concat instead.\n",
      "  df_detail = df_detail.append(get_rating(df['URL'].iloc[i]))\n"
     ]
    },
    {
     "name": "stdout",
     "output_type": "stream",
     "text": [
      "successfully get content\n"
     ]
    },
    {
     "name": "stderr",
     "output_type": "stream",
     "text": [
      "C:\\Users\\SHIHAO~1\\AppData\\Local\\Temp/ipykernel_58772/2202860112.py:5: FutureWarning: The frame.append method is deprecated and will be removed from pandas in a future version. Use pandas.concat instead.\n",
      "  df_detail = df_detail.append(get_rating(df['URL'].iloc[i]))\n"
     ]
    },
    {
     "name": "stdout",
     "output_type": "stream",
     "text": [
      "successfully get content\n"
     ]
    },
    {
     "name": "stderr",
     "output_type": "stream",
     "text": [
      "C:\\Users\\SHIHAO~1\\AppData\\Local\\Temp/ipykernel_58772/2202860112.py:7: FutureWarning: The default dtype for empty Series will be 'object' instead of 'float64' in a future version. Specify a dtype explicitly to silence this warning.\n",
      "  df_detail = df_detail.append(pd.Series(),ignore_index=True)\n",
      "C:\\Users\\SHIHAO~1\\AppData\\Local\\Temp/ipykernel_58772/2202860112.py:7: FutureWarning: The frame.append method is deprecated and will be removed from pandas in a future version. Use pandas.concat instead.\n",
      "  df_detail = df_detail.append(pd.Series(),ignore_index=True)\n"
     ]
    },
    {
     "name": "stdout",
     "output_type": "stream",
     "text": [
      "fail1\n",
      "fail2\n",
      "fail3\n"
     ]
    },
    {
     "name": "stderr",
     "output_type": "stream",
     "text": [
      "C:\\Users\\SHIHAO~1\\AppData\\Local\\Temp/ipykernel_58772/2202860112.py:7: FutureWarning: The default dtype for empty Series will be 'object' instead of 'float64' in a future version. Specify a dtype explicitly to silence this warning.\n",
      "  df_detail = df_detail.append(pd.Series(),ignore_index=True)\n",
      "C:\\Users\\SHIHAO~1\\AppData\\Local\\Temp/ipykernel_58772/2202860112.py:7: FutureWarning: The frame.append method is deprecated and will be removed from pandas in a future version. Use pandas.concat instead.\n",
      "  df_detail = df_detail.append(pd.Series(),ignore_index=True)\n"
     ]
    },
    {
     "name": "stdout",
     "output_type": "stream",
     "text": [
      "fail1\n",
      "successfully get content\n"
     ]
    },
    {
     "name": "stderr",
     "output_type": "stream",
     "text": [
      "C:\\Users\\SHIHAO~1\\AppData\\Local\\Temp/ipykernel_58772/2202860112.py:7: FutureWarning: The default dtype for empty Series will be 'object' instead of 'float64' in a future version. Specify a dtype explicitly to silence this warning.\n",
      "  df_detail = df_detail.append(pd.Series(),ignore_index=True)\n",
      "C:\\Users\\SHIHAO~1\\AppData\\Local\\Temp/ipykernel_58772/2202860112.py:7: FutureWarning: The frame.append method is deprecated and will be removed from pandas in a future version. Use pandas.concat instead.\n",
      "  df_detail = df_detail.append(pd.Series(),ignore_index=True)\n"
     ]
    },
    {
     "name": "stdout",
     "output_type": "stream",
     "text": [
      "successfully get content\n"
     ]
    },
    {
     "name": "stderr",
     "output_type": "stream",
     "text": [
      "C:\\Users\\SHIHAO~1\\AppData\\Local\\Temp/ipykernel_58772/2202860112.py:5: FutureWarning: The frame.append method is deprecated and will be removed from pandas in a future version. Use pandas.concat instead.\n",
      "  df_detail = df_detail.append(get_rating(df['URL'].iloc[i]))\n"
     ]
    },
    {
     "name": "stdout",
     "output_type": "stream",
     "text": [
      "successfully get content\n",
      "successfully get content\n"
     ]
    },
    {
     "name": "stderr",
     "output_type": "stream",
     "text": [
      "C:\\Users\\SHIHAO~1\\AppData\\Local\\Temp/ipykernel_58772/2202860112.py:5: FutureWarning: The frame.append method is deprecated and will be removed from pandas in a future version. Use pandas.concat instead.\n",
      "  df_detail = df_detail.append(get_rating(df['URL'].iloc[i]))\n"
     ]
    },
    {
     "name": "stdout",
     "output_type": "stream",
     "text": [
      "successfully get content\n"
     ]
    },
    {
     "name": "stderr",
     "output_type": "stream",
     "text": [
      "C:\\Users\\SHIHAO~1\\AppData\\Local\\Temp/ipykernel_58772/2202860112.py:5: FutureWarning: The frame.append method is deprecated and will be removed from pandas in a future version. Use pandas.concat instead.\n",
      "  df_detail = df_detail.append(get_rating(df['URL'].iloc[i]))\n"
     ]
    },
    {
     "name": "stdout",
     "output_type": "stream",
     "text": [
      "successfully get content\n"
     ]
    },
    {
     "name": "stderr",
     "output_type": "stream",
     "text": [
      "C:\\Users\\SHIHAO~1\\AppData\\Local\\Temp/ipykernel_58772/2202860112.py:7: FutureWarning: The default dtype for empty Series will be 'object' instead of 'float64' in a future version. Specify a dtype explicitly to silence this warning.\n",
      "  df_detail = df_detail.append(pd.Series(),ignore_index=True)\n",
      "C:\\Users\\SHIHAO~1\\AppData\\Local\\Temp/ipykernel_58772/2202860112.py:7: FutureWarning: The frame.append method is deprecated and will be removed from pandas in a future version. Use pandas.concat instead.\n",
      "  df_detail = df_detail.append(pd.Series(),ignore_index=True)\n"
     ]
    },
    {
     "name": "stdout",
     "output_type": "stream",
     "text": [
      "successfully get content\n"
     ]
    },
    {
     "name": "stderr",
     "output_type": "stream",
     "text": [
      "C:\\Users\\SHIHAO~1\\AppData\\Local\\Temp/ipykernel_58772/2202860112.py:5: FutureWarning: The frame.append method is deprecated and will be removed from pandas in a future version. Use pandas.concat instead.\n",
      "  df_detail = df_detail.append(get_rating(df['URL'].iloc[i]))\n"
     ]
    },
    {
     "name": "stdout",
     "output_type": "stream",
     "text": [
      "successfully get content\n",
      "successfully get content\n"
     ]
    },
    {
     "name": "stderr",
     "output_type": "stream",
     "text": [
      "C:\\Users\\SHIHAO~1\\AppData\\Local\\Temp/ipykernel_58772/2202860112.py:5: FutureWarning: The frame.append method is deprecated and will be removed from pandas in a future version. Use pandas.concat instead.\n",
      "  df_detail = df_detail.append(get_rating(df['URL'].iloc[i]))\n"
     ]
    },
    {
     "name": "stdout",
     "output_type": "stream",
     "text": [
      "successfully get content\n"
     ]
    },
    {
     "name": "stderr",
     "output_type": "stream",
     "text": [
      "C:\\Users\\SHIHAO~1\\AppData\\Local\\Temp/ipykernel_58772/2202860112.py:5: FutureWarning: The frame.append method is deprecated and will be removed from pandas in a future version. Use pandas.concat instead.\n",
      "  df_detail = df_detail.append(get_rating(df['URL'].iloc[i]))\n"
     ]
    },
    {
     "name": "stdout",
     "output_type": "stream",
     "text": [
      "successfully get content\n"
     ]
    },
    {
     "name": "stderr",
     "output_type": "stream",
     "text": [
      "C:\\Users\\SHIHAO~1\\AppData\\Local\\Temp/ipykernel_58772/2202860112.py:5: FutureWarning: The frame.append method is deprecated and will be removed from pandas in a future version. Use pandas.concat instead.\n",
      "  df_detail = df_detail.append(get_rating(df['URL'].iloc[i]))\n"
     ]
    },
    {
     "name": "stdout",
     "output_type": "stream",
     "text": [
      "successfully get content\n"
     ]
    },
    {
     "name": "stderr",
     "output_type": "stream",
     "text": [
      "C:\\Users\\SHIHAO~1\\AppData\\Local\\Temp/ipykernel_58772/2202860112.py:5: FutureWarning: The frame.append method is deprecated and will be removed from pandas in a future version. Use pandas.concat instead.\n",
      "  df_detail = df_detail.append(get_rating(df['URL'].iloc[i]))\n"
     ]
    },
    {
     "name": "stdout",
     "output_type": "stream",
     "text": [
      "fail1\n",
      "fail2\n",
      "successfully get content\n"
     ]
    },
    {
     "name": "stderr",
     "output_type": "stream",
     "text": [
      "C:\\Users\\SHIHAO~1\\AppData\\Local\\Temp/ipykernel_58772/2202860112.py:5: FutureWarning: The frame.append method is deprecated and will be removed from pandas in a future version. Use pandas.concat instead.\n",
      "  df_detail = df_detail.append(get_rating(df['URL'].iloc[i]))\n"
     ]
    },
    {
     "name": "stdout",
     "output_type": "stream",
     "text": [
      "successfully get content\n"
     ]
    },
    {
     "name": "stderr",
     "output_type": "stream",
     "text": [
      "C:\\Users\\SHIHAO~1\\AppData\\Local\\Temp/ipykernel_58772/2202860112.py:5: FutureWarning: The frame.append method is deprecated and will be removed from pandas in a future version. Use pandas.concat instead.\n",
      "  df_detail = df_detail.append(get_rating(df['URL'].iloc[i]))\n"
     ]
    },
    {
     "name": "stdout",
     "output_type": "stream",
     "text": [
      "successfully get content\n"
     ]
    },
    {
     "name": "stderr",
     "output_type": "stream",
     "text": [
      "C:\\Users\\SHIHAO~1\\AppData\\Local\\Temp/ipykernel_58772/2202860112.py:5: FutureWarning: The frame.append method is deprecated and will be removed from pandas in a future version. Use pandas.concat instead.\n",
      "  df_detail = df_detail.append(get_rating(df['URL'].iloc[i]))\n"
     ]
    },
    {
     "name": "stdout",
     "output_type": "stream",
     "text": [
      "successfully get content\n"
     ]
    },
    {
     "name": "stderr",
     "output_type": "stream",
     "text": [
      "C:\\Users\\SHIHAO~1\\AppData\\Local\\Temp/ipykernel_58772/2202860112.py:5: FutureWarning: The frame.append method is deprecated and will be removed from pandas in a future version. Use pandas.concat instead.\n",
      "  df_detail = df_detail.append(get_rating(df['URL'].iloc[i]))\n"
     ]
    },
    {
     "name": "stdout",
     "output_type": "stream",
     "text": [
      "successfully get content\n"
     ]
    },
    {
     "name": "stderr",
     "output_type": "stream",
     "text": [
      "C:\\Users\\SHIHAO~1\\AppData\\Local\\Temp/ipykernel_58772/2202860112.py:5: FutureWarning: The frame.append method is deprecated and will be removed from pandas in a future version. Use pandas.concat instead.\n",
      "  df_detail = df_detail.append(get_rating(df['URL'].iloc[i]))\n"
     ]
    },
    {
     "name": "stdout",
     "output_type": "stream",
     "text": [
      "successfully get content\n"
     ]
    },
    {
     "name": "stderr",
     "output_type": "stream",
     "text": [
      "C:\\Users\\SHIHAO~1\\AppData\\Local\\Temp/ipykernel_58772/2202860112.py:7: FutureWarning: The default dtype for empty Series will be 'object' instead of 'float64' in a future version. Specify a dtype explicitly to silence this warning.\n",
      "  df_detail = df_detail.append(pd.Series(),ignore_index=True)\n",
      "C:\\Users\\SHIHAO~1\\AppData\\Local\\Temp/ipykernel_58772/2202860112.py:7: FutureWarning: The frame.append method is deprecated and will be removed from pandas in a future version. Use pandas.concat instead.\n",
      "  df_detail = df_detail.append(pd.Series(),ignore_index=True)\n"
     ]
    },
    {
     "name": "stdout",
     "output_type": "stream",
     "text": [
      "fail1\n",
      "fail2\n",
      "fail3\n"
     ]
    },
    {
     "name": "stderr",
     "output_type": "stream",
     "text": [
      "C:\\Users\\SHIHAO~1\\AppData\\Local\\Temp/ipykernel_58772/2202860112.py:7: FutureWarning: The default dtype for empty Series will be 'object' instead of 'float64' in a future version. Specify a dtype explicitly to silence this warning.\n",
      "  df_detail = df_detail.append(pd.Series(),ignore_index=True)\n",
      "C:\\Users\\SHIHAO~1\\AppData\\Local\\Temp/ipykernel_58772/2202860112.py:7: FutureWarning: The frame.append method is deprecated and will be removed from pandas in a future version. Use pandas.concat instead.\n",
      "  df_detail = df_detail.append(pd.Series(),ignore_index=True)\n"
     ]
    },
    {
     "name": "stdout",
     "output_type": "stream",
     "text": [
      "fail1\n",
      "fail2\n",
      "fail3\n"
     ]
    },
    {
     "name": "stderr",
     "output_type": "stream",
     "text": [
      "C:\\Users\\SHIHAO~1\\AppData\\Local\\Temp/ipykernel_58772/2202860112.py:7: FutureWarning: The default dtype for empty Series will be 'object' instead of 'float64' in a future version. Specify a dtype explicitly to silence this warning.\n",
      "  df_detail = df_detail.append(pd.Series(),ignore_index=True)\n",
      "C:\\Users\\SHIHAO~1\\AppData\\Local\\Temp/ipykernel_58772/2202860112.py:7: FutureWarning: The frame.append method is deprecated and will be removed from pandas in a future version. Use pandas.concat instead.\n",
      "  df_detail = df_detail.append(pd.Series(),ignore_index=True)\n"
     ]
    },
    {
     "name": "stdout",
     "output_type": "stream",
     "text": [
      "fail1\n",
      "fail2\n",
      "fail3\n"
     ]
    },
    {
     "name": "stderr",
     "output_type": "stream",
     "text": [
      "C:\\Users\\SHIHAO~1\\AppData\\Local\\Temp/ipykernel_58772/2202860112.py:7: FutureWarning: The default dtype for empty Series will be 'object' instead of 'float64' in a future version. Specify a dtype explicitly to silence this warning.\n",
      "  df_detail = df_detail.append(pd.Series(),ignore_index=True)\n",
      "C:\\Users\\SHIHAO~1\\AppData\\Local\\Temp/ipykernel_58772/2202860112.py:7: FutureWarning: The frame.append method is deprecated and will be removed from pandas in a future version. Use pandas.concat instead.\n",
      "  df_detail = df_detail.append(pd.Series(),ignore_index=True)\n"
     ]
    },
    {
     "name": "stdout",
     "output_type": "stream",
     "text": [
      "fail1\n",
      "fail2\n",
      "fail3\n"
     ]
    },
    {
     "name": "stderr",
     "output_type": "stream",
     "text": [
      "C:\\Users\\SHIHAO~1\\AppData\\Local\\Temp/ipykernel_58772/2202860112.py:7: FutureWarning: The default dtype for empty Series will be 'object' instead of 'float64' in a future version. Specify a dtype explicitly to silence this warning.\n",
      "  df_detail = df_detail.append(pd.Series(),ignore_index=True)\n",
      "C:\\Users\\SHIHAO~1\\AppData\\Local\\Temp/ipykernel_58772/2202860112.py:7: FutureWarning: The frame.append method is deprecated and will be removed from pandas in a future version. Use pandas.concat instead.\n",
      "  df_detail = df_detail.append(pd.Series(),ignore_index=True)\n"
     ]
    },
    {
     "name": "stdout",
     "output_type": "stream",
     "text": [
      "fail1\n",
      "successfully get content\n"
     ]
    },
    {
     "name": "stderr",
     "output_type": "stream",
     "text": [
      "C:\\Users\\SHIHAO~1\\AppData\\Local\\Temp/ipykernel_58772/2202860112.py:5: FutureWarning: The frame.append method is deprecated and will be removed from pandas in a future version. Use pandas.concat instead.\n",
      "  df_detail = df_detail.append(get_rating(df['URL'].iloc[i]))\n"
     ]
    },
    {
     "name": "stdout",
     "output_type": "stream",
     "text": [
      "successfully get content\n"
     ]
    },
    {
     "name": "stderr",
     "output_type": "stream",
     "text": [
      "C:\\Users\\SHIHAO~1\\AppData\\Local\\Temp/ipykernel_58772/2202860112.py:7: FutureWarning: The default dtype for empty Series will be 'object' instead of 'float64' in a future version. Specify a dtype explicitly to silence this warning.\n",
      "  df_detail = df_detail.append(pd.Series(),ignore_index=True)\n",
      "C:\\Users\\SHIHAO~1\\AppData\\Local\\Temp/ipykernel_58772/2202860112.py:7: FutureWarning: The frame.append method is deprecated and will be removed from pandas in a future version. Use pandas.concat instead.\n",
      "  df_detail = df_detail.append(pd.Series(),ignore_index=True)\n"
     ]
    },
    {
     "name": "stdout",
     "output_type": "stream",
     "text": [
      "successfully get content\n"
     ]
    },
    {
     "name": "stderr",
     "output_type": "stream",
     "text": [
      "C:\\Users\\SHIHAO~1\\AppData\\Local\\Temp/ipykernel_58772/2202860112.py:5: FutureWarning: The frame.append method is deprecated and will be removed from pandas in a future version. Use pandas.concat instead.\n",
      "  df_detail = df_detail.append(get_rating(df['URL'].iloc[i]))\n"
     ]
    },
    {
     "name": "stdout",
     "output_type": "stream",
     "text": [
      "successfully get content\n",
      "successfully get content\n"
     ]
    },
    {
     "name": "stderr",
     "output_type": "stream",
     "text": [
      "C:\\Users\\SHIHAO~1\\AppData\\Local\\Temp/ipykernel_58772/2202860112.py:5: FutureWarning: The frame.append method is deprecated and will be removed from pandas in a future version. Use pandas.concat instead.\n",
      "  df_detail = df_detail.append(get_rating(df['URL'].iloc[i]))\n"
     ]
    },
    {
     "name": "stdout",
     "output_type": "stream",
     "text": [
      "successfully get content\n"
     ]
    },
    {
     "name": "stderr",
     "output_type": "stream",
     "text": [
      "C:\\Users\\SHIHAO~1\\AppData\\Local\\Temp/ipykernel_58772/2202860112.py:5: FutureWarning: The frame.append method is deprecated and will be removed from pandas in a future version. Use pandas.concat instead.\n",
      "  df_detail = df_detail.append(get_rating(df['URL'].iloc[i]))\n"
     ]
    },
    {
     "name": "stdout",
     "output_type": "stream",
     "text": [
      "successfully get content\n"
     ]
    },
    {
     "name": "stderr",
     "output_type": "stream",
     "text": [
      "C:\\Users\\SHIHAO~1\\AppData\\Local\\Temp/ipykernel_58772/2202860112.py:5: FutureWarning: The frame.append method is deprecated and will be removed from pandas in a future version. Use pandas.concat instead.\n",
      "  df_detail = df_detail.append(get_rating(df['URL'].iloc[i]))\n"
     ]
    },
    {
     "name": "stdout",
     "output_type": "stream",
     "text": [
      "successfully get content\n"
     ]
    },
    {
     "name": "stderr",
     "output_type": "stream",
     "text": [
      "C:\\Users\\SHIHAO~1\\AppData\\Local\\Temp/ipykernel_58772/2202860112.py:5: FutureWarning: The frame.append method is deprecated and will be removed from pandas in a future version. Use pandas.concat instead.\n",
      "  df_detail = df_detail.append(get_rating(df['URL'].iloc[i]))\n"
     ]
    },
    {
     "name": "stdout",
     "output_type": "stream",
     "text": [
      "successfully get content\n"
     ]
    },
    {
     "name": "stderr",
     "output_type": "stream",
     "text": [
      "C:\\Users\\SHIHAO~1\\AppData\\Local\\Temp/ipykernel_58772/2202860112.py:5: FutureWarning: The frame.append method is deprecated and will be removed from pandas in a future version. Use pandas.concat instead.\n",
      "  df_detail = df_detail.append(get_rating(df['URL'].iloc[i]))\n"
     ]
    },
    {
     "name": "stdout",
     "output_type": "stream",
     "text": [
      "successfully get content\n"
     ]
    },
    {
     "name": "stderr",
     "output_type": "stream",
     "text": [
      "C:\\Users\\SHIHAO~1\\AppData\\Local\\Temp/ipykernel_58772/2202860112.py:5: FutureWarning: The frame.append method is deprecated and will be removed from pandas in a future version. Use pandas.concat instead.\n",
      "  df_detail = df_detail.append(get_rating(df['URL'].iloc[i]))\n"
     ]
    },
    {
     "name": "stdout",
     "output_type": "stream",
     "text": [
      "successfully get content\n"
     ]
    },
    {
     "name": "stderr",
     "output_type": "stream",
     "text": [
      "C:\\Users\\SHIHAO~1\\AppData\\Local\\Temp/ipykernel_58772/2202860112.py:5: FutureWarning: The frame.append method is deprecated and will be removed from pandas in a future version. Use pandas.concat instead.\n",
      "  df_detail = df_detail.append(get_rating(df['URL'].iloc[i]))\n"
     ]
    },
    {
     "name": "stdout",
     "output_type": "stream",
     "text": [
      "successfully get content\n"
     ]
    },
    {
     "name": "stderr",
     "output_type": "stream",
     "text": [
      "C:\\Users\\SHIHAO~1\\AppData\\Local\\Temp/ipykernel_58772/2202860112.py:5: FutureWarning: The frame.append method is deprecated and will be removed from pandas in a future version. Use pandas.concat instead.\n",
      "  df_detail = df_detail.append(get_rating(df['URL'].iloc[i]))\n"
     ]
    },
    {
     "name": "stdout",
     "output_type": "stream",
     "text": [
      "fail1\n",
      "fail2\n",
      "fail3\n"
     ]
    },
    {
     "name": "stderr",
     "output_type": "stream",
     "text": [
      "C:\\Users\\SHIHAO~1\\AppData\\Local\\Temp/ipykernel_58772/2202860112.py:7: FutureWarning: The default dtype for empty Series will be 'object' instead of 'float64' in a future version. Specify a dtype explicitly to silence this warning.\n",
      "  df_detail = df_detail.append(pd.Series(),ignore_index=True)\n",
      "C:\\Users\\SHIHAO~1\\AppData\\Local\\Temp/ipykernel_58772/2202860112.py:7: FutureWarning: The frame.append method is deprecated and will be removed from pandas in a future version. Use pandas.concat instead.\n",
      "  df_detail = df_detail.append(pd.Series(),ignore_index=True)\n"
     ]
    },
    {
     "name": "stdout",
     "output_type": "stream",
     "text": [
      "fail1\n",
      "fail2\n",
      "fail3\n"
     ]
    },
    {
     "name": "stderr",
     "output_type": "stream",
     "text": [
      "C:\\Users\\SHIHAO~1\\AppData\\Local\\Temp/ipykernel_58772/2202860112.py:7: FutureWarning: The default dtype for empty Series will be 'object' instead of 'float64' in a future version. Specify a dtype explicitly to silence this warning.\n",
      "  df_detail = df_detail.append(pd.Series(),ignore_index=True)\n",
      "C:\\Users\\SHIHAO~1\\AppData\\Local\\Temp/ipykernel_58772/2202860112.py:7: FutureWarning: The frame.append method is deprecated and will be removed from pandas in a future version. Use pandas.concat instead.\n",
      "  df_detail = df_detail.append(pd.Series(),ignore_index=True)\n"
     ]
    },
    {
     "name": "stdout",
     "output_type": "stream",
     "text": [
      "fail1\n",
      "fail2\n",
      "fail3\n"
     ]
    },
    {
     "name": "stderr",
     "output_type": "stream",
     "text": [
      "C:\\Users\\SHIHAO~1\\AppData\\Local\\Temp/ipykernel_58772/2202860112.py:7: FutureWarning: The default dtype for empty Series will be 'object' instead of 'float64' in a future version. Specify a dtype explicitly to silence this warning.\n",
      "  df_detail = df_detail.append(pd.Series(),ignore_index=True)\n",
      "C:\\Users\\SHIHAO~1\\AppData\\Local\\Temp/ipykernel_58772/2202860112.py:7: FutureWarning: The frame.append method is deprecated and will be removed from pandas in a future version. Use pandas.concat instead.\n",
      "  df_detail = df_detail.append(pd.Series(),ignore_index=True)\n"
     ]
    },
    {
     "name": "stdout",
     "output_type": "stream",
     "text": [
      "fail1\n",
      "fail2\n",
      "fail3\n"
     ]
    },
    {
     "name": "stderr",
     "output_type": "stream",
     "text": [
      "C:\\Users\\SHIHAO~1\\AppData\\Local\\Temp/ipykernel_58772/2202860112.py:7: FutureWarning: The default dtype for empty Series will be 'object' instead of 'float64' in a future version. Specify a dtype explicitly to silence this warning.\n",
      "  df_detail = df_detail.append(pd.Series(),ignore_index=True)\n",
      "C:\\Users\\SHIHAO~1\\AppData\\Local\\Temp/ipykernel_58772/2202860112.py:7: FutureWarning: The frame.append method is deprecated and will be removed from pandas in a future version. Use pandas.concat instead.\n",
      "  df_detail = df_detail.append(pd.Series(),ignore_index=True)\n"
     ]
    },
    {
     "name": "stdout",
     "output_type": "stream",
     "text": [
      "fail1\n",
      "fail2\n",
      "fail3\n"
     ]
    },
    {
     "name": "stderr",
     "output_type": "stream",
     "text": [
      "C:\\Users\\SHIHAO~1\\AppData\\Local\\Temp/ipykernel_58772/2202860112.py:7: FutureWarning: The default dtype for empty Series will be 'object' instead of 'float64' in a future version. Specify a dtype explicitly to silence this warning.\n",
      "  df_detail = df_detail.append(pd.Series(),ignore_index=True)\n",
      "C:\\Users\\SHIHAO~1\\AppData\\Local\\Temp/ipykernel_58772/2202860112.py:7: FutureWarning: The frame.append method is deprecated and will be removed from pandas in a future version. Use pandas.concat instead.\n",
      "  df_detail = df_detail.append(pd.Series(),ignore_index=True)\n"
     ]
    },
    {
     "name": "stdout",
     "output_type": "stream",
     "text": [
      "fail1\n",
      "fail2\n",
      "fail3\n"
     ]
    },
    {
     "name": "stderr",
     "output_type": "stream",
     "text": [
      "C:\\Users\\SHIHAO~1\\AppData\\Local\\Temp/ipykernel_58772/2202860112.py:7: FutureWarning: The default dtype for empty Series will be 'object' instead of 'float64' in a future version. Specify a dtype explicitly to silence this warning.\n",
      "  df_detail = df_detail.append(pd.Series(),ignore_index=True)\n",
      "C:\\Users\\SHIHAO~1\\AppData\\Local\\Temp/ipykernel_58772/2202860112.py:7: FutureWarning: The frame.append method is deprecated and will be removed from pandas in a future version. Use pandas.concat instead.\n",
      "  df_detail = df_detail.append(pd.Series(),ignore_index=True)\n"
     ]
    },
    {
     "name": "stdout",
     "output_type": "stream",
     "text": [
      "fail1\n",
      "fail2\n",
      "fail3\n"
     ]
    },
    {
     "name": "stderr",
     "output_type": "stream",
     "text": [
      "C:\\Users\\SHIHAO~1\\AppData\\Local\\Temp/ipykernel_58772/2202860112.py:7: FutureWarning: The default dtype for empty Series will be 'object' instead of 'float64' in a future version. Specify a dtype explicitly to silence this warning.\n",
      "  df_detail = df_detail.append(pd.Series(),ignore_index=True)\n",
      "C:\\Users\\SHIHAO~1\\AppData\\Local\\Temp/ipykernel_58772/2202860112.py:7: FutureWarning: The frame.append method is deprecated and will be removed from pandas in a future version. Use pandas.concat instead.\n",
      "  df_detail = df_detail.append(pd.Series(),ignore_index=True)\n"
     ]
    },
    {
     "name": "stdout",
     "output_type": "stream",
     "text": [
      "fail1\n",
      "fail2\n",
      "fail3\n"
     ]
    },
    {
     "name": "stderr",
     "output_type": "stream",
     "text": [
      "C:\\Users\\SHIHAO~1\\AppData\\Local\\Temp/ipykernel_58772/2202860112.py:7: FutureWarning: The default dtype for empty Series will be 'object' instead of 'float64' in a future version. Specify a dtype explicitly to silence this warning.\n",
      "  df_detail = df_detail.append(pd.Series(),ignore_index=True)\n",
      "C:\\Users\\SHIHAO~1\\AppData\\Local\\Temp/ipykernel_58772/2202860112.py:7: FutureWarning: The frame.append method is deprecated and will be removed from pandas in a future version. Use pandas.concat instead.\n",
      "  df_detail = df_detail.append(pd.Series(),ignore_index=True)\n"
     ]
    },
    {
     "name": "stdout",
     "output_type": "stream",
     "text": [
      "successfully get content\n"
     ]
    },
    {
     "name": "stderr",
     "output_type": "stream",
     "text": [
      "C:\\Users\\SHIHAO~1\\AppData\\Local\\Temp/ipykernel_58772/2202860112.py:5: FutureWarning: The frame.append method is deprecated and will be removed from pandas in a future version. Use pandas.concat instead.\n",
      "  df_detail = df_detail.append(get_rating(df['URL'].iloc[i]))\n"
     ]
    },
    {
     "name": "stdout",
     "output_type": "stream",
     "text": [
      "successfully get content\n"
     ]
    },
    {
     "name": "stderr",
     "output_type": "stream",
     "text": [
      "C:\\Users\\SHIHAO~1\\AppData\\Local\\Temp/ipykernel_58772/2202860112.py:7: FutureWarning: The default dtype for empty Series will be 'object' instead of 'float64' in a future version. Specify a dtype explicitly to silence this warning.\n",
      "  df_detail = df_detail.append(pd.Series(),ignore_index=True)\n",
      "C:\\Users\\SHIHAO~1\\AppData\\Local\\Temp/ipykernel_58772/2202860112.py:7: FutureWarning: The frame.append method is deprecated and will be removed from pandas in a future version. Use pandas.concat instead.\n",
      "  df_detail = df_detail.append(pd.Series(),ignore_index=True)\n"
     ]
    },
    {
     "name": "stdout",
     "output_type": "stream",
     "text": [
      "successfully get content\n"
     ]
    },
    {
     "name": "stderr",
     "output_type": "stream",
     "text": [
      "C:\\Users\\SHIHAO~1\\AppData\\Local\\Temp/ipykernel_58772/2202860112.py:7: FutureWarning: The default dtype for empty Series will be 'object' instead of 'float64' in a future version. Specify a dtype explicitly to silence this warning.\n",
      "  df_detail = df_detail.append(pd.Series(),ignore_index=True)\n",
      "C:\\Users\\SHIHAO~1\\AppData\\Local\\Temp/ipykernel_58772/2202860112.py:7: FutureWarning: The frame.append method is deprecated and will be removed from pandas in a future version. Use pandas.concat instead.\n",
      "  df_detail = df_detail.append(pd.Series(),ignore_index=True)\n"
     ]
    },
    {
     "name": "stdout",
     "output_type": "stream",
     "text": [
      "successfully get content\n"
     ]
    },
    {
     "name": "stderr",
     "output_type": "stream",
     "text": [
      "C:\\Users\\SHIHAO~1\\AppData\\Local\\Temp/ipykernel_58772/2202860112.py:5: FutureWarning: The frame.append method is deprecated and will be removed from pandas in a future version. Use pandas.concat instead.\n",
      "  df_detail = df_detail.append(get_rating(df['URL'].iloc[i]))\n"
     ]
    },
    {
     "name": "stdout",
     "output_type": "stream",
     "text": [
      "successfully get content\n",
      "successfully get content\n"
     ]
    },
    {
     "name": "stderr",
     "output_type": "stream",
     "text": [
      "C:\\Users\\SHIHAO~1\\AppData\\Local\\Temp/ipykernel_58772/2202860112.py:5: FutureWarning: The frame.append method is deprecated and will be removed from pandas in a future version. Use pandas.concat instead.\n",
      "  df_detail = df_detail.append(get_rating(df['URL'].iloc[i]))\n"
     ]
    },
    {
     "name": "stdout",
     "output_type": "stream",
     "text": [
      "successfully get content\n"
     ]
    },
    {
     "name": "stderr",
     "output_type": "stream",
     "text": [
      "C:\\Users\\SHIHAO~1\\AppData\\Local\\Temp/ipykernel_58772/2202860112.py:5: FutureWarning: The frame.append method is deprecated and will be removed from pandas in a future version. Use pandas.concat instead.\n",
      "  df_detail = df_detail.append(get_rating(df['URL'].iloc[i]))\n"
     ]
    },
    {
     "name": "stdout",
     "output_type": "stream",
     "text": [
      "successfully get content\n"
     ]
    },
    {
     "name": "stderr",
     "output_type": "stream",
     "text": [
      "C:\\Users\\SHIHAO~1\\AppData\\Local\\Temp/ipykernel_58772/2202860112.py:5: FutureWarning: The frame.append method is deprecated and will be removed from pandas in a future version. Use pandas.concat instead.\n",
      "  df_detail = df_detail.append(get_rating(df['URL'].iloc[i]))\n"
     ]
    },
    {
     "name": "stdout",
     "output_type": "stream",
     "text": [
      "successfully get content\n"
     ]
    },
    {
     "name": "stderr",
     "output_type": "stream",
     "text": [
      "C:\\Users\\SHIHAO~1\\AppData\\Local\\Temp/ipykernel_58772/2202860112.py:7: FutureWarning: The default dtype for empty Series will be 'object' instead of 'float64' in a future version. Specify a dtype explicitly to silence this warning.\n",
      "  df_detail = df_detail.append(pd.Series(),ignore_index=True)\n",
      "C:\\Users\\SHIHAO~1\\AppData\\Local\\Temp/ipykernel_58772/2202860112.py:7: FutureWarning: The frame.append method is deprecated and will be removed from pandas in a future version. Use pandas.concat instead.\n",
      "  df_detail = df_detail.append(pd.Series(),ignore_index=True)\n"
     ]
    },
    {
     "name": "stdout",
     "output_type": "stream",
     "text": [
      "successfully get content\n"
     ]
    },
    {
     "name": "stderr",
     "output_type": "stream",
     "text": [
      "C:\\Users\\SHIHAO~1\\AppData\\Local\\Temp/ipykernel_58772/2202860112.py:5: FutureWarning: The frame.append method is deprecated and will be removed from pandas in a future version. Use pandas.concat instead.\n",
      "  df_detail = df_detail.append(get_rating(df['URL'].iloc[i]))\n"
     ]
    },
    {
     "name": "stdout",
     "output_type": "stream",
     "text": [
      "successfully get content\n"
     ]
    },
    {
     "name": "stderr",
     "output_type": "stream",
     "text": [
      "C:\\Users\\SHIHAO~1\\AppData\\Local\\Temp/ipykernel_58772/2202860112.py:7: FutureWarning: The default dtype for empty Series will be 'object' instead of 'float64' in a future version. Specify a dtype explicitly to silence this warning.\n",
      "  df_detail = df_detail.append(pd.Series(),ignore_index=True)\n",
      "C:\\Users\\SHIHAO~1\\AppData\\Local\\Temp/ipykernel_58772/2202860112.py:7: FutureWarning: The frame.append method is deprecated and will be removed from pandas in a future version. Use pandas.concat instead.\n",
      "  df_detail = df_detail.append(pd.Series(),ignore_index=True)\n"
     ]
    },
    {
     "name": "stdout",
     "output_type": "stream",
     "text": [
      "successfully get content\n"
     ]
    },
    {
     "name": "stderr",
     "output_type": "stream",
     "text": [
      "C:\\Users\\SHIHAO~1\\AppData\\Local\\Temp/ipykernel_58772/2202860112.py:5: FutureWarning: The frame.append method is deprecated and will be removed from pandas in a future version. Use pandas.concat instead.\n",
      "  df_detail = df_detail.append(get_rating(df['URL'].iloc[i]))\n"
     ]
    },
    {
     "name": "stdout",
     "output_type": "stream",
     "text": [
      "successfully get content\n",
      "successfully get content\n"
     ]
    },
    {
     "name": "stderr",
     "output_type": "stream",
     "text": [
      "C:\\Users\\SHIHAO~1\\AppData\\Local\\Temp/ipykernel_58772/2202860112.py:5: FutureWarning: The frame.append method is deprecated and will be removed from pandas in a future version. Use pandas.concat instead.\n",
      "  df_detail = df_detail.append(get_rating(df['URL'].iloc[i]))\n"
     ]
    },
    {
     "name": "stdout",
     "output_type": "stream",
     "text": [
      "fail1\n",
      "fail2\n",
      "fail3\n"
     ]
    },
    {
     "name": "stderr",
     "output_type": "stream",
     "text": [
      "C:\\Users\\SHIHAO~1\\AppData\\Local\\Temp/ipykernel_58772/2202860112.py:7: FutureWarning: The default dtype for empty Series will be 'object' instead of 'float64' in a future version. Specify a dtype explicitly to silence this warning.\n",
      "  df_detail = df_detail.append(pd.Series(),ignore_index=True)\n",
      "C:\\Users\\SHIHAO~1\\AppData\\Local\\Temp/ipykernel_58772/2202860112.py:7: FutureWarning: The frame.append method is deprecated and will be removed from pandas in a future version. Use pandas.concat instead.\n",
      "  df_detail = df_detail.append(pd.Series(),ignore_index=True)\n"
     ]
    },
    {
     "name": "stdout",
     "output_type": "stream",
     "text": [
      "fail1\n",
      "fail2\n",
      "fail3\n"
     ]
    },
    {
     "name": "stderr",
     "output_type": "stream",
     "text": [
      "C:\\Users\\SHIHAO~1\\AppData\\Local\\Temp/ipykernel_58772/2202860112.py:7: FutureWarning: The default dtype for empty Series will be 'object' instead of 'float64' in a future version. Specify a dtype explicitly to silence this warning.\n",
      "  df_detail = df_detail.append(pd.Series(),ignore_index=True)\n",
      "C:\\Users\\SHIHAO~1\\AppData\\Local\\Temp/ipykernel_58772/2202860112.py:7: FutureWarning: The frame.append method is deprecated and will be removed from pandas in a future version. Use pandas.concat instead.\n",
      "  df_detail = df_detail.append(pd.Series(),ignore_index=True)\n"
     ]
    },
    {
     "name": "stdout",
     "output_type": "stream",
     "text": [
      "fail1\n",
      "fail2\n",
      "fail3\n"
     ]
    },
    {
     "name": "stderr",
     "output_type": "stream",
     "text": [
      "C:\\Users\\SHIHAO~1\\AppData\\Local\\Temp/ipykernel_58772/2202860112.py:7: FutureWarning: The default dtype for empty Series will be 'object' instead of 'float64' in a future version. Specify a dtype explicitly to silence this warning.\n",
      "  df_detail = df_detail.append(pd.Series(),ignore_index=True)\n",
      "C:\\Users\\SHIHAO~1\\AppData\\Local\\Temp/ipykernel_58772/2202860112.py:7: FutureWarning: The frame.append method is deprecated and will be removed from pandas in a future version. Use pandas.concat instead.\n",
      "  df_detail = df_detail.append(pd.Series(),ignore_index=True)\n"
     ]
    },
    {
     "name": "stdout",
     "output_type": "stream",
     "text": [
      "fail1\n",
      "fail2\n",
      "fail3\n"
     ]
    },
    {
     "name": "stderr",
     "output_type": "stream",
     "text": [
      "C:\\Users\\SHIHAO~1\\AppData\\Local\\Temp/ipykernel_58772/2202860112.py:7: FutureWarning: The default dtype for empty Series will be 'object' instead of 'float64' in a future version. Specify a dtype explicitly to silence this warning.\n",
      "  df_detail = df_detail.append(pd.Series(),ignore_index=True)\n",
      "C:\\Users\\SHIHAO~1\\AppData\\Local\\Temp/ipykernel_58772/2202860112.py:7: FutureWarning: The frame.append method is deprecated and will be removed from pandas in a future version. Use pandas.concat instead.\n",
      "  df_detail = df_detail.append(pd.Series(),ignore_index=True)\n"
     ]
    },
    {
     "name": "stdout",
     "output_type": "stream",
     "text": [
      "fail1\n",
      "fail2\n",
      "fail3\n"
     ]
    },
    {
     "name": "stderr",
     "output_type": "stream",
     "text": [
      "C:\\Users\\SHIHAO~1\\AppData\\Local\\Temp/ipykernel_58772/2202860112.py:7: FutureWarning: The default dtype for empty Series will be 'object' instead of 'float64' in a future version. Specify a dtype explicitly to silence this warning.\n",
      "  df_detail = df_detail.append(pd.Series(),ignore_index=True)\n",
      "C:\\Users\\SHIHAO~1\\AppData\\Local\\Temp/ipykernel_58772/2202860112.py:7: FutureWarning: The frame.append method is deprecated and will be removed from pandas in a future version. Use pandas.concat instead.\n",
      "  df_detail = df_detail.append(pd.Series(),ignore_index=True)\n"
     ]
    },
    {
     "name": "stdout",
     "output_type": "stream",
     "text": [
      "successfully get content\n"
     ]
    },
    {
     "name": "stderr",
     "output_type": "stream",
     "text": [
      "C:\\Users\\SHIHAO~1\\AppData\\Local\\Temp/ipykernel_58772/2202860112.py:5: FutureWarning: The frame.append method is deprecated and will be removed from pandas in a future version. Use pandas.concat instead.\n",
      "  df_detail = df_detail.append(get_rating(df['URL'].iloc[i]))\n"
     ]
    },
    {
     "name": "stdout",
     "output_type": "stream",
     "text": [
      "successfully get content\n",
      "successfully get content\n"
     ]
    },
    {
     "name": "stderr",
     "output_type": "stream",
     "text": [
      "C:\\Users\\SHIHAO~1\\AppData\\Local\\Temp/ipykernel_58772/2202860112.py:5: FutureWarning: The frame.append method is deprecated and will be removed from pandas in a future version. Use pandas.concat instead.\n",
      "  df_detail = df_detail.append(get_rating(df['URL'].iloc[i]))\n"
     ]
    },
    {
     "name": "stdout",
     "output_type": "stream",
     "text": [
      "successfully get content\n"
     ]
    },
    {
     "name": "stderr",
     "output_type": "stream",
     "text": [
      "C:\\Users\\SHIHAO~1\\AppData\\Local\\Temp/ipykernel_58772/2202860112.py:5: FutureWarning: The frame.append method is deprecated and will be removed from pandas in a future version. Use pandas.concat instead.\n",
      "  df_detail = df_detail.append(get_rating(df['URL'].iloc[i]))\n"
     ]
    },
    {
     "name": "stdout",
     "output_type": "stream",
     "text": [
      "successfully get content\n"
     ]
    },
    {
     "name": "stderr",
     "output_type": "stream",
     "text": [
      "C:\\Users\\SHIHAO~1\\AppData\\Local\\Temp/ipykernel_58772/2202860112.py:5: FutureWarning: The frame.append method is deprecated and will be removed from pandas in a future version. Use pandas.concat instead.\n",
      "  df_detail = df_detail.append(get_rating(df['URL'].iloc[i]))\n"
     ]
    },
    {
     "name": "stdout",
     "output_type": "stream",
     "text": [
      "successfully get content\n"
     ]
    },
    {
     "name": "stderr",
     "output_type": "stream",
     "text": [
      "C:\\Users\\SHIHAO~1\\AppData\\Local\\Temp/ipykernel_58772/2202860112.py:5: FutureWarning: The frame.append method is deprecated and will be removed from pandas in a future version. Use pandas.concat instead.\n",
      "  df_detail = df_detail.append(get_rating(df['URL'].iloc[i]))\n"
     ]
    },
    {
     "name": "stdout",
     "output_type": "stream",
     "text": [
      "successfully get content\n"
     ]
    },
    {
     "name": "stderr",
     "output_type": "stream",
     "text": [
      "C:\\Users\\SHIHAO~1\\AppData\\Local\\Temp/ipykernel_58772/2202860112.py:7: FutureWarning: The default dtype for empty Series will be 'object' instead of 'float64' in a future version. Specify a dtype explicitly to silence this warning.\n",
      "  df_detail = df_detail.append(pd.Series(),ignore_index=True)\n",
      "C:\\Users\\SHIHAO~1\\AppData\\Local\\Temp/ipykernel_58772/2202860112.py:7: FutureWarning: The frame.append method is deprecated and will be removed from pandas in a future version. Use pandas.concat instead.\n",
      "  df_detail = df_detail.append(pd.Series(),ignore_index=True)\n"
     ]
    },
    {
     "name": "stdout",
     "output_type": "stream",
     "text": [
      "successfully get content\n"
     ]
    },
    {
     "name": "stderr",
     "output_type": "stream",
     "text": [
      "C:\\Users\\SHIHAO~1\\AppData\\Local\\Temp/ipykernel_58772/2202860112.py:7: FutureWarning: The default dtype for empty Series will be 'object' instead of 'float64' in a future version. Specify a dtype explicitly to silence this warning.\n",
      "  df_detail = df_detail.append(pd.Series(),ignore_index=True)\n",
      "C:\\Users\\SHIHAO~1\\AppData\\Local\\Temp/ipykernel_58772/2202860112.py:7: FutureWarning: The frame.append method is deprecated and will be removed from pandas in a future version. Use pandas.concat instead.\n",
      "  df_detail = df_detail.append(pd.Series(),ignore_index=True)\n"
     ]
    },
    {
     "name": "stdout",
     "output_type": "stream",
     "text": [
      "successfully get content\n"
     ]
    },
    {
     "name": "stderr",
     "output_type": "stream",
     "text": [
      "C:\\Users\\SHIHAO~1\\AppData\\Local\\Temp/ipykernel_58772/2202860112.py:5: FutureWarning: The frame.append method is deprecated and will be removed from pandas in a future version. Use pandas.concat instead.\n",
      "  df_detail = df_detail.append(get_rating(df['URL'].iloc[i]))\n"
     ]
    },
    {
     "name": "stdout",
     "output_type": "stream",
     "text": [
      "successfully get content\n"
     ]
    }
   ],
   "source": [
    "#get all content from name list\n",
    "df_detail = pd.DataFrame()\n",
    "for i in range(300):\n",
    "    try:\n",
    "        df_detail = df_detail.append(get_rating(df['URL'].iloc[i])) \n",
    "    except:\n",
    "        df_detail = df_detail.append(pd.Series(),ignore_index=True) \n",
    "        \n",
    "        \n",
    "df_detail.to_csv('df_detail1_local.csv')"
   ]
  },
  {
   "cell_type": "code",
   "execution_count": null,
   "id": "2fcb5f96",
   "metadata": {},
   "outputs": [],
   "source": []
  },
  {
   "cell_type": "code",
   "execution_count": 43,
   "id": "0226a02d",
   "metadata": {},
   "outputs": [],
   "source": [
    "df_file1 = pd.read_csv('df_detail_v2.csv',encoding='latin1')\n",
    "df_file2 = pd.read_csv('df_detail_v1.2.csv',encoding='latin1')"
   ]
  },
  {
   "cell_type": "code",
   "execution_count": 44,
   "id": "feec9399",
   "metadata": {},
   "outputs": [
    {
     "data": {
      "text/plain": [
       "Unnamed: 0.1      0\n",
       "Unnamed: 0        0\n",
       "rating           75\n",
       "n_reviews        75\n",
       "f_rating         75\n",
       "s_rating         75\n",
       "v_rating         75\n",
       "about           233\n",
       "price_range      75\n",
       "s_diets          75\n",
       "cuisines         75\n",
       "features        244\n",
       "dtype: int64"
      ]
     },
     "execution_count": 44,
     "metadata": {},
     "output_type": "execute_result"
    }
   ],
   "source": [
    "df_file1.isna().sum()"
   ]
  },
  {
   "cell_type": "code",
   "execution_count": 45,
   "id": "b422ab71",
   "metadata": {},
   "outputs": [
    {
     "data": {
      "text/plain": [
       "Unnamed: 0.1      0\n",
       "Unnamed: 0        0\n",
       "rating          109\n",
       "n_reviews       109\n",
       "f_rating        109\n",
       "s_rating        109\n",
       "v_rating        109\n",
       "about           243\n",
       "price_range     109\n",
       "s_diets         109\n",
       "cuisines        109\n",
       "features        250\n",
       "dtype: int64"
      ]
     },
     "execution_count": 45,
     "metadata": {},
     "output_type": "execute_result"
    }
   ],
   "source": [
    "df_file2.isna().sum()"
   ]
  },
  {
   "cell_type": "code",
   "execution_count": 46,
   "id": "f998ac31",
   "metadata": {},
   "outputs": [],
   "source": [
    "df_file1.update(df_file2)"
   ]
  },
  {
   "cell_type": "code",
   "execution_count": 47,
   "id": "db34ad1e",
   "metadata": {},
   "outputs": [
    {
     "data": {
      "text/plain": [
       "Unnamed: 0.1      0\n",
       "Unnamed: 0        0\n",
       "rating           52\n",
       "n_reviews        52\n",
       "f_rating         52\n",
       "s_rating         52\n",
       "v_rating         52\n",
       "about           225\n",
       "price_range      52\n",
       "s_diets          52\n",
       "cuisines         52\n",
       "features        236\n",
       "dtype: int64"
      ]
     },
     "execution_count": 47,
     "metadata": {},
     "output_type": "execute_result"
    }
   ],
   "source": [
    "df_file1.isna().sum()"
   ]
  },
  {
   "cell_type": "code",
   "execution_count": 48,
   "id": "22da3a6b",
   "metadata": {},
   "outputs": [],
   "source": [
    "df_file1.to_csv('df_detail_v3.csv')"
   ]
  },
  {
   "cell_type": "code",
   "execution_count": null,
   "id": "46c7719b",
   "metadata": {},
   "outputs": [],
   "source": []
  }
 ],
 "metadata": {
  "kernelspec": {
   "display_name": "Python 3 (ipykernel)",
   "language": "python",
   "name": "python3"
  },
  "language_info": {
   "codemirror_mode": {
    "name": "ipython",
    "version": 3
   },
   "file_extension": ".py",
   "mimetype": "text/x-python",
   "name": "python",
   "nbconvert_exporter": "python",
   "pygments_lexer": "ipython3",
   "version": "3.8.12"
  }
 },
 "nbformat": 4,
 "nbformat_minor": 5
}
